{
  "nbformat": 4,
  "nbformat_minor": 0,
  "metadata": {
    "colab": {
      "name": "DS_Sprint_Challenge_6_SOLUTION_EXAMPLE.ipynb",
      "provenance": [],
      "collapsed_sections": [],
      "include_colab_link": true
    },
    "kernelspec": {
      "display_name": "Python 3",
      "language": "python",
      "name": "python3"
    },
    "language_info": {
      "codemirror_mode": {
        "name": "ipython",
        "version": 3
      },
      "file_extension": ".py",
      "mimetype": "text/x-python",
      "name": "python",
      "nbconvert_exporter": "python",
      "pygments_lexer": "ipython3",
      "version": "3.7.3"
    }
  },
  "cells": [
    {
      "cell_type": "markdown",
      "metadata": {
        "id": "view-in-github",
        "colab_type": "text"
      },
      "source": [
        "<a href=\"https://colab.research.google.com/github/Nolanole/DS-Unit-2-Kaggle-Challenge/blob/master/DS_Sprint_Challenge_6_SOLUTION_EXAMPLE.ipynb\" target=\"_parent\"><img src=\"https://colab.research.google.com/assets/colab-badge.svg\" alt=\"Open In Colab\"/></a>"
      ]
    },
    {
      "cell_type": "markdown",
      "metadata": {
        "colab_type": "text",
        "id": "M3XH_XLsy_Bn"
      },
      "source": [
        "_Lambda School Data Science, Unit 2_\n",
        " \n",
        "# Sprint Challenge: Predict Steph Curry's shots 🏀\n",
        "\n",
        "For your Sprint Challenge, you'll use a dataset with all Steph Curry's NBA field goal attempts. (Regular season and playoff games, from October 28, 2009, through June 5, 2019.) \n",
        "\n",
        "You'll predict whether each shot was made, using information about the shot and the game. This is hard to predict! Try to get above 60% accuracy. The dataset was collected with the [nba_api](https://github.com/swar/nba_api) Python library."
      ]
    },
    {
      "cell_type": "code",
      "metadata": {
        "colab_type": "code",
        "id": "Nw3CL7TE7tNq",
        "colab": {}
      },
      "source": [
        "%%capture\n",
        "import sys\n",
        "\n",
        "if 'google.colab' in sys.modules:\n",
        "    # Install packages in Colab\n",
        "    !pip install category_encoders==2.*\n",
        "    !pip install pandas-profiling==2.*"
      ],
      "execution_count": 0,
      "outputs": []
    },
    {
      "cell_type": "code",
      "metadata": {
        "colab_type": "code",
        "id": "-Nm24pCHy_Bo",
        "colab": {}
      },
      "source": [
        "# Read data\n",
        "import pandas as pd\n",
        "url = 'https://drive.google.com/uc?export=download&id=1fL7KPyxgGYfQDsuJoBWHIWwCAf-HTFpX'\n",
        "df = pd.read_csv(url)\n",
        "\n",
        "# Check data shape\n",
        "assert df.shape == (13958, 20)"
      ],
      "execution_count": 0,
      "outputs": []
    },
    {
      "cell_type": "markdown",
      "metadata": {
        "colab_type": "text",
        "id": "B8BvDKLFy_Bq"
      },
      "source": [
        "To demonstrate mastery on your Sprint Challenge, do all the required, numbered instructions in this notebook.\n",
        "\n",
        "To earn a score of \"3\", also do all the stretch goals.\n",
        "\n",
        "You are permitted and encouraged to do as much data exploration as you want.\n",
        "\n",
        "**1. Begin with baselines for classification.** Your target to predict is `shot_made_flag`. What is your baseline accuracy, if you guessed the majority class for every prediction?\n",
        "\n",
        "**2. Hold out your test set.** Use the 2018-19 season to test. NBA seasons begin in October and end in June. You'll know you've split the data correctly when your test set has 1,709 observations.\n",
        "\n",
        "**3. Engineer new feature.** Engineer at least **1** new feature, from this list, or your own idea.\n",
        "- **Homecourt Advantage**: Is the home team (`htm`) the Golden State Warriors (`GSW`) ?\n",
        "- **Opponent**: Who is the other team playing the Golden State Warriors?\n",
        "- **Seconds remaining in the period**: Combine minutes remaining with seconds remaining, to get the total number of seconds remaining in the period.\n",
        "- **Seconds remaining in the game**: Combine period, and seconds remaining in the period, to get the total number of seconds remaining in the game. A basketball game has 4 periods, each 12 minutes long.\n",
        "- **Made previous shot**: Was Steph Curry's previous shot successful?\n",
        "\n",
        "**4. Decide how to validate** your model. Choose one of the following options. Any of these options are good. You are not graded on which you choose.\n",
        "- **Train/validate/test split: train on the 2009-10 season through 2016-17 season, validate with the 2017-18 season.** You'll know you've split the data correctly when your train set has 11,081 observations, and your validation set has 1,168 observations.\n",
        "- **Train/validate/test split: random 80/20%** train/validate split.\n",
        "- **Cross-validation** with independent test set. You may use any scikit-learn cross-validation method.\n",
        "\n",
        "**5.** Use a scikit-learn **pipeline** to **encode categoricals** and fit a **Decision Tree** or **Random Forest** model.\n",
        "\n",
        "**6.** Get your model's **validation accuracy.** (Multiple times if you try multiple iterations.) \n",
        "\n",
        "**7.** Get your model's **test accuracy.** (One time, at the end.)\n",
        "\n",
        "\n",
        "**8.** Given a **confusion matrix** for a hypothetical binary classification model, **calculate accuracy, precision, and recall.**\n",
        "\n",
        "### Stretch Goals\n",
        "- Make 2+ visualizations to explore relationships between features and target.\n",
        "- Engineer 4+ new features total, either from the list above, or your own ideas.\n",
        "- Optimize 3+ hyperparameters by trying 10+ \"candidates\" (possible combinations of hyperparameters). You can use `RandomizedSearchCV` or do it manually.\n",
        "- Get and plot your model's feature importances.\n",
        "\n"
      ]
    },
    {
      "cell_type": "markdown",
      "metadata": {
        "colab_type": "text",
        "id": "t6Jt3qjQ-zig"
      },
      "source": [
        "## 1. Begin with baselines for classification. \n",
        "\n",
        ">Your target to predict is `shot_made_flag`. What would your baseline accuracy be, if you guessed the majority class for every prediction?"
      ]
    },
    {
      "cell_type": "markdown",
      "metadata": {
        "colab_type": "text",
        "id": "iFsDDq6v_F75"
      },
      "source": [
        "52.7%, which is the frequency of the majority class (`shot_made_flag == 0`).\n",
        "\n",
        "This number is `1 - Field Goal Percentage` for this dataset."
      ]
    },
    {
      "cell_type": "code",
      "metadata": {
        "colab_type": "code",
        "id": "I0BDeNFG_Kee",
        "outputId": "72d34029-85d6-46c7-9dea-82a82c60c551",
        "colab": {
          "base_uri": "https://localhost:8080/",
          "height": 72
        }
      },
      "source": [
        "df['shot_made_flag'].value_counts(normalize=True)"
      ],
      "execution_count": 3,
      "outputs": [
        {
          "output_type": "execute_result",
          "data": {
            "text/plain": [
              "0    0.527081\n",
              "1    0.472919\n",
              "Name: shot_made_flag, dtype: float64"
            ]
          },
          "metadata": {
            "tags": []
          },
          "execution_count": 3
        }
      ]
    },
    {
      "cell_type": "markdown",
      "metadata": {
        "colab_type": "text",
        "id": "Dz2QHBiVy_Br"
      },
      "source": [
        "## 2. Hold out your test set.\n",
        "\n",
        ">Use the 2018-19 season to test. NBA seasons begin in October and end in June. You'll know you've split the data correctly when your test set has 1,709 observations."
      ]
    },
    {
      "cell_type": "code",
      "metadata": {
        "colab_type": "code",
        "id": "OPod6lBG_wTT",
        "colab": {}
      },
      "source": [
        "df = df.set_index('game_date')\n",
        "train = df[:'2018-09:30']\n",
        "test = df['2018-10-01':]"
      ],
      "execution_count": 0,
      "outputs": []
    },
    {
      "cell_type": "code",
      "metadata": {
        "colab_type": "code",
        "id": "QDyocylIAFfo",
        "outputId": "1dec837e-c828-47d5-dd88-9d6811169cfb",
        "colab": {
          "base_uri": "https://localhost:8080/",
          "height": 126
        }
      },
      "source": [
        "test.index"
      ],
      "execution_count": 5,
      "outputs": [
        {
          "output_type": "execute_result",
          "data": {
            "text/plain": [
              "Index(['2018-10-16', '2018-10-16', '2018-10-16', '2018-10-16', '2018-10-16',\n",
              "       '2018-10-16', '2018-10-16', '2018-10-16', '2018-10-16', '2018-10-16',\n",
              "       ...\n",
              "       '2019-06-05', '2019-06-05', '2019-06-05', '2019-06-05', '2019-06-05',\n",
              "       '2019-06-05', '2019-06-05', '2019-06-05', '2019-06-05', '2019-06-05'],\n",
              "      dtype='object', name='game_date', length=1709)"
            ]
          },
          "metadata": {
            "tags": []
          },
          "execution_count": 5
        }
      ]
    },
    {
      "cell_type": "markdown",
      "metadata": {
        "colab_type": "text",
        "id": "P9Nihzk6y_CF"
      },
      "source": [
        "## 3. Engineer new feature.\n",
        "\n",
        ">Engineer at least **1** new feature, from this list, or your own idea.\n",
        ">\n",
        ">- **Homecourt Advantage**: Is the home team (`htm`) the Golden State Warriors (`GSW`) ?\n",
        ">- **Opponent**: Who is the other team playing the Golden State Warriors?\n",
        ">- **Seconds remaining in the period**: Combine minutes remaining with seconds remaining, to get the total number of seconds remaining in the period.\n",
        ">- **Seconds remaining in the game**: Combine period, and seconds remaining in the period, to get the total number of seconds remaining in the game. A basketball game has 4 periods, each 12 minutes long.\n",
        ">- **Made previous shot**: Was Steph Curry's previous shot successful?\n",
        "\n",
        "    "
      ]
    },
    {
      "cell_type": "markdown",
      "metadata": {
        "id": "if5KKIKBQEoZ",
        "colab_type": "text"
      },
      "source": [
        "_**The data is explained in an [old solution video @ 5:25](https://youtu.be/ZegpSyt3fyc?t=325).**_"
      ]
    },
    {
      "cell_type": "code",
      "metadata": {
        "colab_type": "code",
        "id": "A0pxdFtWy_Bz",
        "outputId": "1efd44c7-8738-4a0a-b750-97c06fc49762",
        "colab": {
          "base_uri": "https://localhost:8080/",
          "height": 308
        }
      },
      "source": [
        "train.describe()"
      ],
      "execution_count": 6,
      "outputs": [
        {
          "output_type": "execute_result",
          "data": {
            "text/html": [
              "<div>\n",
              "<style scoped>\n",
              "    .dataframe tbody tr th:only-of-type {\n",
              "        vertical-align: middle;\n",
              "    }\n",
              "\n",
              "    .dataframe tbody tr th {\n",
              "        vertical-align: top;\n",
              "    }\n",
              "\n",
              "    .dataframe thead th {\n",
              "        text-align: right;\n",
              "    }\n",
              "</style>\n",
              "<table border=\"1\" class=\"dataframe\">\n",
              "  <thead>\n",
              "    <tr style=\"text-align: right;\">\n",
              "      <th></th>\n",
              "      <th>game_id</th>\n",
              "      <th>game_event_id</th>\n",
              "      <th>period</th>\n",
              "      <th>minutes_remaining</th>\n",
              "      <th>seconds_remaining</th>\n",
              "      <th>shot_distance</th>\n",
              "      <th>loc_x</th>\n",
              "      <th>loc_y</th>\n",
              "      <th>shot_made_flag</th>\n",
              "      <th>scoremargin_before_shot</th>\n",
              "    </tr>\n",
              "  </thead>\n",
              "  <tbody>\n",
              "    <tr>\n",
              "      <th>count</th>\n",
              "      <td>1.224900e+04</td>\n",
              "      <td>12249.000000</td>\n",
              "      <td>12249.000000</td>\n",
              "      <td>12249.000000</td>\n",
              "      <td>12249.000000</td>\n",
              "      <td>12249.000000</td>\n",
              "      <td>12249.000000</td>\n",
              "      <td>12249.000000</td>\n",
              "      <td>12249.000000</td>\n",
              "      <td>12249.000000</td>\n",
              "    </tr>\n",
              "    <tr>\n",
              "      <th>mean</th>\n",
              "      <td>2.419250e+07</td>\n",
              "      <td>261.560454</td>\n",
              "      <td>2.411952</td>\n",
              "      <td>4.747326</td>\n",
              "      <td>28.500204</td>\n",
              "      <td>17.376929</td>\n",
              "      <td>0.034697</td>\n",
              "      <td>129.651318</td>\n",
              "      <td>0.473835</td>\n",
              "      <td>1.479304</td>\n",
              "    </tr>\n",
              "    <tr>\n",
              "      <th>std</th>\n",
              "      <td>7.043296e+06</td>\n",
              "      <td>163.570728</td>\n",
              "      <td>1.127172</td>\n",
              "      <td>3.333775</td>\n",
              "      <td>17.585696</td>\n",
              "      <td>10.233256</td>\n",
              "      <td>123.350863</td>\n",
              "      <td>101.856489</td>\n",
              "      <td>0.499335</td>\n",
              "      <td>10.176925</td>\n",
              "    </tr>\n",
              "    <tr>\n",
              "      <th>min</th>\n",
              "      <td>2.090002e+07</td>\n",
              "      <td>2.000000</td>\n",
              "      <td>1.000000</td>\n",
              "      <td>0.000000</td>\n",
              "      <td>0.000000</td>\n",
              "      <td>0.000000</td>\n",
              "      <td>-250.000000</td>\n",
              "      <td>-41.000000</td>\n",
              "      <td>0.000000</td>\n",
              "      <td>-39.000000</td>\n",
              "    </tr>\n",
              "    <tr>\n",
              "      <th>25%</th>\n",
              "      <td>2.120054e+07</td>\n",
              "      <td>104.000000</td>\n",
              "      <td>1.000000</td>\n",
              "      <td>2.000000</td>\n",
              "      <td>13.000000</td>\n",
              "      <td>8.000000</td>\n",
              "      <td>-92.000000</td>\n",
              "      <td>23.000000</td>\n",
              "      <td>0.000000</td>\n",
              "      <td>-5.000000</td>\n",
              "    </tr>\n",
              "    <tr>\n",
              "      <th>50%</th>\n",
              "      <td>2.140079e+07</td>\n",
              "      <td>268.000000</td>\n",
              "      <td>2.000000</td>\n",
              "      <td>4.000000</td>\n",
              "      <td>29.000000</td>\n",
              "      <td>21.000000</td>\n",
              "      <td>1.000000</td>\n",
              "      <td>139.000000</td>\n",
              "      <td>0.000000</td>\n",
              "      <td>1.000000</td>\n",
              "    </tr>\n",
              "    <tr>\n",
              "      <th>75%</th>\n",
              "      <td>2.160085e+07</td>\n",
              "      <td>385.000000</td>\n",
              "      <td>3.000000</td>\n",
              "      <td>7.000000</td>\n",
              "      <td>43.000000</td>\n",
              "      <td>25.000000</td>\n",
              "      <td>94.000000</td>\n",
              "      <td>216.000000</td>\n",
              "      <td>1.000000</td>\n",
              "      <td>8.000000</td>\n",
              "    </tr>\n",
              "    <tr>\n",
              "      <th>max</th>\n",
              "      <td>4.170040e+07</td>\n",
              "      <td>712.000000</td>\n",
              "      <td>6.000000</td>\n",
              "      <td>11.000000</td>\n",
              "      <td>59.000000</td>\n",
              "      <td>83.000000</td>\n",
              "      <td>247.000000</td>\n",
              "      <td>811.000000</td>\n",
              "      <td>1.000000</td>\n",
              "      <td>43.000000</td>\n",
              "    </tr>\n",
              "  </tbody>\n",
              "</table>\n",
              "</div>"
            ],
            "text/plain": [
              "            game_id  game_event_id  ...  shot_made_flag  scoremargin_before_shot\n",
              "count  1.224900e+04   12249.000000  ...    12249.000000             12249.000000\n",
              "mean   2.419250e+07     261.560454  ...        0.473835                 1.479304\n",
              "std    7.043296e+06     163.570728  ...        0.499335                10.176925\n",
              "min    2.090002e+07       2.000000  ...        0.000000               -39.000000\n",
              "25%    2.120054e+07     104.000000  ...        0.000000                -5.000000\n",
              "50%    2.140079e+07     268.000000  ...        0.000000                 1.000000\n",
              "75%    2.160085e+07     385.000000  ...        1.000000                 8.000000\n",
              "max    4.170040e+07     712.000000  ...        1.000000                43.000000\n",
              "\n",
              "[8 rows x 10 columns]"
            ]
          },
          "metadata": {
            "tags": []
          },
          "execution_count": 6
        }
      ]
    },
    {
      "cell_type": "code",
      "metadata": {
        "colab_type": "code",
        "id": "jLwkRGERy_B1",
        "outputId": "a65d4ca7-d771-4ad9-cf7f-461d73290d99",
        "colab": {
          "base_uri": "https://localhost:8080/",
          "height": 205
        }
      },
      "source": [
        "train.describe(exclude='number')"
      ],
      "execution_count": 7,
      "outputs": [
        {
          "output_type": "execute_result",
          "data": {
            "text/html": [
              "<div>\n",
              "<style scoped>\n",
              "    .dataframe tbody tr th:only-of-type {\n",
              "        vertical-align: middle;\n",
              "    }\n",
              "\n",
              "    .dataframe tbody tr th {\n",
              "        vertical-align: top;\n",
              "    }\n",
              "\n",
              "    .dataframe thead th {\n",
              "        text-align: right;\n",
              "    }\n",
              "</style>\n",
              "<table border=\"1\" class=\"dataframe\">\n",
              "  <thead>\n",
              "    <tr style=\"text-align: right;\">\n",
              "      <th></th>\n",
              "      <th>player_name</th>\n",
              "      <th>action_type</th>\n",
              "      <th>shot_type</th>\n",
              "      <th>shot_zone_basic</th>\n",
              "      <th>shot_zone_area</th>\n",
              "      <th>shot_zone_range</th>\n",
              "      <th>htm</th>\n",
              "      <th>vtm</th>\n",
              "      <th>season_type</th>\n",
              "    </tr>\n",
              "  </thead>\n",
              "  <tbody>\n",
              "    <tr>\n",
              "      <th>count</th>\n",
              "      <td>12249</td>\n",
              "      <td>12249</td>\n",
              "      <td>12249</td>\n",
              "      <td>12249</td>\n",
              "      <td>12249</td>\n",
              "      <td>12249</td>\n",
              "      <td>12249</td>\n",
              "      <td>12249</td>\n",
              "      <td>12249</td>\n",
              "    </tr>\n",
              "    <tr>\n",
              "      <th>unique</th>\n",
              "      <td>1</td>\n",
              "      <td>52</td>\n",
              "      <td>2</td>\n",
              "      <td>7</td>\n",
              "      <td>6</td>\n",
              "      <td>5</td>\n",
              "      <td>32</td>\n",
              "      <td>32</td>\n",
              "      <td>2</td>\n",
              "    </tr>\n",
              "    <tr>\n",
              "      <th>top</th>\n",
              "      <td>Stephen Curry</td>\n",
              "      <td>Jump Shot</td>\n",
              "      <td>2PT Field Goal</td>\n",
              "      <td>Above the Break 3</td>\n",
              "      <td>Center(C)</td>\n",
              "      <td>24+ ft.</td>\n",
              "      <td>GSW</td>\n",
              "      <td>GSW</td>\n",
              "      <td>Regular Season</td>\n",
              "    </tr>\n",
              "    <tr>\n",
              "      <th>freq</th>\n",
              "      <td>12249</td>\n",
              "      <td>5916</td>\n",
              "      <td>6446</td>\n",
              "      <td>4849</td>\n",
              "      <td>5331</td>\n",
              "      <td>5719</td>\n",
              "      <td>6052</td>\n",
              "      <td>6197</td>\n",
              "      <td>10506</td>\n",
              "    </tr>\n",
              "  </tbody>\n",
              "</table>\n",
              "</div>"
            ],
            "text/plain": [
              "          player_name action_type       shot_type  ...    htm    vtm     season_type\n",
              "count           12249       12249           12249  ...  12249  12249           12249\n",
              "unique              1          52               2  ...     32     32               2\n",
              "top     Stephen Curry   Jump Shot  2PT Field Goal  ...    GSW    GSW  Regular Season\n",
              "freq            12249        5916            6446  ...   6052   6197           10506\n",
              "\n",
              "[4 rows x 9 columns]"
            ]
          },
          "metadata": {
            "tags": []
          },
          "execution_count": 7
        }
      ]
    },
    {
      "cell_type": "markdown",
      "metadata": {
        "id": "iV29tdGQQEod",
        "colab_type": "text"
      },
      "source": [
        "_**The wrangle function is explained in an [old solution video @ 11:32](https://youtu.be/ZegpSyt3fyc?t=692).**_"
      ]
    },
    {
      "cell_type": "code",
      "metadata": {
        "colab_type": "code",
        "id": "xBCoHbZoy_CF",
        "colab": {}
      },
      "source": [
        "def wrangle(X):\n",
        "    \n",
        "    # Avoid SettingWithCopyWarning\n",
        "    X = X.copy()\n",
        "    \n",
        "    # Homecourt advantage?\n",
        "    X['homecourt_advantage'] = X['htm'] == 'GSW'\n",
        "    # Who's the opponent?\n",
        "    teams = X['htm'] + X['vtm']\n",
        "    X['opponent'] = teams.str.strip('GSW')\n",
        "    X = X.drop(columns=['htm', 'vtm'])\n",
        "    \n",
        "    # Combine minutes remaining in period with seconds remaining in period\n",
        "    X['seconds_remaining_period'] = X['minutes_remaining']*60 + X['seconds_remaining']\n",
        "    \n",
        "    # Calculate periods remaining. This usually works, but ...\n",
        "    X['periods_remaining'] = 4 - X['period']\n",
        "    # ... if we're in overtime (period 5 or 6) then set periods remaining to 0 instead of negative\n",
        "    X.loc[X.periods_remaining < 0, 'periods_remaining'] = 0\n",
        "    # Each quarter of a regulation game is 12 minutes long\n",
        "    X['seconds_remaining_game'] = X['periods_remaining']*12*60 + X['seconds_remaining_period']\n",
        "    # Drop other representations of time elapsed/remaining in the game\n",
        "    X = X.drop(columns=['minutes_remaining', 'seconds_remaining', 'periods_remaining', 'game_event_id'])\n",
        "    \n",
        "    # Made previous shot?\n",
        "    X['made_previous_shot'] = X['shot_made_flag'].shift(1).fillna(0)\n",
        "    \n",
        "    # Drop player_name, it never varies\n",
        "    X = X.drop(columns='player_name')\n",
        "    \n",
        "    return X\n",
        "\n",
        "train = wrangle(train)\n",
        "test = wrangle(test)"
      ],
      "execution_count": 0,
      "outputs": []
    },
    {
      "cell_type": "markdown",
      "metadata": {
        "colab_type": "text",
        "id": "K0noJX2OARG_"
      },
      "source": [
        "## Stretch Goal: Make visualizations to explore relationships between features and target"
      ]
    },
    {
      "cell_type": "markdown",
      "metadata": {
        "id": "G06VDiS1QEog",
        "colab_type": "text"
      },
      "source": [
        "_**The visualizations are explained in an [old solution video @ 26:05](https://youtu.be/ZegpSyt3fyc?t=1565).**_"
      ]
    },
    {
      "cell_type": "markdown",
      "metadata": {
        "colab_type": "text",
        "id": "IcMlsfFDy_CS"
      },
      "source": [
        "### action_type"
      ]
    },
    {
      "cell_type": "code",
      "metadata": {
        "colab_type": "code",
        "id": "2YmePQqly_CT",
        "outputId": "4ef4d988-531d-44b7-ac0c-781defafa90d",
        "colab": {
          "base_uri": "https://localhost:8080/",
          "height": 981
        }
      },
      "source": [
        "train['action_type'].value_counts()"
      ],
      "execution_count": 9,
      "outputs": [
        {
          "output_type": "execute_result",
          "data": {
            "text/plain": [
              "Jump Shot                             5916\n",
              "Pullup Jump shot                      1862\n",
              "Step Back Jump shot                    794\n",
              "Driving Layup Shot                     682\n",
              "Layup Shot                             567\n",
              "Floating Jump shot                     436\n",
              "Driving Finger Roll Layup Shot         339\n",
              "Running Jump Shot                      237\n",
              "Driving Reverse Layup Shot             173\n",
              "Running Layup Shot                     130\n",
              "Jump Bank Shot                         119\n",
              "Reverse Layup Shot                     113\n",
              "Cutting Layup Shot                      99\n",
              "Fadeaway Jump Shot                      95\n",
              "Turnaround Jump Shot                    92\n",
              "Running Bank shot                       75\n",
              "Driving Floating Jump Shot              64\n",
              "Running Finger Roll Layup Shot          46\n",
              "Driving Bank shot                       45\n",
              "Finger Roll Layup Shot                  40\n",
              "Driving Jump shot                       36\n",
              "Running Reverse Layup Shot              35\n",
              "Driving Floating Bank Jump Shot         29\n",
              "Cutting Finger Roll Layup Shot          25\n",
              "Turnaround Bank shot                    23\n",
              "Turnaround Fadeaway shot                23\n",
              "Running Pull-Up Jump Shot               23\n",
              "Pullup Bank shot                        22\n",
              "Putback Layup Shot                      11\n",
              "Running Hook Shot                       10\n",
              "Driving Hook Shot                        8\n",
              "Driving Dunk Shot                        7\n",
              "Hook Shot                                7\n",
              "Tip Shot                                 7\n",
              "Dunk Shot                                7\n",
              "Slam Dunk Shot                           7\n",
              "No Shot                                  6\n",
              "Fadeaway Bank shot                       6\n",
              "Tip Layup Shot                           6\n",
              "Running Dunk Shot                        6\n",
              "Turnaround Fadeaway Bank Jump Shot       3\n",
              "Step Back Bank Jump Shot                 3\n",
              "Turnaround Hook Shot                     3\n",
              "Driving Bank Hook Shot                   2\n",
              "Jump Hook Shot                           2\n",
              "Driving Slam Dunk Shot                   2\n",
              "Cutting Dunk Shot                        1\n",
              "Running Slam Dunk Shot                   1\n",
              "Running Bank Hook Shot                   1\n",
              "Turnaround Bank Hook Shot                1\n",
              "Hook Bank Shot                           1\n",
              "Alley Oop Layup shot                     1\n",
              "Name: action_type, dtype: int64"
            ]
          },
          "metadata": {
            "tags": []
          },
          "execution_count": 9
        }
      ]
    },
    {
      "cell_type": "markdown",
      "metadata": {
        "colab_type": "text",
        "id": "gkcHldr8y_CU"
      },
      "source": [
        "#### Look at the % of shots made for the top 5 most common \"action types\""
      ]
    },
    {
      "cell_type": "code",
      "metadata": {
        "colab_type": "code",
        "id": "4CNnV3Dsy_CW",
        "colab": {}
      },
      "source": [
        "common_shot_names = train.action_type.value_counts()[:5].index\n",
        "common_shots = train[train.action_type.isin(common_shot_names)]"
      ],
      "execution_count": 0,
      "outputs": []
    },
    {
      "cell_type": "code",
      "metadata": {
        "colab_type": "code",
        "id": "ckjizqM8y_CX",
        "outputId": "a971cced-21b4-4aeb-bcd3-c9965348935a",
        "colab": {
          "base_uri": "https://localhost:8080/",
          "height": 335
        }
      },
      "source": [
        "%matplotlib inline\n",
        "import matplotlib.pyplot as plt\n",
        "import seaborn as sns\n",
        "plt.figure(figsize=(10,5))\n",
        "sns.barplot(x='action_type', y='shot_made_flag', data=common_shots, color='grey');"
      ],
      "execution_count": 11,
      "outputs": [
        {
          "output_type": "display_data",
          "data": {
            "image/png": "[encoded data removed]",
            "text/plain": [
              "<Figure size 720x360 with 1 Axes>"
            ]
          },
          "metadata": {
            "tags": []
          }
        }
      ]
    },
    {
      "cell_type": "markdown",
      "metadata": {
        "colab_type": "text",
        "id": "TP1sBrbVy_CZ"
      },
      "source": [
        "### homecourt_advantage"
      ]
    },
    {
      "cell_type": "code",
      "metadata": {
        "colab_type": "code",
        "id": "fU4nghNVy_CZ",
        "outputId": "d21a4111-7a1c-4d3e-f83d-72d03e243b18",
        "colab": {
          "base_uri": "https://localhost:8080/",
          "height": 280
        }
      },
      "source": [
        "sns.barplot(x='homecourt_advantage', y='shot_made_flag', data=train, color='grey');"
      ],
      "execution_count": 12,
      "outputs": [
        {
          "output_type": "display_data",
          "data": {
            "image/png": "[encoded data removed]",
            "text/plain": [
              "<Figure size 432x288 with 1 Axes>"
            ]
          },
          "metadata": {
            "tags": []
          }
        }
      ]
    },
    {
      "cell_type": "markdown",
      "metadata": {
        "colab_type": "text",
        "id": "y2T0-ojDy_Ca"
      },
      "source": [
        "### made_previous_shot"
      ]
    },
    {
      "cell_type": "code",
      "metadata": {
        "colab_type": "code",
        "id": "U9Skr6Yiy_Cb",
        "outputId": "a6591de9-c063-4cd9-a755-504017dc0a3e",
        "colab": {
          "base_uri": "https://localhost:8080/",
          "height": 280
        }
      },
      "source": [
        "sns.barplot(x='made_previous_shot', y='shot_made_flag', data=train, color='grey');"
      ],
      "execution_count": 13,
      "outputs": [
        {
          "output_type": "display_data",
          "data": {
            "image/png": "[encoded data removed]",
            "text/plain": [
              "<Figure size 432x288 with 1 Axes>"
            ]
          },
          "metadata": {
            "tags": []
          }
        }
      ]
    },
    {
      "cell_type": "markdown",
      "metadata": {
        "colab_type": "text",
        "id": "TT3Idm9Hy_Cc"
      },
      "source": [
        "### shot_distance"
      ]
    },
    {
      "cell_type": "code",
      "metadata": {
        "colab_type": "code",
        "id": "HxcRLpB4y_Cc",
        "outputId": "bcba30d1-f716-4632-8f16-8b7cf6488838",
        "colab": {
          "base_uri": "https://localhost:8080/",
          "height": 369
        }
      },
      "source": [
        "sns.relplot(x='shot_distance', y='shot_made_flag', \n",
        "            data=train.query('shot_distance < 30'), kind='line');"
      ],
      "execution_count": 14,
      "outputs": [
        {
          "output_type": "display_data",
          "data": {
            "image/png": "[encoded data removed]",
            "text/plain": [
              "<Figure size 360x360 with 1 Axes>"
            ]
          },
          "metadata": {
            "tags": []
          }
        }
      ]
    },
    {
      "cell_type": "markdown",
      "metadata": {
        "colab_type": "text",
        "id": "OEjEqIkZy_Ce"
      },
      "source": [
        "### seconds_remaining_period"
      ]
    },
    {
      "cell_type": "code",
      "metadata": {
        "colab_type": "code",
        "id": "Jys3He-Wy_Ce",
        "outputId": "22bb490c-6aa5-4d53-8ed1-a8a485de3b37",
        "colab": {
          "base_uri": "https://localhost:8080/",
          "height": 402
        }
      },
      "source": [
        "plt.figure(figsize=(10,5))\n",
        "sns.pointplot(x=pd.cut(train['seconds_remaining_period'], bins=20), \n",
        "              y=train['shot_made_flag'])\n",
        "plt.xticks(rotation=90);"
      ],
      "execution_count": 15,
      "outputs": [
        {
          "output_type": "display_data",
          "data": {
            "image/png": "[encoded data removed]",
            "text/plain": [
              "<Figure size 720x360 with 1 Axes>"
            ]
          },
          "metadata": {
            "tags": []
          }
        }
      ]
    },
    {
      "cell_type": "markdown",
      "metadata": {
        "colab_type": "text",
        "id": "eLs7pt7NFJLF"
      },
      "source": [
        "## **4. Decide how to validate** your model. \n",
        "\n",
        ">Choose one of the following options. Any of these options are good. You are not graded on which you choose.\n",
        ">\n",
        ">- **Train/validate/test split: train on the 2009-10 season through 2016-17 season, validate with the 2017-18 season.** You'll know you've split the data correctly when your train set has 11,081 observations, and your validation set has 1,168 observations.\n",
        ">- **Train/validate/test split: random 80/20%** train/validate split.\n",
        ">- **Cross-validation** with independent test set. You may use any scikit-learn cross-validation method."
      ]
    },
    {
      "cell_type": "code",
      "metadata": {
        "colab_type": "code",
        "id": "LJ58CceDISXR",
        "colab": {}
      },
      "source": [
        "val = train['2017-10-01':'2018-09-30']\n",
        "train = train[:'2017-09-30']"
      ],
      "execution_count": 0,
      "outputs": []
    },
    {
      "cell_type": "code",
      "metadata": {
        "colab_type": "code",
        "id": "EF-B4dHQI07Z",
        "outputId": "c4908c17-d30f-42d0-8d2b-e02e25129ebe",
        "colab": {
          "base_uri": "https://localhost:8080/",
          "height": 126
        }
      },
      "source": [
        "train.index"
      ],
      "execution_count": 17,
      "outputs": [
        {
          "output_type": "execute_result",
          "data": {
            "text/plain": [
              "Index(['2009-10-28', '2009-10-28', '2009-10-28', '2009-10-28', '2009-10-28',\n",
              "       '2009-10-28', '2009-10-28', '2009-10-28', '2009-10-28', '2009-10-28',\n",
              "       ...\n",
              "       '2017-06-12', '2017-06-12', '2017-06-12', '2017-06-12', '2017-06-12',\n",
              "       '2017-06-12', '2017-06-12', '2017-06-12', '2017-06-12', '2017-06-12'],\n",
              "      dtype='object', name='game_date', length=11081)"
            ]
          },
          "metadata": {
            "tags": []
          },
          "execution_count": 17
        }
      ]
    },
    {
      "cell_type": "code",
      "metadata": {
        "colab_type": "code",
        "id": "MOSQi2Z9I2q3",
        "outputId": "63365786-6469-4941-e834-c28b40ae91dc",
        "colab": {
          "base_uri": "https://localhost:8080/",
          "height": 126
        }
      },
      "source": [
        "val.index"
      ],
      "execution_count": 18,
      "outputs": [
        {
          "output_type": "execute_result",
          "data": {
            "text/plain": [
              "Index(['2017-10-17', '2017-10-17', '2017-10-17', '2017-10-17', '2017-10-17',\n",
              "       '2017-10-17', '2017-10-17', '2017-10-17', '2017-10-17', '2017-10-17',\n",
              "       ...\n",
              "       '2018-06-08', '2018-06-08', '2018-06-08', '2018-06-08', '2018-06-08',\n",
              "       '2018-06-08', '2018-06-08', '2018-06-08', '2018-06-08', '2018-06-08'],\n",
              "      dtype='object', name='game_date', length=1168)"
            ]
          },
          "metadata": {
            "tags": []
          },
          "execution_count": 18
        }
      ]
    },
    {
      "cell_type": "markdown",
      "metadata": {
        "colab_type": "text",
        "id": "oQ2lWlu7JPRt"
      },
      "source": [
        "## 5. Use a scikit-learn pipeline to encode categoricals and fit a Decision Tree or Random Forest model."
      ]
    },
    {
      "cell_type": "code",
      "metadata": {
        "colab_type": "code",
        "id": "X2S8mUuJy_CB",
        "colab": {}
      },
      "source": [
        "target = 'shot_made_flag'\n",
        "features = train.columns.drop(target)\n",
        "X_train = train[features]\n",
        "y_train = train[target]\n",
        "X_val = val[features]\n",
        "y_val = val[target]\n",
        "X_test = test[features]\n",
        "y_test = test[target]"
      ],
      "execution_count": 0,
      "outputs": []
    },
    {
      "cell_type": "code",
      "metadata": {
        "id": "Vi4E1LqRivLr",
        "colab_type": "code",
        "colab": {
          "base_uri": "https://localhost:8080/",
          "height": 126
        },
        "outputId": "32858cf3-9d0f-4643-f51a-1c622d9b4a7d"
      },
      "source": [
        "features"
      ],
      "execution_count": 29,
      "outputs": [
        {
          "output_type": "execute_result",
          "data": {
            "text/plain": [
              "Index(['game_id', 'period', 'action_type', 'shot_type', 'shot_zone_basic',\n",
              "       'shot_zone_area', 'shot_zone_range', 'shot_distance', 'loc_x', 'loc_y',\n",
              "       'season_type', 'scoremargin_before_shot', 'homecourt_advantage',\n",
              "       'opponent', 'seconds_remaining_period', 'seconds_remaining_game',\n",
              "       'made_previous_shot'],\n",
              "      dtype='object')"
            ]
          },
          "metadata": {
            "tags": []
          },
          "execution_count": 29
        }
      ]
    },
    {
      "cell_type": "code",
      "metadata": {
        "colab_type": "code",
        "id": "hkN4fn--y_CD",
        "outputId": "bcf21185-f7cf-47f7-b378-bca0bd6018a6",
        "colab": {
          "base_uri": "https://localhost:8080/",
          "height": 508
        }
      },
      "source": [
        "import category_encoders as ce\n",
        "from sklearn.pipeline import make_pipeline\n",
        "from sklearn.ensemble import RandomForestClassifier\n",
        "\n",
        "pipeline = make_pipeline(\n",
        "    ce.OrdinalEncoder(), \n",
        "    RandomForestClassifier(n_estimators=100, n_jobs=-1, random_state=42)\n",
        ")\n",
        "\n",
        "pipeline.fit(X_train, y_train)"
      ],
      "execution_count": 20,
      "outputs": [
        {
          "output_type": "execute_result",
          "data": {
            "text/plain": [
              "Pipeline(memory=None,\n",
              "         steps=[('ordinalencoder',\n",
              "                 OrdinalEncoder(cols=['action_type', 'shot_type',\n",
              "                                      'shot_zone_basic', 'shot_zone_area',\n",
              "                                      'shot_zone_range', 'season_type',\n",
              "                                      'opponent'],\n",
              "                                drop_invariant=False, handle_missing='value',\n",
              "                                handle_unknown='value',\n",
              "                                mapping=[{'col': 'action_type',\n",
              "                                          'data_type': dtype('O'),\n",
              "                                          'mapping': Jump Shot                              1\n",
              "Step Back Jump shot                    2\n",
              "Pullup Jump shot                       3\n",
              "Layup Sh...\n",
              "                ('randomforestclassifier',\n",
              "                 RandomForestClassifier(bootstrap=True, class_weight=None,\n",
              "                                        criterion='gini', max_depth=None,\n",
              "                                        max_features='auto',\n",
              "                                        max_leaf_nodes=None,\n",
              "                                        min_impurity_decrease=0.0,\n",
              "                                        min_impurity_split=None,\n",
              "                                        min_samples_leaf=1, min_samples_split=2,\n",
              "                                        min_weight_fraction_leaf=0.0,\n",
              "                                        n_estimators=100, n_jobs=-1,\n",
              "                                        oob_score=False, random_state=42,\n",
              "                                        verbose=0, warm_start=False))],\n",
              "         verbose=False)"
            ]
          },
          "metadata": {
            "tags": []
          },
          "execution_count": 20
        }
      ]
    },
    {
      "cell_type": "markdown",
      "metadata": {
        "colab_type": "text",
        "id": "8kJXxFpty_CH"
      },
      "source": [
        "## 6.Get your model's validation accuracy\n",
        "\n",
        "> (Multiple times if you try multiple iterations.)"
      ]
    },
    {
      "cell_type": "code",
      "metadata": {
        "colab_type": "code",
        "id": "7560JKvxy_CJ",
        "outputId": "7ca4efb3-c6b6-4f98-f6e6-c1db783d0d8c",
        "colab": {
          "base_uri": "https://localhost:8080/",
          "height": 35
        }
      },
      "source": [
        "print('Validation Accuracy', pipeline.score(X_val, y_val))"
      ],
      "execution_count": 21,
      "outputs": [
        {
          "output_type": "stream",
          "text": [
            "Validation Accuracy 0.615582191780822\n"
          ],
          "name": "stdout"
        }
      ]
    },
    {
      "cell_type": "markdown",
      "metadata": {
        "colab_type": "text",
        "id": "H1qrK1dOxrbB"
      },
      "source": [
        "## Stretch Goal: Get and plot your model's feature importances."
      ]
    },
    {
      "cell_type": "code",
      "metadata": {
        "colab_type": "code",
        "id": "lk0eOfOgy_CO",
        "outputId": "684562f5-2bf0-4750-837d-716601265de3",
        "colab": {
          "base_uri": "https://localhost:8080/",
          "height": 484
        }
      },
      "source": [
        "plt.figure(figsize=(8,8))\n",
        "rf = pipeline.named_steps['randomforestclassifier']\n",
        "importances = pd.Series(rf.feature_importances_, X_train.columns)\n",
        "importances.sort_values().plot.barh(color='grey');"
      ],
      "execution_count": 22,
      "outputs": [
        {
          "output_type": "display_data",
          "data": {
            "image/png": "[encoded data removed]",
            "text/plain": [
              "<Figure size 576x576 with 1 Axes>"
            ]
          },
          "metadata": {
            "tags": []
          }
        }
      ]
    },
    {
      "cell_type": "markdown",
      "metadata": {
        "colab_type": "text",
        "id": "h0GwnLIOxFVB"
      },
      "source": [
        "## Stretch Goal: Optimize 3+ hyperparameters \n",
        "\n",
        "> by trying 10+ \"candidates\" (possible combinations of hyperparameters).   \n",
        "> You can use `RandomizedSearchCV` or do it manually.\n"
      ]
    },
    {
      "cell_type": "code",
      "metadata": {
        "colab_type": "code",
        "id": "Vcrrlu14xE7j",
        "outputId": "08c77451-7257-4acb-e1cb-23487f8cf6cf",
        "colab": {
          "base_uri": "https://localhost:8080/",
          "height": 692
        }
      },
      "source": [
        "from sklearn.model_selection import RandomizedSearchCV\n",
        "from scipy.stats import randint, uniform\n",
        "\n",
        "pipeline = make_pipeline(\n",
        "    ce.TargetEncoder(), \n",
        "    RandomForestClassifier(random_state=42)\n",
        ")\n",
        "\n",
        "param_distributions = {\n",
        "    'targetencoder__min_samples_leaf': randint(1, 1000), \n",
        "    'targetencoder__smoothing': uniform(1, 1000), \n",
        "    'randomforestclassifier__n_estimators': randint(50, 500), \n",
        "    'randomforestclassifier__max_depth': [5, 10, 15, 20, None], \n",
        "    'randomforestclassifier__max_features': uniform(0, 1), \n",
        "}\n",
        "\n",
        "search = RandomizedSearchCV(\n",
        "    pipeline, \n",
        "    param_distributions=param_distributions, \n",
        "    n_iter=30, \n",
        "    cv=3, \n",
        "    scoring='accuracy', \n",
        "    verbose=10, \n",
        "    return_train_score=True, \n",
        "    n_jobs=-1\n",
        ")\n",
        "\n",
        "X = pd.concat([X_train, X_val])\n",
        "y = pd.concat([y_train, y_val])\n",
        "search.fit(X, y)"
      ],
      "execution_count": 23,
      "outputs": [
        {
          "output_type": "stream",
          "text": [
            "Fitting 3 folds for each of 30 candidates, totalling 90 fits\n"
          ],
          "name": "stdout"
        },
        {
          "output_type": "stream",
          "text": [
            "[Parallel(n_jobs=-1)]: Using backend LokyBackend with 2 concurrent workers.\n",
            "[Parallel(n_jobs=-1)]: Done   1 tasks      | elapsed:    3.6s\n",
            "[Parallel(n_jobs=-1)]: Done   4 tasks      | elapsed:    6.0s\n",
            "[Parallel(n_jobs=-1)]: Done   9 tasks      | elapsed:   10.6s\n",
            "[Parallel(n_jobs=-1)]: Done  14 tasks      | elapsed:   29.1s\n",
            "[Parallel(n_jobs=-1)]: Done  21 tasks      | elapsed:  1.5min\n",
            "[Parallel(n_jobs=-1)]: Done  28 tasks      | elapsed:  2.2min\n",
            "[Parallel(n_jobs=-1)]: Done  37 tasks      | elapsed:  2.9min\n",
            "/usr/local/lib/python3.6/dist-packages/joblib/externals/loky/process_executor.py:706: UserWarning: A worker stopped while some jobs were given to the executor. This can be caused by a too short worker timeout or by a memory leak.\n",
            "  \"timeout or by a memory leak.\", UserWarning\n",
            "[Parallel(n_jobs=-1)]: Done  46 tasks      | elapsed:  3.7min\n",
            "[Parallel(n_jobs=-1)]: Done  57 tasks      | elapsed:  4.5min\n",
            "[Parallel(n_jobs=-1)]: Done  68 tasks      | elapsed:  4.9min\n",
            "[Parallel(n_jobs=-1)]: Done  81 tasks      | elapsed:  6.1min\n",
            "[Parallel(n_jobs=-1)]: Done  90 out of  90 | elapsed:  6.6min finished\n"
          ],
          "name": "stderr"
        },
        {
          "output_type": "execute_result",
          "data": {
            "text/plain": [
              "RandomizedSearchCV(cv=3, error_score='raise-deprecating',\n",
              "                   estimator=Pipeline(memory=None,\n",
              "                                      steps=[('targetencoder',\n",
              "                                              TargetEncoder(cols=None,\n",
              "                                                            drop_invariant=False,\n",
              "                                                            handle_missing='value',\n",
              "                                                            handle_unknown='value',\n",
              "                                                            min_samples_leaf=1,\n",
              "                                                            return_df=True,\n",
              "                                                            smoothing=1.0,\n",
              "                                                            verbose=0)),\n",
              "                                             ('randomforestclassifier',\n",
              "                                              RandomForestClassifier(bootstrap=True,\n",
              "                                                                     class_weight=None,\n",
              "                                                                     criter...\n",
              "                                        'randomforestclassifier__n_estimators': <scipy.stats._distn_infrastructure.rv_frozen object at 0x7fe94f4b7390>,\n",
              "                                        'targetencoder__min_samples_leaf': <scipy.stats._distn_infrastructure.rv_frozen object at 0x7fe94f4b7ba8>,\n",
              "                                        'targetencoder__smoothing': <scipy.stats._distn_infrastructure.rv_frozen object at 0x7fe94f4b77b8>},\n",
              "                   pre_dispatch='2*n_jobs', random_state=None, refit=True,\n",
              "                   return_train_score=True, scoring='accuracy', verbose=10)"
            ]
          },
          "metadata": {
            "tags": []
          },
          "execution_count": 23
        }
      ]
    },
    {
      "cell_type": "code",
      "metadata": {
        "colab_type": "code",
        "id": "QOeuXSGZ0_9-",
        "outputId": "0cba95ab-27d4-495e-8239-adf3c35d5274",
        "colab": {
          "base_uri": "https://localhost:8080/",
          "height": 968
        }
      },
      "source": [
        "results = pd.DataFrame(search.cv_results_)\n",
        "cols = ['rank_test_score','mean_test_score']\n",
        "cols += [col for col in results if col.startswith('param_')]\n",
        "results[cols].sort_values(by='rank_test_score')"
      ],
      "execution_count": 24,
      "outputs": [
        {
          "output_type": "execute_result",
          "data": {
            "text/html": [
              "<div>\n",
              "<style scoped>\n",
              "    .dataframe tbody tr th:only-of-type {\n",
              "        vertical-align: middle;\n",
              "    }\n",
              "\n",
              "    .dataframe tbody tr th {\n",
              "        vertical-align: top;\n",
              "    }\n",
              "\n",
              "    .dataframe thead th {\n",
              "        text-align: right;\n",
              "    }\n",
              "</style>\n",
              "<table border=\"1\" class=\"dataframe\">\n",
              "  <thead>\n",
              "    <tr style=\"text-align: right;\">\n",
              "      <th></th>\n",
              "      <th>rank_test_score</th>\n",
              "      <th>mean_test_score</th>\n",
              "      <th>param_randomforestclassifier__max_depth</th>\n",
              "      <th>param_randomforestclassifier__max_features</th>\n",
              "      <th>param_randomforestclassifier__n_estimators</th>\n",
              "      <th>param_targetencoder__min_samples_leaf</th>\n",
              "      <th>param_targetencoder__smoothing</th>\n",
              "    </tr>\n",
              "  </thead>\n",
              "  <tbody>\n",
              "    <tr>\n",
              "      <th>10</th>\n",
              "      <td>1</td>\n",
              "      <td>0.659727</td>\n",
              "      <td>5</td>\n",
              "      <td>0.654924</td>\n",
              "      <td>490</td>\n",
              "      <td>75</td>\n",
              "      <td>855.597</td>\n",
              "    </tr>\n",
              "    <tr>\n",
              "      <th>27</th>\n",
              "      <td>2</td>\n",
              "      <td>0.658829</td>\n",
              "      <td>5</td>\n",
              "      <td>0.492341</td>\n",
              "      <td>383</td>\n",
              "      <td>645</td>\n",
              "      <td>638.391</td>\n",
              "    </tr>\n",
              "    <tr>\n",
              "      <th>19</th>\n",
              "      <td>3</td>\n",
              "      <td>0.658176</td>\n",
              "      <td>5</td>\n",
              "      <td>0.366632</td>\n",
              "      <td>61</td>\n",
              "      <td>968</td>\n",
              "      <td>411.745</td>\n",
              "    </tr>\n",
              "    <tr>\n",
              "      <th>3</th>\n",
              "      <td>4</td>\n",
              "      <td>0.656543</td>\n",
              "      <td>5</td>\n",
              "      <td>0.536162</td>\n",
              "      <td>195</td>\n",
              "      <td>224</td>\n",
              "      <td>51.0494</td>\n",
              "    </tr>\n",
              "    <tr>\n",
              "      <th>24</th>\n",
              "      <td>5</td>\n",
              "      <td>0.655482</td>\n",
              "      <td>5</td>\n",
              "      <td>0.723607</td>\n",
              "      <td>321</td>\n",
              "      <td>155</td>\n",
              "      <td>942.576</td>\n",
              "    </tr>\n",
              "    <tr>\n",
              "      <th>18</th>\n",
              "      <td>6</td>\n",
              "      <td>0.649277</td>\n",
              "      <td>5</td>\n",
              "      <td>0.287206</td>\n",
              "      <td>478</td>\n",
              "      <td>66</td>\n",
              "      <td>475.124</td>\n",
              "    </tr>\n",
              "    <tr>\n",
              "      <th>22</th>\n",
              "      <td>7</td>\n",
              "      <td>0.632133</td>\n",
              "      <td>5</td>\n",
              "      <td>0.188961</td>\n",
              "      <td>288</td>\n",
              "      <td>163</td>\n",
              "      <td>510.419</td>\n",
              "    </tr>\n",
              "    <tr>\n",
              "      <th>21</th>\n",
              "      <td>8</td>\n",
              "      <td>0.625602</td>\n",
              "      <td>10</td>\n",
              "      <td>0.525715</td>\n",
              "      <td>230</td>\n",
              "      <td>743</td>\n",
              "      <td>912.914</td>\n",
              "    </tr>\n",
              "    <tr>\n",
              "      <th>8</th>\n",
              "      <td>9</td>\n",
              "      <td>0.624459</td>\n",
              "      <td>10</td>\n",
              "      <td>0.930555</td>\n",
              "      <td>160</td>\n",
              "      <td>402</td>\n",
              "      <td>399.241</td>\n",
              "    </tr>\n",
              "    <tr>\n",
              "      <th>20</th>\n",
              "      <td>10</td>\n",
              "      <td>0.623724</td>\n",
              "      <td>10</td>\n",
              "      <td>0.726811</td>\n",
              "      <td>125</td>\n",
              "      <td>736</td>\n",
              "      <td>900.213</td>\n",
              "    </tr>\n",
              "    <tr>\n",
              "      <th>26</th>\n",
              "      <td>11</td>\n",
              "      <td>0.623643</td>\n",
              "      <td>10</td>\n",
              "      <td>0.764963</td>\n",
              "      <td>235</td>\n",
              "      <td>452</td>\n",
              "      <td>147.76</td>\n",
              "    </tr>\n",
              "    <tr>\n",
              "      <th>6</th>\n",
              "      <td>12</td>\n",
              "      <td>0.623398</td>\n",
              "      <td>10</td>\n",
              "      <td>0.931218</td>\n",
              "      <td>280</td>\n",
              "      <td>158</td>\n",
              "      <td>66.4054</td>\n",
              "    </tr>\n",
              "    <tr>\n",
              "      <th>12</th>\n",
              "      <td>13</td>\n",
              "      <td>0.618091</td>\n",
              "      <td>15</td>\n",
              "      <td>0.488625</td>\n",
              "      <td>425</td>\n",
              "      <td>227</td>\n",
              "      <td>718.454</td>\n",
              "    </tr>\n",
              "    <tr>\n",
              "      <th>2</th>\n",
              "      <td>14</td>\n",
              "      <td>0.615397</td>\n",
              "      <td>5</td>\n",
              "      <td>0.086982</td>\n",
              "      <td>157</td>\n",
              "      <td>711</td>\n",
              "      <td>146.395</td>\n",
              "    </tr>\n",
              "    <tr>\n",
              "      <th>0</th>\n",
              "      <td>14</td>\n",
              "      <td>0.615397</td>\n",
              "      <td>15</td>\n",
              "      <td>0.129671</td>\n",
              "      <td>96</td>\n",
              "      <td>694</td>\n",
              "      <td>25.7115</td>\n",
              "    </tr>\n",
              "    <tr>\n",
              "      <th>1</th>\n",
              "      <td>16</td>\n",
              "      <td>0.615152</td>\n",
              "      <td>5</td>\n",
              "      <td>0.0245515</td>\n",
              "      <td>274</td>\n",
              "      <td>276</td>\n",
              "      <td>914.614</td>\n",
              "    </tr>\n",
              "    <tr>\n",
              "      <th>15</th>\n",
              "      <td>17</td>\n",
              "      <td>0.614336</td>\n",
              "      <td>5</td>\n",
              "      <td>0.0734082</td>\n",
              "      <td>113</td>\n",
              "      <td>408</td>\n",
              "      <td>827.584</td>\n",
              "    </tr>\n",
              "    <tr>\n",
              "      <th>9</th>\n",
              "      <td>18</td>\n",
              "      <td>0.613928</td>\n",
              "      <td>5</td>\n",
              "      <td>0.104056</td>\n",
              "      <td>278</td>\n",
              "      <td>675</td>\n",
              "      <td>872.981</td>\n",
              "    </tr>\n",
              "    <tr>\n",
              "      <th>4</th>\n",
              "      <td>19</td>\n",
              "      <td>0.611560</td>\n",
              "      <td>None</td>\n",
              "      <td>0.491541</td>\n",
              "      <td>249</td>\n",
              "      <td>310</td>\n",
              "      <td>149.564</td>\n",
              "    </tr>\n",
              "    <tr>\n",
              "      <th>17</th>\n",
              "      <td>19</td>\n",
              "      <td>0.611560</td>\n",
              "      <td>20</td>\n",
              "      <td>0.694638</td>\n",
              "      <td>182</td>\n",
              "      <td>22</td>\n",
              "      <td>828.296</td>\n",
              "    </tr>\n",
              "    <tr>\n",
              "      <th>28</th>\n",
              "      <td>21</td>\n",
              "      <td>0.611397</td>\n",
              "      <td>20</td>\n",
              "      <td>0.706202</td>\n",
              "      <td>123</td>\n",
              "      <td>99</td>\n",
              "      <td>939.292</td>\n",
              "    </tr>\n",
              "    <tr>\n",
              "      <th>29</th>\n",
              "      <td>22</td>\n",
              "      <td>0.610336</td>\n",
              "      <td>20</td>\n",
              "      <td>0.0342027</td>\n",
              "      <td>402</td>\n",
              "      <td>815</td>\n",
              "      <td>841.03</td>\n",
              "    </tr>\n",
              "    <tr>\n",
              "      <th>13</th>\n",
              "      <td>23</td>\n",
              "      <td>0.609274</td>\n",
              "      <td>20</td>\n",
              "      <td>0.735869</td>\n",
              "      <td>85</td>\n",
              "      <td>921</td>\n",
              "      <td>382.908</td>\n",
              "    </tr>\n",
              "    <tr>\n",
              "      <th>25</th>\n",
              "      <td>24</td>\n",
              "      <td>0.609029</td>\n",
              "      <td>None</td>\n",
              "      <td>0.629009</td>\n",
              "      <td>409</td>\n",
              "      <td>982</td>\n",
              "      <td>471.815</td>\n",
              "    </tr>\n",
              "    <tr>\n",
              "      <th>16</th>\n",
              "      <td>25</td>\n",
              "      <td>0.608703</td>\n",
              "      <td>None</td>\n",
              "      <td>0.0107738</td>\n",
              "      <td>442</td>\n",
              "      <td>104</td>\n",
              "      <td>422.135</td>\n",
              "    </tr>\n",
              "    <tr>\n",
              "      <th>7</th>\n",
              "      <td>26</td>\n",
              "      <td>0.608295</td>\n",
              "      <td>None</td>\n",
              "      <td>0.79424</td>\n",
              "      <td>287</td>\n",
              "      <td>173</td>\n",
              "      <td>389.171</td>\n",
              "    </tr>\n",
              "    <tr>\n",
              "      <th>23</th>\n",
              "      <td>27</td>\n",
              "      <td>0.607641</td>\n",
              "      <td>20</td>\n",
              "      <td>0.790344</td>\n",
              "      <td>84</td>\n",
              "      <td>88</td>\n",
              "      <td>745.099</td>\n",
              "    </tr>\n",
              "    <tr>\n",
              "      <th>14</th>\n",
              "      <td>28</td>\n",
              "      <td>0.607560</td>\n",
              "      <td>None</td>\n",
              "      <td>0.809313</td>\n",
              "      <td>354</td>\n",
              "      <td>998</td>\n",
              "      <td>497.986</td>\n",
              "    </tr>\n",
              "    <tr>\n",
              "      <th>5</th>\n",
              "      <td>29</td>\n",
              "      <td>0.606988</td>\n",
              "      <td>None</td>\n",
              "      <td>0.910168</td>\n",
              "      <td>290</td>\n",
              "      <td>268</td>\n",
              "      <td>472.524</td>\n",
              "    </tr>\n",
              "    <tr>\n",
              "      <th>11</th>\n",
              "      <td>30</td>\n",
              "      <td>0.588701</td>\n",
              "      <td>None</td>\n",
              "      <td>0.683386</td>\n",
              "      <td>102</td>\n",
              "      <td>960</td>\n",
              "      <td>27.8447</td>\n",
              "    </tr>\n",
              "  </tbody>\n",
              "</table>\n",
              "</div>"
            ],
            "text/plain": [
              "    rank_test_score  ...  param_targetencoder__smoothing\n",
              "10                1  ...                         855.597\n",
              "27                2  ...                         638.391\n",
              "19                3  ...                         411.745\n",
              "3                 4  ...                         51.0494\n",
              "24                5  ...                         942.576\n",
              "18                6  ...                         475.124\n",
              "22                7  ...                         510.419\n",
              "21                8  ...                         912.914\n",
              "8                 9  ...                         399.241\n",
              "20               10  ...                         900.213\n",
              "26               11  ...                          147.76\n",
              "6                12  ...                         66.4054\n",
              "12               13  ...                         718.454\n",
              "2                14  ...                         146.395\n",
              "0                14  ...                         25.7115\n",
              "1                16  ...                         914.614\n",
              "15               17  ...                         827.584\n",
              "9                18  ...                         872.981\n",
              "4                19  ...                         149.564\n",
              "17               19  ...                         828.296\n",
              "28               21  ...                         939.292\n",
              "29               22  ...                          841.03\n",
              "13               23  ...                         382.908\n",
              "25               24  ...                         471.815\n",
              "16               25  ...                         422.135\n",
              "7                26  ...                         389.171\n",
              "23               27  ...                         745.099\n",
              "14               28  ...                         497.986\n",
              "5                29  ...                         472.524\n",
              "11               30  ...                         27.8447\n",
              "\n",
              "[30 rows x 7 columns]"
            ]
          },
          "metadata": {
            "tags": []
          },
          "execution_count": 24
        }
      ]
    },
    {
      "cell_type": "markdown",
      "metadata": {
        "colab_type": "text",
        "id": "YvyYY9tfy_CL"
      },
      "source": [
        "## 7. Get your model's test accuracy\n",
        "\n",
        "> (One time, at the end.)"
      ]
    },
    {
      "cell_type": "code",
      "metadata": {
        "colab_type": "code",
        "id": "wjV2dfl6y_CL",
        "outputId": "f73255e0-adba-40df-be7a-02d29d86f0d7",
        "colab": {
          "base_uri": "https://localhost:8080/",
          "height": 35
        }
      },
      "source": [
        "pipeline = search.best_estimator_\n",
        "print('Test Accuracy', pipeline.score(X_test, y_test))"
      ],
      "execution_count": 25,
      "outputs": [
        {
          "output_type": "stream",
          "text": [
            "Test Accuracy 0.6243417203042715\n"
          ],
          "name": "stdout"
        }
      ]
    },
    {
      "cell_type": "markdown",
      "metadata": {
        "id": "xGL5stLvJCn1",
        "colab_type": "text"
      },
      "source": [
        "## 8. Given a confusion matrix, calculate accuracy, precision, and recall.\n",
        "\n",
        "Imagine this is the confusion matrix for a binary classification model. Use the confusion matrix to calculate the model's accuracy, precision, and recall.\n",
        "\n",
        "<table>\n",
        "  <tr>\n",
        "    <td colspan=\"2\" rowspan=\"2\"></td>\n",
        "    <td colspan=\"2\">Predicted</td>\n",
        "  </tr>\n",
        "  <tr>\n",
        "    <td>Negative</td>\n",
        "    <td>Positive</td>\n",
        "  </tr>\n",
        "  <tr>\n",
        "    <td rowspan=\"2\">Actual</td>\n",
        "    <td>Negative</td>\n",
        "    <td style=\"border: solid\">85</td>\n",
        "    <td style=\"border: solid\">58</td>\n",
        "  </tr>\n",
        "  <tr>\n",
        "    <td>Positive</td>\n",
        "    <td style=\"border: solid\">8</td>\n",
        "    <td style=\"border: solid\"> 36</td>\n",
        "  </tr>\n",
        "</table>"
      ]
    },
    {
      "cell_type": "markdown",
      "metadata": {
        "id": "nEvt7NkUJNao",
        "colab_type": "text"
      },
      "source": [
        "### Calculate accuracy "
      ]
    },
    {
      "cell_type": "code",
      "metadata": {
        "id": "FFszS2A5JJmv",
        "colab_type": "code",
        "outputId": "cfd5a034-1b9f-4715-bca9-964b4c521c6e",
        "colab": {
          "base_uri": "https://localhost:8080/",
          "height": 35
        }
      },
      "source": [
        "tp = 36\n",
        "tn = 85\n",
        "fp = 58\n",
        "fn = 8\n",
        "\n",
        "accuracy = (tp + tn) / (tp + tn + fp + fn)\n",
        "print('Accuracy', accuracy)"
      ],
      "execution_count": 26,
      "outputs": [
        {
          "output_type": "stream",
          "text": [
            "Accuracy 0.6470588235294118\n"
          ],
          "name": "stdout"
        }
      ]
    },
    {
      "cell_type": "markdown",
      "metadata": {
        "id": "XjHTmk8sJO4v",
        "colab_type": "text"
      },
      "source": [
        "### Calculate precision"
      ]
    },
    {
      "cell_type": "code",
      "metadata": {
        "id": "7qX1gbcMJQS_",
        "colab_type": "code",
        "outputId": "24608caa-4cbf-48b6-c243-5a8fa2f070d8",
        "colab": {
          "base_uri": "https://localhost:8080/",
          "height": 35
        }
      },
      "source": [
        "# https://en.wikipedia.org/wiki/Precision_and_recall\n",
        "precision = tp / (tp + fp)\n",
        "print('Precision', precision)"
      ],
      "execution_count": 27,
      "outputs": [
        {
          "output_type": "stream",
          "text": [
            "Precision 0.3829787234042553\n"
          ],
          "name": "stdout"
        }
      ]
    },
    {
      "cell_type": "markdown",
      "metadata": {
        "id": "pFug3ZKaJQ7A",
        "colab_type": "text"
      },
      "source": [
        "### Calculate recall"
      ]
    },
    {
      "cell_type": "code",
      "metadata": {
        "id": "L0OKc3JxJR4r",
        "colab_type": "code",
        "outputId": "0481f025-f35a-41fc-ec70-144cf4e07068",
        "colab": {
          "base_uri": "https://localhost:8080/",
          "height": 35
        }
      },
      "source": [
        "recall = tp / (tp + fn)\n",
        "print('Recall', recall)"
      ],
      "execution_count": 28,
      "outputs": [
        {
          "output_type": "stream",
          "text": [
            "Recall 0.8181818181818182\n"
          ],
          "name": "stdout"
        }
      ]
    }
  ]
}