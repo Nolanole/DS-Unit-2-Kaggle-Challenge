{
  "nbformat": 4,
  "nbformat_minor": 0,
  "metadata": {
    "colab": {
      "name": "LS_DS10_222.ipynb",
      "provenance": [],
      "collapsed_sections": [],
      "include_colab_link": true
    },
    "kernelspec": {
      "display_name": "Python 3",
      "language": "python",
      "name": "python3"
    },
    "language_info": {
      "codemirror_mode": {
        "name": "ipython",
        "version": 3
      },
      "file_extension": ".py",
      "mimetype": "text/x-python",
      "name": "python",
      "nbconvert_exporter": "python",
      "pygments_lexer": "ipython3",
      "version": "3.7.3"
    },
    "widgets": {
      "application/vnd.jupyter.widget-state+json": {
        "b4a6765070d3484ea834eaa9de2f93ff": {
          "model_module": "@jupyter-widgets/controls",
          "model_name": "VBoxModel",
          "state": {
            "_view_name": "VBoxView",
            "_dom_classes": [
              "widget-interact"
            ],
            "_model_name": "VBoxModel",
            "_view_module": "@jupyter-widgets/controls",
            "_model_module_version": "1.5.0",
            "_view_count": null,
            "_view_module_version": "1.5.0",
            "box_style": "",
            "layout": "IPY_MODEL_6f8d722d1107456baf619dbfa4a01ba6",
            "_model_module": "@jupyter-widgets/controls",
            "children": [
              "IPY_MODEL_0fcc440aad8a4c518d26f94dd300f23d",
              "IPY_MODEL_192d09366cf74411870e1d14185f27e2",
              "IPY_MODEL_a2c5a34fc8304005a0b3c38f657ab8d9"
            ]
          }
        },
        "6f8d722d1107456baf619dbfa4a01ba6": {
          "model_module": "@jupyter-widgets/base",
          "model_name": "LayoutModel",
          "state": {
            "_view_name": "LayoutView",
            "grid_template_rows": null,
            "right": null,
            "justify_content": null,
            "_view_module": "@jupyter-widgets/base",
            "overflow": null,
            "_model_module_version": "1.2.0",
            "_view_count": null,
            "flex_flow": null,
            "width": null,
            "min_width": null,
            "border": null,
            "align_items": null,
            "bottom": null,
            "_model_module": "@jupyter-widgets/base",
            "top": null,
            "grid_column": null,
            "overflow_y": null,
            "overflow_x": null,
            "grid_auto_flow": null,
            "grid_area": null,
            "grid_template_columns": null,
            "flex": null,
            "_model_name": "LayoutModel",
            "justify_items": null,
            "grid_row": null,
            "max_height": null,
            "align_content": null,
            "visibility": null,
            "align_self": null,
            "height": null,
            "min_height": null,
            "padding": null,
            "grid_auto_rows": null,
            "grid_gap": null,
            "max_width": null,
            "order": null,
            "_view_module_version": "1.2.0",
            "grid_template_areas": null,
            "object_position": null,
            "object_fit": null,
            "grid_auto_columns": null,
            "margin": null,
            "display": null,
            "left": null
          }
        },
        "0fcc440aad8a4c518d26f94dd300f23d": {
          "model_module": "@jupyter-widgets/controls",
          "model_name": "IntSliderModel",
          "state": {
            "_view_name": "IntSliderView",
            "style": "IPY_MODEL_5c000c09a31749bdad7eb60a16f02f3f",
            "_dom_classes": [],
            "description": "max_depth",
            "step": 1,
            "_model_name": "IntSliderModel",
            "orientation": "horizontal",
            "max": 6,
            "_view_module": "@jupyter-widgets/controls",
            "_model_module_version": "1.5.0",
            "value": 3,
            "_view_count": null,
            "disabled": false,
            "_view_module_version": "1.5.0",
            "min": 1,
            "continuous_update": true,
            "readout_format": "d",
            "description_tooltip": null,
            "readout": true,
            "_model_module": "@jupyter-widgets/controls",
            "layout": "IPY_MODEL_5fd51daf0ea0464595d05057bd7d1d0e"
          }
        },
        "192d09366cf74411870e1d14185f27e2": {
          "model_module": "@jupyter-widgets/controls",
          "model_name": "IntSliderModel",
          "state": {
            "_view_name": "IntSliderView",
            "style": "IPY_MODEL_2e25c7ddf40b4d43b7099c8be309af9a",
            "_dom_classes": [],
            "description": "n_estimators",
            "step": 10,
            "_model_name": "IntSliderModel",
            "orientation": "horizontal",
            "max": 40,
            "_view_module": "@jupyter-widgets/controls",
            "_model_module_version": "1.5.0",
            "value": 10,
            "_view_count": null,
            "disabled": false,
            "_view_module_version": "1.5.0",
            "min": 10,
            "continuous_update": true,
            "readout_format": "d",
            "description_tooltip": null,
            "readout": true,
            "_model_module": "@jupyter-widgets/controls",
            "layout": "IPY_MODEL_ec7135d7611f4d688c48fba4189f52ea"
          }
        },
        "a2c5a34fc8304005a0b3c38f657ab8d9": {
          "model_module": "@jupyter-widgets/output",
          "model_name": "OutputModel",
          "state": {
            "_view_name": "OutputView",
            "msg_id": "",
            "_dom_classes": [],
            "_model_name": "OutputModel",
            "outputs": [
              {
                "output_type": "display_data",
                "metadata": {
                  "tags": []
                },
                "image/png": "iVBORw0KGgoAAAANSUhEUgAAAYIAAAEWCAYAAABrDZDcAAAABHNCSVQICAgIfAhkiAAAAAlwSFlz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\nFZwTgZlZwTkRmJkV3P8HMfSemA1HzeMAAAAASUVORK5CYII=\n",
                "text/plain": "<Figure size 432x288 with 1 Axes>"
              },
              {
                "output_type": "display_data",
                "metadata": {
                  "tags": []
                },
                "image/png": "iVBORw0KGgoAAAANSUhEUgAAAYIAAAEWCAYAAABrDZDcAAAABHNCSVQICAgIfAhkiAAAAAlwSFlz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\nZmYF50RgZlZw/x8gPxxopKNnTgAAAABJRU5ErkJggg==\n",
                "text/plain": "<Figure size 432x288 with 1 Axes>"
              }
            ],
            "_view_module": "@jupyter-widgets/output",
            "_model_module_version": "1.0.0",
            "_view_count": null,
            "_view_module_version": "1.0.0",
            "layout": "IPY_MODEL_020c679cb4404d72807bb6b8ac13abf9",
            "_model_module": "@jupyter-widgets/output"
          }
        },
        "5c000c09a31749bdad7eb60a16f02f3f": {
          "model_module": "@jupyter-widgets/controls",
          "model_name": "SliderStyleModel",
          "state": {
            "_view_name": "StyleView",
            "handle_color": null,
            "_model_name": "SliderStyleModel",
            "description_width": "",
            "_view_module": "@jupyter-widgets/base",
            "_model_module_version": "1.5.0",
            "_view_count": null,
            "_view_module_version": "1.2.0",
            "_model_module": "@jupyter-widgets/controls"
          }
        },
        "5fd51daf0ea0464595d05057bd7d1d0e": {
          "model_module": "@jupyter-widgets/base",
          "model_name": "LayoutModel",
          "state": {
            "_view_name": "LayoutView",
            "grid_template_rows": null,
            "right": null,
            "justify_content": null,
            "_view_module": "@jupyter-widgets/base",
            "overflow": null,
            "_model_module_version": "1.2.0",
            "_view_count": null,
            "flex_flow": null,
            "width": null,
            "min_width": null,
            "border": null,
            "align_items": null,
            "bottom": null,
            "_model_module": "@jupyter-widgets/base",
            "top": null,
            "grid_column": null,
            "overflow_y": null,
            "overflow_x": null,
            "grid_auto_flow": null,
            "grid_area": null,
            "grid_template_columns": null,
            "flex": null,
            "_model_name": "LayoutModel",
            "justify_items": null,
            "grid_row": null,
            "max_height": null,
            "align_content": null,
            "visibility": null,
            "align_self": null,
            "height": null,
            "min_height": null,
            "padding": null,
            "grid_auto_rows": null,
            "grid_gap": null,
            "max_width": null,
            "order": null,
            "_view_module_version": "1.2.0",
            "grid_template_areas": null,
            "object_position": null,
            "object_fit": null,
            "grid_auto_columns": null,
            "margin": null,
            "display": null,
            "left": null
          }
        },
        "2e25c7ddf40b4d43b7099c8be309af9a": {
          "model_module": "@jupyter-widgets/controls",
          "model_name": "SliderStyleModel",
          "state": {
            "_view_name": "StyleView",
            "handle_color": null,
            "_model_name": "SliderStyleModel",
            "description_width": "",
            "_view_module": "@jupyter-widgets/base",
            "_model_module_version": "1.5.0",
            "_view_count": null,
            "_view_module_version": "1.2.0",
            "_model_module": "@jupyter-widgets/controls"
          }
        },
        "ec7135d7611f4d688c48fba4189f52ea": {
          "model_module": "@jupyter-widgets/base",
          "model_name": "LayoutModel",
          "state": {
            "_view_name": "LayoutView",
            "grid_template_rows": null,
            "right": null,
            "justify_content": null,
            "_view_module": "@jupyter-widgets/base",
            "overflow": null,
            "_model_module_version": "1.2.0",
            "_view_count": null,
            "flex_flow": null,
            "width": null,
            "min_width": null,
            "border": null,
            "align_items": null,
            "bottom": null,
            "_model_module": "@jupyter-widgets/base",
            "top": null,
            "grid_column": null,
            "overflow_y": null,
            "overflow_x": null,
            "grid_auto_flow": null,
            "grid_area": null,
            "grid_template_columns": null,
            "flex": null,
            "_model_name": "LayoutModel",
            "justify_items": null,
            "grid_row": null,
            "max_height": null,
            "align_content": null,
            "visibility": null,
            "align_self": null,
            "height": null,
            "min_height": null,
            "padding": null,
            "grid_auto_rows": null,
            "grid_gap": null,
            "max_width": null,
            "order": null,
            "_view_module_version": "1.2.0",
            "grid_template_areas": null,
            "object_position": null,
            "object_fit": null,
            "grid_auto_columns": null,
            "margin": null,
            "display": null,
            "left": null
          }
        },
        "4e5266cda10a4f80b4a3e7c0a6f49dc2": {
          "model_module": "@jupyter-widgets/controls",
          "model_name": "VBoxModel",
          "state": {
            "_view_name": "VBoxView",
            "_dom_classes": [
              "widget-interact"
            ],
            "_model_name": "VBoxModel",
            "_view_module": "@jupyter-widgets/controls",
            "_model_module_version": "1.5.0",
            "_view_count": null,
            "_view_module_version": "1.5.0",
            "box_style": "",
            "layout": "IPY_MODEL_0a38b10d96344df5b8d699255eb9e8c9",
            "_model_module": "@jupyter-widgets/controls",
            "children": [
              "IPY_MODEL_5433423adf104b60ae3e419f966f9db7",
              "IPY_MODEL_3cb51c761d234027941d13bb0d8ada7d",
              "IPY_MODEL_4ec47d2b77e740748cce81015a5c5d1c"
            ]
          }
        },
        "0a38b10d96344df5b8d699255eb9e8c9": {
          "model_module": "@jupyter-widgets/base",
          "model_name": "LayoutModel",
          "state": {
            "_view_name": "LayoutView",
            "grid_template_rows": null,
            "right": null,
            "justify_content": null,
            "_view_module": "@jupyter-widgets/base",
            "overflow": null,
            "_model_module_version": "1.2.0",
            "_view_count": null,
            "flex_flow": null,
            "width": null,
            "min_width": null,
            "border": null,
            "align_items": null,
            "bottom": null,
            "_model_module": "@jupyter-widgets/base",
            "top": null,
            "grid_column": null,
            "overflow_y": null,
            "overflow_x": null,
            "grid_auto_flow": null,
            "grid_area": null,
            "grid_template_columns": null,
            "flex": null,
            "_model_name": "LayoutModel",
            "justify_items": null,
            "grid_row": null,
            "max_height": null,
            "align_content": null,
            "visibility": null,
            "align_self": null,
            "height": null,
            "min_height": null,
            "padding": null,
            "grid_auto_rows": null,
            "grid_gap": null,
            "max_width": null,
            "order": null,
            "_view_module_version": "1.2.0",
            "grid_template_areas": null,
            "object_position": null,
            "object_fit": null,
            "grid_auto_columns": null,
            "margin": null,
            "display": null,
            "left": null
          }
        },
        "5433423adf104b60ae3e419f966f9db7": {
          "model_module": "@jupyter-widgets/controls",
          "model_name": "IntSliderModel",
          "state": {
            "_view_name": "IntSliderView",
            "style": "IPY_MODEL_09df72ac86a24e50a00179b47aeca05b",
            "_dom_classes": [],
            "description": "max_depth",
            "step": 1,
            "_model_name": "IntSliderModel",
            "orientation": "horizontal",
            "max": 6,
            "_view_module": "@jupyter-widgets/controls",
            "_model_module_version": "1.5.0",
            "value": 3,
            "_view_count": null,
            "disabled": false,
            "_view_module_version": "1.5.0",
            "min": 1,
            "continuous_update": true,
            "readout_format": "d",
            "description_tooltip": null,
            "readout": true,
            "_model_module": "@jupyter-widgets/controls",
            "layout": "IPY_MODEL_b718310e07564edba47eea1363167e47"
          }
        },
        "3cb51c761d234027941d13bb0d8ada7d": {
          "model_module": "@jupyter-widgets/controls",
          "model_name": "IntSliderModel",
          "state": {
            "_view_name": "IntSliderView",
            "style": "IPY_MODEL_8b535857f07f480e86d0a63f906b08ec",
            "_dom_classes": [],
            "description": "n_estimators",
            "step": 1,
            "_model_name": "IntSliderModel",
            "orientation": "horizontal",
            "max": 5,
            "_view_module": "@jupyter-widgets/controls",
            "_model_module_version": "1.5.0",
            "value": 2,
            "_view_count": null,
            "disabled": false,
            "_view_module_version": "1.5.0",
            "min": 2,
            "continuous_update": true,
            "readout_format": "d",
            "description_tooltip": null,
            "readout": true,
            "_model_module": "@jupyter-widgets/controls",
            "layout": "IPY_MODEL_50b8c3a4b8ef42bc9e8d6688db7b139f"
          }
        },
        "4ec47d2b77e740748cce81015a5c5d1c": {
          "model_module": "@jupyter-widgets/output",
          "model_name": "OutputModel",
          "state": {
            "_view_name": "OutputView",
            "msg_id": "",
            "_dom_classes": [],
            "_model_name": "OutputModel",
            "outputs": [
              {
                "output_type": "display_data",
                "metadata": {
                  "tags": []
                },
                "image/png": "iVBORw0KGgoAAAANSUhEUgAAAYIAAAEWCAYAAABrDZDcAAAABHNCSVQICAgIfAhkiAAAAAlwSFlz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\n",
                "text/plain": "<Figure size 432x288 with 1 Axes>"
              },
              {
                "output_type": "display_data",
                "metadata": {
                  "tags": []
                },
                "image/png": "iVBORw0KGgoAAAANSUhEUgAAAYIAAAEWCAYAAABrDZDcAAAABHNCSVQICAgIfAhkiAAAAAlwSFlz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\nmVnBOQjMzArOQWBmVnAOAjOzgvv/skSA3uOTDDwAAAAASUVORK5CYII=\n",
                "text/plain": "<Figure size 432x288 with 1 Axes>"
              },
              {
                "output_type": "display_data",
                "metadata": {
                  "tags": []
                },
                "image/png": "iVBORw0KGgoAAAANSUhEUgAAAYIAAAEWCAYAAABrDZDcAAAABHNCSVQICAgIfAhkiAAAAAlwSFlz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\n+//92dQHZZMslAAAAABJRU5ErkJggg==\n",
                "text/plain": "<Figure size 432x288 with 1 Axes>"
              }
            ],
            "_view_module": "@jupyter-widgets/output",
            "_model_module_version": "1.0.0",
            "_view_count": null,
            "_view_module_version": "1.0.0",
            "layout": "IPY_MODEL_a43de019515a4eac83f001a02d3ad411",
            "_model_module": "@jupyter-widgets/output"
          }
        },
        "09df72ac86a24e50a00179b47aeca05b": {
          "model_module": "@jupyter-widgets/controls",
          "model_name": "SliderStyleModel",
          "state": {
            "_view_name": "StyleView",
            "handle_color": null,
            "_model_name": "SliderStyleModel",
            "description_width": "",
            "_view_module": "@jupyter-widgets/base",
            "_model_module_version": "1.5.0",
            "_view_count": null,
            "_view_module_version": "1.2.0",
            "_model_module": "@jupyter-widgets/controls"
          }
        },
        "b718310e07564edba47eea1363167e47": {
          "model_module": "@jupyter-widgets/base",
          "model_name": "LayoutModel",
          "state": {
            "_view_name": "LayoutView",
            "grid_template_rows": null,
            "right": null,
            "justify_content": null,
            "_view_module": "@jupyter-widgets/base",
            "overflow": null,
            "_model_module_version": "1.2.0",
            "_view_count": null,
            "flex_flow": null,
            "width": null,
            "min_width": null,
            "border": null,
            "align_items": null,
            "bottom": null,
            "_model_module": "@jupyter-widgets/base",
            "top": null,
            "grid_column": null,
            "overflow_y": null,
            "overflow_x": null,
            "grid_auto_flow": null,
            "grid_area": null,
            "grid_template_columns": null,
            "flex": null,
            "_model_name": "LayoutModel",
            "justify_items": null,
            "grid_row": null,
            "max_height": null,
            "align_content": null,
            "visibility": null,
            "align_self": null,
            "height": null,
            "min_height": null,
            "padding": null,
            "grid_auto_rows": null,
            "grid_gap": null,
            "max_width": null,
            "order": null,
            "_view_module_version": "1.2.0",
            "grid_template_areas": null,
            "object_position": null,
            "object_fit": null,
            "grid_auto_columns": null,
            "margin": null,
            "display": null,
            "left": null
          }
        },
        "8b535857f07f480e86d0a63f906b08ec": {
          "model_module": "@jupyter-widgets/controls",
          "model_name": "SliderStyleModel",
          "state": {
            "_view_name": "StyleView",
            "handle_color": null,
            "_model_name": "SliderStyleModel",
            "description_width": "",
            "_view_module": "@jupyter-widgets/base",
            "_model_module_version": "1.5.0",
            "_view_count": null,
            "_view_module_version": "1.2.0",
            "_model_module": "@jupyter-widgets/controls"
          }
        },
        "50b8c3a4b8ef42bc9e8d6688db7b139f": {
          "model_module": "@jupyter-widgets/base",
          "model_name": "LayoutModel",
          "state": {
            "_view_name": "LayoutView",
            "grid_template_rows": null,
            "right": null,
            "justify_content": null,
            "_view_module": "@jupyter-widgets/base",
            "overflow": null,
            "_model_module_version": "1.2.0",
            "_view_count": null,
            "flex_flow": null,
            "width": null,
            "min_width": null,
            "border": null,
            "align_items": null,
            "bottom": null,
            "_model_module": "@jupyter-widgets/base",
            "top": null,
            "grid_column": null,
            "overflow_y": null,
            "overflow_x": null,
            "grid_auto_flow": null,
            "grid_area": null,
            "grid_template_columns": null,
            "flex": null,
            "_model_name": "LayoutModel",
            "justify_items": null,
            "grid_row": null,
            "max_height": null,
            "align_content": null,
            "visibility": null,
            "align_self": null,
            "height": null,
            "min_height": null,
            "padding": null,
            "grid_auto_rows": null,
            "grid_gap": null,
            "max_width": null,
            "order": null,
            "_view_module_version": "1.2.0",
            "grid_template_areas": null,
            "object_position": null,
            "object_fit": null,
            "grid_auto_columns": null,
            "margin": null,
            "display": null,
            "left": null
          }
        },
        "69865b1e4d764a27985770574b38bb41": {
          "model_module": "@jupyter-widgets/controls",
          "model_name": "VBoxModel",
          "state": {
            "_view_name": "VBoxView",
            "_dom_classes": [
              "widget-interact"
            ],
            "_model_name": "VBoxModel",
            "_view_module": "@jupyter-widgets/controls",
            "_model_module_version": "1.5.0",
            "_view_count": null,
            "_view_module_version": "1.5.0",
            "box_style": "",
            "layout": "IPY_MODEL_a2d463ec57ea4071b8597172a1670a59",
            "_model_module": "@jupyter-widgets/controls",
            "children": [
              "IPY_MODEL_dbe1edf8d6104f1dbf6e3e376730ae79",
              "IPY_MODEL_1840d167795b43d3b92cf265838e212d",
              "IPY_MODEL_e758778770eb40ebaa7b7cd2f8574e7b"
            ]
          }
        },
        "a2d463ec57ea4071b8597172a1670a59": {
          "model_module": "@jupyter-widgets/base",
          "model_name": "LayoutModel",
          "state": {
            "_view_name": "LayoutView",
            "grid_template_rows": null,
            "right": null,
            "justify_content": null,
            "_view_module": "@jupyter-widgets/base",
            "overflow": null,
            "_model_module_version": "1.2.0",
            "_view_count": null,
            "flex_flow": null,
            "width": null,
            "min_width": null,
            "border": null,
            "align_items": null,
            "bottom": null,
            "_model_module": "@jupyter-widgets/base",
            "top": null,
            "grid_column": null,
            "overflow_y": null,
            "overflow_x": null,
            "grid_auto_flow": null,
            "grid_area": null,
            "grid_template_columns": null,
            "flex": null,
            "_model_name": "LayoutModel",
            "justify_items": null,
            "grid_row": null,
            "max_height": null,
            "align_content": null,
            "visibility": null,
            "align_self": null,
            "height": null,
            "min_height": null,
            "padding": null,
            "grid_auto_rows": null,
            "grid_gap": null,
            "max_width": null,
            "order": null,
            "_view_module_version": "1.2.0",
            "grid_template_areas": null,
            "object_position": null,
            "object_fit": null,
            "grid_auto_columns": null,
            "margin": null,
            "display": null,
            "left": null
          }
        },
        "dbe1edf8d6104f1dbf6e3e376730ae79": {
          "model_module": "@jupyter-widgets/controls",
          "model_name": "IntSliderModel",
          "state": {
            "_view_name": "IntSliderView",
            "style": "IPY_MODEL_61dbb4516f824153b81b95627972ed06",
            "_dom_classes": [],
            "description": "max_depth",
            "step": 1,
            "_model_name": "IntSliderModel",
            "orientation": "horizontal",
            "max": 6,
            "_view_module": "@jupyter-widgets/controls",
            "_model_module_version": "1.5.0",
            "value": 6,
            "_view_count": null,
            "disabled": false,
            "_view_module_version": "1.5.0",
            "min": 1,
            "continuous_update": true,
            "readout_format": "d",
            "description_tooltip": null,
            "readout": true,
            "_model_module": "@jupyter-widgets/controls",
            "layout": "IPY_MODEL_61dda0b9245140e28da5e1fd2e4a0e31"
          }
        },
        "1840d167795b43d3b92cf265838e212d": {
          "model_module": "@jupyter-widgets/controls",
          "model_name": "IntSliderModel",
          "state": {
            "_view_name": "IntSliderView",
            "style": "IPY_MODEL_099d06ecd3744e16b9f2f6644915fe7f",
            "_dom_classes": [],
            "description": "n_estimators",
            "step": 10,
            "_model_name": "IntSliderModel",
            "orientation": "horizontal",
            "max": 40,
            "_view_module": "@jupyter-widgets/controls",
            "_model_module_version": "1.5.0",
            "value": 40,
            "_view_count": null,
            "disabled": false,
            "_view_module_version": "1.5.0",
            "min": 10,
            "continuous_update": true,
            "readout_format": "d",
            "description_tooltip": null,
            "readout": true,
            "_model_module": "@jupyter-widgets/controls",
            "layout": "IPY_MODEL_30a06457e6304b18b9ed05689400c026"
          }
        },
        "e758778770eb40ebaa7b7cd2f8574e7b": {
          "model_module": "@jupyter-widgets/output",
          "model_name": "OutputModel",
          "state": {
            "_view_name": "OutputView",
            "msg_id": "",
            "_dom_classes": [],
            "_model_name": "OutputModel",
            "outputs": [
              {
                "output_type": "display_data",
                "metadata": {
                  "tags": []
                },
                "image/png": "iVBORw0KGgoAAAANSUhEUgAAAVoAAAEFCAYAAACiiS9UAAAABHNCSVQICAgIfAhkiAAAAAlwSFlz\nAAALEgAACxIB0t1+/AAAADh0RVh0U29mdHdhcmUAbWF0cGxvdGxpYiB2ZXJzaW9uMy4xLjIsIGh0\ndHA6Ly9tYXRwbG90bGliLm9yZy8li6FKAAAYc0lEQVR4nO3dfZxdVX3v8c83QR40IVSDPCQREAIY\nuFoRIhWq3iu2CVeJV2l5uKhQIBaNty0WpZVLKa2PKOBDBKMgRQtU6NU7lSgoFRAqJCFiagJoDIEk\ngjyTIGiYM7/+sdckh8nMnH0ye805e/J957VfnL32OmuvfYb8ZuW3115HEYGZmeUzrtMdMDMb6xxo\nzcwyc6A1M8vMgdbMLDMHWjOzzBxozcwyc6CtMUnflfTeEvWekfTK0ejTaJF0lKTVGdv/qqS/bdqf\nJ+mR9FlOSv99Ra7z29giz6PNLwWE3YBeoAGsAK4EFkREXwe7Vpqk5cBeaXcn4HmK6wH4eER8PMM5\nDwfOA/6A4nP7BTA/Iq6UdBTw1YjYu+rzDtKPHYGngNdFxPLc57OxxyPa0fP2iJhIEaw+CXwEuKyz\nXSovIg6KiAkRMQH4ETCvf3+wICtpu5GcT9KRwA+Am4BXAi8D5gFHj6TdrbQ7sEMVQXakn4vVkwPt\nKIuIpyOiBzgOeK+kgyXtIOkzkh6U9GtJl0raqf89kuZIulvSekm/lDQrld8s6bT0ej9Jt0h6WtJj\nkv6l6f0hab/0epKkKyU9KukBSedIGpeOnSzpttSXJyXdL2l2meuSdJqkWyV9XtITwDlN5fem9r4r\naVrTe2ZI+oGkJ1KddzU1+Rngsoi4ICIej8LiiDh+iPOfI2mVpA2Slks6punY/qlv/Z/NVal8XOrv\nI+nYMkkz0rFvSDpP0quA5ansGUk3StoufaZ7p/IdJV0oaU36+X0pjYI3pTgk/a2kh4GvlPk8bWxx\noO2QiFgErAX+kGKEuz/w+8B+wBTgXABJMynSDGcBuwBvBFYP0uQ/ADcCvwdMBb4wxKm/AEyiGCW+\nCXgPcErT8dcD9wGTgU8Dl0lSyct6A3APsCvwqRQ4zwLmpLI7gf4gNwH4frq2lwP/G1gg6QBJE4GZ\nwHUlzwvwc+CIdG0fA66StFs69jHgejZ/NvNT+WzgcGB6OnY88ERzoxFxD/Ca9HpCRPzRIOe+ANgH\neHVqa2/go03HpwITgFcA72/jmmyMcKDtrF8BLwXmAn8VEU9ExAbg4xR/6QFOBS6PiO9HRF9ErIuI\newdp63mKtMSeEfHbiLhtYAVJ41O7fxMRGyJiNfBZ4N1N1R6IiK9ERAP4J2APivxyGQ9GxCUR0YiI\n54A/p8jf3hcRvcA/AjMlTaEIvj+PiCsjojci7gK+DRybPhMBD5U8LxHxzYh4KH1GV1H8Mjq06bPZ\nG9gjfTa3N5XvDByY2lgREQ+XPScUo2LgdOAvI+LJiFgPfILNPz8octnnRcTG9LnYNsaBtrOmANsB\nLwbukvSUpKeA71GMAAGmAb8s0daHKYLTovRP5z8bpM5k4EXAA01lD6R+9NsUaCLi2fRyQonzA6wZ\nsL8XML/puh4D+ihGeHsBR/QfS8ePowjsTwCRXpeS0h4/bWrrQIrrBfgQxXUvkfSfSjM1IuJG4FLg\nEqA/ZTOx7DmT3YEdgOZzf4dilN7v1xGxsc12bQxxoO0QSYdRBLhvA88BB0XELmmblG46QRG89m3V\nXkQ8HBGnR8SewPuAL/XnZZs8xuaRb79XAOtGeDmbujFgfw1watN17RIRO0XEnenYTQOOTYiIeWlU\nvwh418ATDEbF1LVLgDOAl0XELsC9FL94SCPd0yJiD+ADFCmKfdKxiyPiEOBgYAZwZpvX/GtgI3DA\ngJ/fpGE+F9vGONCOMkk7S3obcA3wjYj4KcUNkoskvTzVmSLpj9NbLgNOkfSWdPNmiqQDB2n3TyRN\nTbtPUvzlfsHUsZQO+CbwMUkTJe1FEVi+keFSoRgtfjTdUELSLpKOTcd6gIMknSjpRWmbKemAdPws\n4DRJZ0p6aXr/a/tvZA0wgeJ6Hy2q6XRSOiC9709TugKKaVoBNNL5ZqqYCfAbioDZ1nS79Jl+FbhY\n0q4qTJU0WC7XtlEOtKPn3yRtoBjJfRS4kM03oT4CrATukLSeYlrTAbDpptkpwEXA08AtvHBE2u8w\n4E5Jz1AEsb+IiFWD1PsgRVBZBdxGcXPq8ioucKCIuJbiOq9N17UM+ON07On0+iSKXOzDFLnNHdLx\nHwFHpTqr00yGS4CFg5xnGcVNvkWprQMobrz1ez2wWNJvgP8HfCAiHqS4uXgZRfBdnd574VZc6oco\nUjCLKH5GN1LcFDMD/MCCmVl2HtGamWXmQGtm1kTS5ekhlp8NcVzpQZeV6SGXQ1q16UBrZvZCVwCz\nhjk+myIHP51iDvwlrRp0oDUzaxIRtzLgCcEB5gBXpsfC7wB2kTTsnO8sC1w8d/3FldxhO+SUwWby\n5Hf++O67YTz7pGdbV0p2+dyiLcrev+eRVXZnm7Si8VSnuzAm/WDNDWUf8R7S84+tKh1ztt913/dR\njET7LYiIBW2cbgovfDhnbSob8klGryRkZtuUFFTbCawj5kBrZvXX1xjNs62jeDS+31RaPF3pHK2Z\n1V+jt/w2cj3Ae9Lsg8OBpyNi2AWQPKI1s9qr8otKJF0NvBmYLGkt8HcUixIREZdSPJ14NMXTnM/y\nwmVGB+VAa2b111ddoI2IE1ocD4rFiUpz6mAb8aVfbbE8rdnYEX3ltw7wiHYb4eldNqaN7s2wtjnQ\nmln9dfmXSTvQmlntRTWzCbJxoDWz+qvwZlgODrRmVn9OHZiZZeabYWZmmXlEa2aWmW+GmZll5pth\nZmZ5Fd/63r0caM2s/pyjNTPLrMtTB129qMzSr53Y6S6MGV5UxsY0Lyqz9Tr1nWFjkReVsTGt8Xyn\nezCsrg60ZmaldHnqwIHWzOrPN8PMzDLziNbMLDMHWjOzvMI3w8zMMnOO1swss20xdfDQ2Qsraef6\n3XappJ32Pdqh8w7tke+Vr7tot0O3LGz8trK+vOrv9q2srRwevfSnne5CS//6yB5tv+fq3jWbXt8y\nfzYAS89YUlmfas0jWjOzzLbFEa2Z2ajyiNbMLLPe7l74u6sXlTHbGrv++Ws63QUbbV5Uxmx01eFm\nmFXMOVozs8ycozUzy8wjWjOzzDyiNTPLrMtnHTjQmln9RXS6B8NyoDWz+nOO1swssy4PtH5gwczq\nr8IHFiTNknSfpJWSzh7k+Csk/VDSTyQtk3R0qzY9ojWz+ms0KmlG0nhgPvBWYC2wWFJPRKxoqnYO\n8M2IuETSDGAhsPdw7TrQmln9VZc6mAmsjIhVAJKuAeYAzYE2gJ3T60nAr1o16kBrZvXXRqCVNBeY\n21S0ICIWpNdTgDVNx9YCrx/QxHnAjZI+CLwEOKrVOR1ozaz+2nhgIQXVBS0rDu0E4IqI+KykPwC+\nLungiKE74UBrZrUXfZXNo10HTGvan5rKmp0KzAKIiB9L2hGYDDwyVKOedWBm9dfXV34b3mJguqR9\nJG0PHA/0DKjzIPAWAEmvAnakxfdfeURrZvVX0ayDiOiVNA+4ARgPXB4RyyWdDyyJiB7gQ8BXJP0V\nxY2xkyOGfzTNgdbM6q/CBxYiYiHFlK3msnObXq8AjminTQdaM6u/Ln8yzIHWzOrPi8qYmWXmEa2Z\nWWbVTe/KwoHWzOqvolkHuTjQmlnthVMHZmaZOXVgZpaZv5zRzCwzj2jNzDLr9c0wM7O8nDowM8vM\nqQMzs7w8vcvMLDePaM3MMnOgNTPLzI/gmpnlVeF3hmXhQGtm9edAa2aWmWcdmJll5hGtmVlmDrRm\nZnlFw6kDM7O8PKI1M8vL07vMzHJzoDUzy6y7U7QOtGZWf9Hb3ZHWgdbM6q+746wDrZnVn2+GmZnl\n5hGtmVleHtGameXW5SNaRVT/m2CHHad19a+XRhsr/YyTtijbd9KeVXZnRFatf6jTXSit+XN/0fix\n8zu+t9Hb6S5ktV3mn9Vzzz2w5V+yNj3+P99UOua87PpbRny+do2d/9utNhxk6yN3kK1Kl3/bOOM6\n3QEzsxHra2NrQdIsSfdJWinp7CHq/KmkFZKWS7qqVZv1+HVlZjaMqka0ksYD84G3AmuBxZJ6ImJF\nU53pwN8AR0TEk5Je3qpdj2jNrPair/zWwkxgZUSsioiNwDXAnAF1TgfmR8STABHxSKtGHWjNrPai\nodKbpLmSljRtc5uamgKsadpfm8qa7Q/sL+l2SXdImtWqf04dmFnttZM6iIgFwIIRnG47YDrwZmAq\ncKuk/xYRTw33BjOzWou+ymZsrQOmNe1PTWXN1gJ3RsTzwP2Sfk4ReBcP1ahTB2ZWexXmaBcD0yXt\nI2l74HigZ0Cdb1OMZpE0mSKVsGq4RksFWklvl+SgbGZdKUKlt+HbiV5gHnADcA/wzYhYLul8Scek\najcAj0taAfwQOCsiHh+u3bKpg+OAiyX9K3B5RNxb8n1mZtlV+cBCRCwEFg4oO7fpdQBnpq2UUoE2\nIk6StDNwAnCFpAC+BlwdERvKnszMLIe+xqg/VduW0umAiFgPXEcxr2wP4H8BSyV9MFPfzMxKiT6V\n3jqh1IhW0hzgZGA/4EpgZkQ8IunFwArgC9l6aGbWQqcCaFllc7TvBC6KiFubCyPiWUmnVt8tM7Py\nMixCWKmyqYOHBwZZSZ8CiIibKu+VmVkbuj11UDbQvnWQstlVdsTMbGtVNb0rl2FTB5LOAN4P7Ctp\nWdOhicDtOTtmZlZWo8tnHbTK0V4FfBf4BNC8LuOGiHgiW6/MzNrQqZFqWa0CbUTEakkfGHhA0ksd\nbM2sG9R91sFVwNuAu4AAmq8mgFdm6peZWWndPutg2EAbEW9L/91ndLpjZta+bh/Rll1UZospXIOV\nmZl1QqNvXOmtE1rNOtgReDEwWdLvsTl1sDNbrjpuZtYRtU4dAO8D/hLYkyJP2x9o1wNfzNgvM7PS\n+uo86yAiPgd8TtIHI8LrGZhZV6r79C4AIuILkt4A7N38noi4MlO/zMxKq3vqAABJXwf2Be4GGqk4\nKFbyMjPrqFqnDpocCsxIK4ubmXWVTs0mKKts734G7J6zI2ZmWyva2Dqh7Ih2MrBC0iLgd/2FEXHM\n0G8xMxsdYyV1cF7OTpiZjcRYmXVwS+6OmJltrQq/BDeLso/gHi5psaRnJG2U1JC0PnfnzMzKCFR6\n64SyqYMvAscD11LMQHgPsH+uTpmZtaO3y1MH7Xzd+EpgfEQ0IuJrwKx83TIzK2+sjGiflbQ9cLek\nTwMP0UaQNjPLaUzkaIF3A+OBecBvgGnAu3J1ysy6Q2+jt9NdKGVMjGgj4oH08jng7/N1x8y6yXbj\ny/6jt7O6fURbdq2D+xnkoYqI8FfZmFnHNTo0Ui2rnbUO+u0I/Anw0uq7Y2bWvi7/JpvSqYPHBxRd\nLOku4Nzqu2Rm1p6+sTCilXRI0+44ihFuPZI3ZjbmdfuygmWD5WfZfC29wGqK9IGZWceNiZthwHco\nAm3/+DyAt0nFbkRcWH3XzMzK6dMYSB0ArwMOA/4/RbB9O7AI+EWmfpmZldZoXaWjygbaqcAhEbEB\nQNJ5wPURcVKujpmZlVXlrANJs4DPUTyk9dWI+OQQ9d4FXAccFhFLhmuzbKDdDdjYtL8xlZmZdVxV\nsw4kjQfmA28F1gKLJfVExIoB9SYCfwHcWabdsoH2SmCRpG+l/XcAV5R8r5lZVhXOOpgJrIyIVQCS\nrgHmACsG1PsH4FPAWWUaLbXWQUR8DDgFeDJtp0TEJ8r128wsrz6V3yTNlbSkaZvb1NQUYE3T/tpU\ntkma7jotIq4v27/Sc2EjYimwtGx9M7PR0s70rohYACzYmvNIGgdcCJzczvv80IGZ1V6jupth6yhW\nJ+w3NZX1mwgcDNycprfuDvRIOma4G2IOtGZWexU+sLAYmC5pH4oAezxwYv/BiHia4lvBAZB0M/DX\nVc06aMu6/14s6vXhe3bdVPZ/YuNQ1QG45/mJW5QdOeXhajtWE/evKb9ez8Gzd6rsvI/e82IAphz9\nok1l4w8/dKjqbev7xcrK2qqLB694bNPrO57d/HN95/94KOt519+btfmuU1WgjYheSfOAGyimd10e\nEcslnQ8siYierWnXI1ozq70qvzIsIhYCCweUDbqAVkS8uUybDrRmVntjZa0DM7OuNVYewTUz61pj\nYuFvM7Nu5tSBmVlmDrRmZpmNlW9YMDPrWs7Rmpll5lkHZmaZ9XV58sCB1sxqzzfDzMwy6+7xrAOt\nmY0BHtGamWXWq+4e0zrQmlntdXeYdaA1szHAqQMzs8w8vcvMLLPuDrMOtGY2Bjh1YGaWWaPLx7QO\ntGZWex7RmpllFh7Rmpnl5RGtmVlmnt5lZpZZd4dZB1ozGwN6uzzUOtCaWe35ZpiZWWa+GWZmlplH\ntGZmmXlEa2aWWSM8ojUzy8rzaM3MMuv2HO24TndgOLet273TXTCzGuhrY+uErh7RHjnl4U53wcxq\noNtTB109ojUzKyPa+NOKpFmS7pO0UtLZgxw/U9IKScsk3SRpr1ZtOtCaWe01Ikpvw5E0HpgPzAZm\nACdImjGg2k+AQyPi1cB1wKdb9c+B1sxqr48ovbUwE1gZEasiYiNwDTCnuUJE/DAink27dwBTWzXq\nQGtmtdfOzTBJcyUtadrmNjU1BVjTtL82lQ3lVOC7rfrX1TfDzMzKaGd6V0QsABaM9JySTgIOBd7U\nqq4DrZnVXoWzDtYB05r2p6ayF5B0FPBR4E0R8btWjTrQmlntRXWP4C4GpkvahyLAHg+c2FxB0muB\nLwOzIuKRMo060JpZ7VX1deMR0StpHnADMB64PCKWSzofWBIRPcAFwATgWkkAD0bEMcO160BrZrVX\n5QMLEbEQWDig7Nym10e126YDrZnVXoWpgywcaM2s9rr9EVwHWjOrvW5fvcuB1sxqzwt/m5ll5tSB\nmVlmDrRmZpl51oGZWWYe0ZqZZdbtsw6UY8g9e9rsLRr94qTR+7aem5/addTOdWDvb0ftXIPZffKG\njp7/ZQdt7Oj527F28UtK1dvjoME/08WL9qiyO1n94RkCYOmlz28qu2mHHTa9fgdbXuO/MTF/xwbx\nfx/4Z420jUP2OLJ0IFv60G0jPl+7PKI1s9pzjtbMLDPnaM3MMuv2HK2/ysZsgIeWdyZXaVuvL6L0\n1gke0ZoNMNTNMOte3T6idaA1s9prxOjNatoaDrRmVnudSgmU5UBrZrXn1IGZWWYe0ZqZZeYRrZlZ\nZo1odLoLw3KgNbPa8yO4ZmaZ+RFcM7PMPKI1M8vMsw7MzDLr9lkHXlTGbAAvKlM/jegrvXWCR7Rm\nA3hRmfpxjtbMLDPnaM3MMvOI1swsM8+jNTPLzCNaM7PMvPC3mVlmvhlmZpZZt6cO/MCCmdVetPGn\nFUmzJN0naaWkswc5voOkf0nH75S0d6s2HWjNrPYiovQ2HEnjgfnAbGAGcIKkGQOqnQo8GRH7ARcB\nn2rVPwdaM6u9vojSWwszgZURsSoiNgLXAHMG1JkD/FN6fR3wFkkarlF1e27DzKxKkuYCc5uKFkTE\ngnTsWGBWRJyW9t8NvD4i5jW9/2epztq0/8tU57GhzumbYWa2TUlBdcFontOpAzOzzdYB05r2p6ay\nQetI2g6YBDw+XKMOtGZmmy0GpkvaR9L2wPFAz4A6PcB70+tjgX+PFjlYpw7MzJKI6JU0D7gBGA9c\nHhHLJZ0PLImIHuAy4OuSVgJPUATjYflmmL2ApGciYkLFbR4DzIiIT0p6B/DziFjRZhs3A38dEUuq\n7JvZaHDqwLKLiJ6I+GTafQfF/ESzbYYDrQ1KhQsk/UzSf0o6LpW/WdLNkq6TdK+kf+6fQyjp6FR2\nl6TPS/pOKj9Z0hclvQE4BrhA0t2S9k1tHZrqTZa0Or3eSdI1ku6R9C1gp6a+/ZGkH0taKulaSZWO\nwM2q5hytDeWdwO8DrwEmA4sl3ZqOvRY4CPgVcDtwhKQlwJeBN0bE/ZKuHthgRPyHpB7gOxFxHcAw\n87zPAJ6NiFdJejWwNNWfDJwDHBURv5H0EeBM4PwqLtosBwdaG8qRwNUR0QB+LekW4DBgPbCoabL2\n3cDewDPAqoi4P73/al44KbxdbwQ+DxARyyQtS+WHU6Qebk9BenvgxyM4j1l2DrS2NX7X9LrByP4/\n6mVzCmvHEvUFfD8iThjBOc1GlXO0NpQfAcdJGi9pV4oR5qJh6t8HvLJpJaPjhqi3AWj+Pu/VwOvS\n62Obym8FTgSQdDDw6lR+B0WqYr907CWS9i9xPWYd40BrQ/kWsAz4KfDvwIcj4uGhKkfEc8D7ge9J\nuosioD49SNVrgLMk/UTSvsBngDMk/YQiF9zvEmCCpHso8q93pfM8CpwMXJ3SCT8GDhzJhZrl5nm0\nVhlJEyLimTQLYT7wi4i4qNP9Mus0j2itSqenm2PLKZ7//nKH+2PWFTyiNTPLzCNaM7PMHGjNzDJz\noDUzy8yB1swsMwdaM7PM/gsFujc0vfu3OQAAAABJRU5ErkJggg==\n",
                "text/plain": "<Figure size 432x288 with 2 Axes>"
              },
              {
                "output_type": "display_data",
                "metadata": {
                  "tags": []
                },
                "image/png": "iVBORw0KGgoAAAANSUhEUgAAAVoAAAEFCAYAAACiiS9UAAAABHNCSVQICAgIfAhkiAAAAAlwSFlz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\nzIHWzKxgDrRmZgX7/4qkmG4Jl5kuAAAAAElFTkSuQmCC\n",
                "text/plain": "<Figure size 432x288 with 2 Axes>"
              },
              {
                "output_type": "display_data",
                "metadata": {
                  "tags": []
                },
                "image/png": "iVBORw0KGgoAAAANSUhEUgAAAVoAAAEFCAYAAACiiS9UAAAABHNCSVQICAgIfAhkiAAAAAlwSFlz\nAAALEgAACxIB0t1+/AAAADh0RVh0U29mdHdhcmUAbWF0cGxvdGxpYiB2ZXJzaW9uMy4xLjIsIGh0\ndHA6Ly9tYXRwbG90bGliLm9yZy8li6FKAAAdQElEQVR4nO3df9QkVX3n8fdnBglGQKKTRGFYQMCj\nhBhFAX/sKmdFgxwFNokCYlyMMq4JHhM3+CNrWINxRV0loBidKCF4IkRJzM7qJLBRkQ2LMgMYlDHE\nCaAMYgiK/DTAPM93/6h6mOahf1T3U7frVtXnNafP9NNdfau6u/rWp27dW6WIwMzM0lnV9AKYmXWd\nK1ozs8Rc0ZqZJeaK1swsMVe0ZmaJuaI1M0vMFW3HSTpJ0qUzvvZ6SUfUvEjZkfRxSb/f9HJYd8n9\naPMi6WbgDRHxd3Oe7/nAtoh41wyvDeB+IIC7gL8ATouIhVoX0qylnGitLr8UEbsCLwKOB36j7hmo\n4HXWWscrbUtIOkXSVkk/krRB0p4Dz71U0g2S7pL0MUlflfSG8rmTJf19eV+SzpJ0u6S7JX1T0sGS\n1gEnAW+TdK+k/11Of7OkI8v7qyX9nqR/lnSPpKsl7b18OSNiK3AF8MyB5Xu8pE9Juk3SrZL+UNLq\ngXI/JOkOSTdJOlVSSNqpfP4ySe+VdAVFan7KhPIOKN//XWWZfzHuvZfPnS/pDyt+1iHpv0j6jqQf\nSzpXkur4jq27XNG2gKT/CLwPeBXwZOC7wEXlc2uAi4F3Ak8EbgCeP6KolwIvBJ4KPL4s74cRsR74\nc+ADEbFrRLxiyGvfCpwIHA3sTpFY7x+yrE8D/gOwdeDh84HtwAHAs8rleEP53CnAyygq5kOA44bM\n+9eBdcBu5XsfV957gEuBnwHWAh8Z996HLP/Iz3rAy4FDgWeU0/3ykGU2e5gr2nY4CTgvIq6JiAco\nKtXnSdqXouK7PiL+KiK2A+cAPxhRzkMUldXTKNrnvx0Rt1VchjcA74qIG6LwDxExWFFdI+k+4NvA\nZcDHACT9fLmMvx0R90XE7cBZwAnl614FnB0R2yLiTuDMIfM+PyKuL9/fEyaU9xCwD7BnRPxbRPz9\nlO993Ge95MyI+HFEfA/4CgPp3WwYV7TtsCdFsgIgIu6lSGN7lc/dMvBcANuGFRIRXwY+CpwL3C5p\nvaTdKy7D3sA/j3n+EGBXivbZw4HHlY/vAzwGuK3c1f4x8Ang5wbe2y0D5QzeH/bYpPLeBgi4quw1\n8Rsw1Xsf91kvGdyQ3V++b7ORXNG2w/cpKhgAJD2OopngVuA2il3kpec0+PdyEXFORDwbOIhiN/q0\npacmLMMtwP7jJiiT7meBK4HTB173ALAmIvYob7tHxC+Uzz9i+Skq9EcVvWw5RpYXET+IiFMiYk/g\njcDHJB0w4b0PGvdZm83EFW2eHiNpl6UbcCHwOknPlPRTwP8Avh4RNwNfBH5R0nHlAaTfAp40rFBJ\nh0o6XNJjgPuAfwMWy6f/BXjKmGX6JPAeSQeWB5aeIemJI6Y9EzhF0pPK3fNLgQ9J2l3SKkn7S3pR\nOe1ngbdI2kvSHsDbx30wk8qT9EpJSxX3nRSV9OKE9z5o3GdtNhNXtHnaCPxk4HYE8PvAX1IkwP0p\n2yQj4g7glcAHKHZxDwI2U6S+5XYH/oSiAvpuOf0Hy+c+BRxU7o7/9ZDXfpiiUrwUuLuc/rHDFj4i\nvglczo7E+FpgZ2BLOe+LKQ40US7PpcB1wLXle98OjOuDO668Q4GvS7oX2AC8JSJunPDeB5f97xjx\nWZvNygMWOkZFP9NtwEkR8ZWml2dakl4GfDwi9pk4sVlLONF2gKRflrRHuav7exQHg77W8GJVIumx\nko6WtJOkvYD/Dny+6eUyq5Mr2m54HkWPgDuAVwDHRcRPml2kygT8AcUu/bUU3cNOH/sKs4QknVcO\nbPnWiOcl6ZxyUMt1kg6ZWKabDszMdpD0QuBe4IKIOHjI80cDb6boz304RT/ww8eV6URrZjYgIi4H\nfjRmkmMpKuGIiK8Be0h68pjp2anOBVxyxj4nOSY3aFifpS5Z7MCZBRYndlvOwzyW8r03f2bF3+hD\nd9xYeVF3/tn930gxpHvJ+nIYelV78chBNNvKx0aOskxS0ZqZ5aqsVKepWFcsSUXbgcAxd3Umhza1\nB82SvldlGganSdqrGv6VVE3UrfktL8711Me38sgRjGuZMHKwTb9JM7PhFrZXv63cBuC1Ze+D5wJ3\nTTo5U5JE26fau6720NYkhzFmCZq5ryvTfL9NJ+0uJuqqIuo7MiHpQorRmGskbaPo2/2YYj7xcYrR\ni0dTnAr0fuB1k8p0G62Ztd9ifRVtRJw44fmgOKdIZYkS7fy3lk0dxc09kc1i1lU291Te9sQ96Xtp\nOlEPmpSua68jaky0KTjRmln7zfdg2NRc0ZpZ+znRzkfTjfs5WWkzSk67y5NM8/PKcQ2Z5ptq+nvJ\n+cBg1NObIJnOVLRm1mM1HgxLwQMWMrTSMND2dD9NIm865Y1S9Wef0zc16VPP9bMG3HRgZpZcHw+G\nZb3lq0HqbWdOKWelZutSlf8nMCl15/IbaHsbdmVOtGZmifXxYFiKI445nRovl7Qyb7Nkhoy+tomm\n6wGQxztrS7KGxHuCfTwYZmY2TxE9bKNNIafhhW1Uxx5BTulonC4MIa66ujedrLPpIeI2WjOzxPrY\ndJBTMmi7uoJ8F/YIqqbyNiTvSdVCLr+hyX1rM1lSJ1ozs8QWHmp6CcZyRWtm7dfHpoM27LrVxYMX\npjdrK0buzR/TXeEgD21pwpjITQdmZon1MdH2SS7JpCldH8QwaOKBoQwT9+QrHXSEK1ozs7SijwfD\nOrOV7JlZMkHbv+u2n3SlTSk76TB6t9GamSXWx6aDnLaiXVdnSuhTOl2S63vu5InDU9YLTrRmZon1\nMdHmtJVtWupw3/W9hzb2Ta1iUrWQ43vJus+tE62ZWWLbe3jib9vB6X6HmS5r06LE3vb03caU/TAn\nWjOzxPrYRmtmNld9TLRZ72LYinXhCgazaNPggGE6PRzXidbMLDEnWstBnathl77frg/BHZRT4q59\nOK57HZiZJRYZbUWGSDNgIe/3nKVIHJe6lEJH6dIQ3CVZDxIYY+7t2W6jNTNLzBWtVeG9gOGmSfq5\np9Nh2jpIILukXePBMElHAWcDq4FPRsSZy57/d8CfAXuU07wjIjaOK9MVrZm138JCLcVIWg2cC7wE\n2AZskrQhIrYMTPYu4LMR8ceSDgI2AvuOK9e9DmxuZrrsTUuTftUknutvpXVJu76mg8OArRFxI4Ck\ni4BjgcGKNoDdy/uPB74/qVAnWjNrvykqWknrgHUDD62PiPXl/b2AWwae2wYcvqyIdwOXSnoz8Djg\nyEnzdEVrZu03RRttWamunzjhaCcC50fEhyQ9D/i0pIMjRi+Emw6sspXunHVpvZh4MCjzJo9JTRtt\n+65isbYP/FZg74G/15aPDXo9cBRARFwpaRdgDXD7qELb9nmamT3a4mL123ibgAMl7SdpZ+AEYMOy\nab4HvBhA0tOBXYB/HVeorxnWEUmvMFrq+lZ5msSe+2fR9sQ9tZp6HUTEdkmnApdQdN06LyKul3QG\nsDkiNgD/FfgTSb9DcWDs5IjxQ9PcRmtm7VfjgIWyT+zGZY+dPnB/C/CCacp0RdsR3ovYYdZ0n3tK\nHdS67lfUe2KjRxfukWFmZmn18qQyKQq13qv6U+pCum/jSbobTdlOtGZmidXXvSsJ96O1uVlp5mj7\nnlJbT9I9zLDE3ejvvqZeB6k40ZpZ64WbDh4t96217VBn/9yu7+lkd+rAFWjdhSj72HRgZjZXfbw4\no5nZXPUx0Wa3W1FB07t1uX5kbfwu6zRN00mbmka61MwBwHYfDDMzS6uPTQet2xpmwJ9ZerOE87Ym\n+jYOeFiRPjYdmJnNUy+7d63KtsXRumBxxvzfpb2G1nW/Wqb203o60ZqZJeaKtprct8BWn5Wmma7u\nMU2T1HNP53NP3B6Ca2aWVo3XDEuil/1oO3fEtWapDyvkvn6kMrknQHs+mEnpe+6Ju48VrZnZXPWz\n14G1mb+/6qa6oGPeoesRWpe+nWjNzBJzRWtmllYs9LDpYEnuXVDMBs00RLf2pZivUdVTm5o5ACda\nM7PUetm9q64kuyrzSwhbnhblIbqVrxicdCnmqI8VrZnZXOXdRJtqwELeW5fObMU7pq7fSu7rXx0m\npfYupfMqYnveNa0TrZm1X971rAcs5GieaSSn7Of1ZodJ9UYbU/usbedV9PJgmJnZXPUx0U7St/aj\nnPm7mJ9pMlcb032TKdyJ1swstT4m2tQpKbsTWljvzHI5nbbvPUw8mfdclmK42N7gzCtwojWz1sv8\nauOtbAoyM3ukxSluE0g6StINkrZKeseIaV4laYuk6yV9ZlKZvb8KbutOnmG1mvX6ZW1ax6vK7qoJ\nU6gr0UpaDZwLvATYBmyStCEitgxMcyDwTuAFEXGnpJ+bVK4TrZm1XixWv01wGLA1Im6MiAeBi4Bj\nl01zCnBuRNwJEBG3Tyo0aRut0yKog8mnKZEgU/VpHW3dVROmEAtTXEFYWgesG3hofUSsL+/vBdwy\n8Nw24PBlRTy1LOcKYDXw7oj423Hz9MEwM2u9aZoOykp1/cQJR9sJOBA4AlgLXC7pFyPix+NeULuV\npgSnQBvG68WjTZPyu5zeY9bG9ke7Fdh74O+15WODtgFfj4iHgJsk/RNFxbtpVKFuozWz1quxjXYT\ncKCk/STtDJwAbFg2zV9TpFkkraFoSrhxXKGVEq2kVwBfjKgW0JtIHt5iWJdU3RN2yi9E1JNoI2K7\npFOBSyjaX8+LiOslnQFsjogN5XMvlbQFWABOi4gfjiu3atPB8cAfSfrLcsb/OPM7MTOrWZ0DFiJi\nI7Bx2WOnD9wP4K3lrZJKFW1EvEbS7sCJwPmSAvhT4MKIuGf59G1Ml21cZmuXaeqCLq2P8xi0tThF\nr4MmVP4+I+Ju4GKKfmVPBv4TcI2kNydaNjOzSmJRlW9NqNpGeyxwMnAAcAFwWETcLumngS3AR5It\noZnZBE1VoFVVbaP9FeCsiLh88MGIuF/S62edeZd2jwb5AEU3rXTARBfX9yrNAvN437lfcKLqZ/CD\n5ZWspPcDRMSXal8qM7MpdKLpgOIEC29f9tjLhjwGpNmCOSXu0MVkVKdUB1/6uA5OSvG5rIt1de9K\nZWxFK+lNwG8C+0u6buCp3YArUi6YmVlVC5n3OpiUaD8D/A3wPmDwvIz3RMSPRr0opy1/Lltcmx9/\n55N1bUBEqxMtRd/cmyX91vInJD1hXGVrZjYvbe918Bng5cDVFJcMGnw3ATyl6ozalDLashU3GzTV\nCWYSLkcTcu91MLaijYiXl//vN5/FMTObXtsTLQCSvhQRL5702JKVbi3bnijbfAJly8s0V9tt++9m\nJRYW887ok3od7AL8NLBG0s+wo+lgd4ozkZuZNa7VTQfAG4HfBvakaKddqmjvBj466kXz3LJ2PT2u\nynuPyCZYXOHq2fX1uy6Lbe51EBFnA2dLenNEZHc+A6+EZgbt794FQER8RNLzgX0HXxMRFyRaLjOz\nytredACApE8D+wPfoDijOBTduypXtDmlT++OD9fHgykprqw7yOvayptPqs0j7w+66rkOngMcVJ5Z\n3MwsK63udTDgW8CTgNuqTDxLes19y9/HtNcH/l5nM9XgiDn8tnP/FqtWtGuALZKuAh5YejAijkmy\nVGZmU+hK08G7pyk09RasTSkk7x0asx2mOb1kbr/BrvQ6+GrqBTEzm9U8LgC5ElV7HTyX4rpgTwd2\nprje+X0RsfvY12Ww1Wt7oiwuOGw2m2mSXpt/K6l7j6xU1aaDjwInAJ+j6IHwWuCpqRbKzGwa27vQ\ndAAQEVslrY6IBeBPJV0LvHPYtLMk2aa3pl1Pjqs6/v66aqUHebq+Xi/pSqK9X9LOwDckfYCim1fT\ndaOZGdCRNlrg1ynaZU8FfgfYG/jVURMnuThjRltmp8Px8s4W9ZjXGuB1rZpOJNqI+G559yfAH6Rb\nHDOz6XUi0Uq6iSEb8YiofCkbM7NUFrqQaCl6GizZBXgl8IRpZjTPXf8cd7fyXg1sWv4+V6buX2jm\nV7Kp3HTww2UP/ZGkq4HT618kM7PpTHPJnyZUbTo4ZODPVRQJd+RrZ0mvTaXQvL+ePNO52TDTdEWr\n+3eX+6+katPBh9jxXrYDN1M0H5iZNa4TB8OAL1BUtEsbogBeLhV/RsSHBydOkcKaSp5tT5Q5dYuz\n9pjlJC1N/lYWlfe+adWK9tnAocD/oqjzXgFcBXwn0XKZmVW2MHmSRlWtaNcCh0TEPQCS3g18MSJe\nU3VGqbc3OSXPrqfInD5rG2/WIbxtW4fr7HUg6SjgbIpBWp+MiDNHTPerwMXAoRGxeVyZVSvanwce\nHPj7wfIxM7PG1dXrQNJq4FzgJcA2YJOkDRGxZdl0uwFvAb5epdyqFe0FwFWSPl/+fRxw/siFrVjo\noHmmpJy21k6H1WXeDDeVeV19ry/rV43v8jBga0TcCCDpIuBYYMuy6d4DvB84rUqhlU5LEBHvBV4H\n3FneXhcR76u23GZmaS2q+k3SOkmbB27rBoraC7hl4O9t5WMPK7u77h0RX6y6fNOcJvEa4Jqq05uZ\nzcs03bsiYj2wfpb5SFoFfBg4eZrXVa5op5Gke1fPh/AO6tIudF/5O6zXQn2f560UZydcsrZ8bMlu\nwMHAZWX31icBGyQdM+6AWJKK1sxsnmocsLAJOFDSfhQV7AnAq5eejIi7KK4KDoCky4DfravXwYql\nTqSNDeFtSTLJ6QCgWd3qqmgjYrukU4FLKLp3nRcR10s6A9gcERtmKdeJ1sxar85LhkXERmDjsseG\nnkArIo6oUmaSijbHk8o0nTy7kChzb7u2fKz0WmdTz2+uc5ueE62ZtV5XhuBOJU2vg9qLHDOvZpNb\n15Nj03sXNtlKB1TMex3uxIm/zcxy5qaDIVIkmr73s3VKrK7pPZZZzXLqwlm1bX1yRWtmlljum85E\nvQ5W+vr6Pzb3s92hrYmu7/y9jeY2WjOzxHrZ68DMbJ4WM288aOUQ3C4ObmjTbmGOBwOt33wwzMws\nsdw3/Y0OwU2VjFIn0qbTZ9sTpVa1e/ktP060ZmaJbc88fGQ9BDdVMu3qKRuH6VN6zLErXV/N65po\nD89vvrObmhOtmbWemw6GqCt5pEqmc70ib0aJ04mwPk18r5FRr/15r0vu3mVmllje1WxGQ3DblE7n\nmVZyT5k5JfK+6/N34aYDM7PEFjLPtEkr2lxHg6Xe8jcysqylaabpPsnWDU60ZmaJRZ8TrZnZPPQy\n0TYxBLfOXefkQ3gb3s3v0u56ToNDrDnu3mVmllje1WzuQ3BrSH5Jrk821+5d+axCfUyPWtX0ElgV\n2zOvap1ozaz1fDBsiJUmwjpTaop02vsr8joF2pz18mCYmdk89TLRzpISc02pXTmlYhtSZk7t0dYu\nTrRmZoktzPsEuFOa48UZV/j6TFNq8gtFNpBE25osm+6fbM1xP1ozs8T62UY7y2kSV9wTYWWvT3ah\nyMSJtOn02dUUmfvpKe2R3EZr1jKuZNsn96aDFhyLNjMbL6b4N4mkoyTdIGmrpHcMef6tkrZIuk7S\nlyTtM6nMtOejbbg5AOocDlxLMY8ud27du/LZ4jsx7pDT99JmdfU6kLQaOBd4CbAN2CRpQ0RsGZjs\nWuA5EXG/pDcBHwCOH1euE62Ztd4iUfk2wWHA1oi4MSIeBC4Cjh2cICK+EhH3l39+DVg7qdBGByzM\nmubqPb1iTeUkO5g2/8STa+J0+rNRpjkYJmkdsG7gofURsb68vxdwy8Bz24DDxxT3euBvJs3TB8PM\nrPWm6d5VVqrrJ044gaTXAM8BXjRp2iyvGbbSxLrSlJoinaZKY74+2XhtWlabXY29Dm4F9h74e235\n2CNIOhL4b8CLIuKBSYU60ZpZ60V9Q3A3AQdK2o+igj0BePXgBJKeBXwCOCoibq9SaCOXsml7Yk1z\nasXai3xk+Q0luy4lylzbrq2+y41HxHZJpwKXAKuB8yLieklnAJsjYgPwQWBX4HMqVorvRcQx48p1\nojWz1qtzwEJEbAQ2Lnvs9IH7R05bZtKKdtbkOktizSmltvXyObmkzz4lx1w+87arsekgCSdaM2u9\n3IfguqI1s9br5dm7JjUZtLFpINcrQKQsc+S8Mt219254fdpwRY5BPvG3mVlivWw6mFdirSPB1JXO\naj2Y1sLuYyPnm3nKbFtys+F6WdGamc2Tex0MMc/02vS1ytqYTpsb3NDIbFek6StcWMGJ1swssV72\nOphXYp012eWUUts4uKHp5NnVFNn059pmC5H3VcOcaM2s9dxGO0T1E4OnLT/Z67Pvc1t7kaPnlVH6\ndGJ8tNx7hVTlNlozs8T62UabeXvrPJevrvmPLqu2onaU2VAKzTFxdiXxdd2imw7S8Y/AzKCnidbM\nbJ7c66A0y673zIMUGmgayLU5IHUzQBO7+23ak8mxOaSL3HRgZpZYL5sOUqfXNibWpq9zNrLcxImr\n6fTZqUSZUVe53DjRmpkl1stEO0nlAQtzPJHM7O3BM71sx+trSimpkttcTyieS/p0csznu6hoIRaa\nXoSxnGjNrPV6PQQ3VbtrnxJrXcliPlfRTT6LckZ5/qjalgK7xENwzcwS62WinZSecjqpTBOJtdZ+\nspn23x0+g/n/GNqUMtu0rLlxrwMzs8R63esgVbvrbCeSmfolxesaSKzZp9QOjjbLcRlWou3LPy0P\nwTVrmb5VUl3QyzZaM7N56mUb7cSDYRWbCeZxUKuNTQO1Jq4EzQBzvYJD09cv62v6zex9O9GamSXW\n6360qQ5wzZIiZh04MNO85niwbnhheR9M61PinSj35WsJJ1ozs8R62etgUpKtflKZWeefOB03kVgz\nTanpT7OYtvyhWpQys0/sc9LLg2FmZvPkpoPS5GG5U5SVuKdAGxNrrik1eeJyr4P6tPi91DkyTNJR\nwNnAauCTEXHmsud/CrgAeDbwQ+D4iLh5XJkt/mjNzAoRUfk2jqTVwLnAy4CDgBMlHbRsstcDd0bE\nAcBZwPsnLZ8rWjNrvcWIyrcJDgO2RsSNEfEgcBFw7LJpjgX+rLx/MfBiafyRqSRNB3tv+tIKr9Bl\nZlbd9gdvrVznSFoHrBt4aH1ErC/v7wXcMvDcNuDwZUU8PE1EbJd0F/BE4I5R8/TBMDPrlbJSXT9x\nwhq56cDMbIdbgb0H/l5bPjZ0Gkk7AY+nOCg2kitaM7MdNgEHStpP0s7ACcCGZdNsAP5zef/XgC/H\nhKNsbjowMyuVba6nApdQdO86LyKul3QGsDkiNgCfAj4taSvwI4rKeCzl3tHX5kvSvRGxa81lHgMc\nFBFnSjoO+KeI2DJlGZcBvxsRm+tcNrN5cNOBJRcRGwY6fR9H0T/RrDdc0dpQKnxQ0rckfVPS8eXj\nR0i6TNLFkv5R0p8v9SGUdHT52NWSzpH0hfLxkyV9VNLzgWOAD0r6hqT9y7KeU063RtLN5f3HSrpI\n0rclfR547MCyvVTSlZKukfQ5SbUmcLO6uY3WRvkV4JnALwFrgE2SLi+fexbwC8D3gSuAF0jaDHwC\neGFE3CTpwuUFRsT/k7QB+EJEXAwwpp/3m4D7I+Lpkp4BXFNOvwZ4F3BkRNwn6e3AW4Ez6njTZim4\norVR/j1wYUQsAP8i6avAocDdwFURsQ1A0jeAfYF7gRsj4qby9RfyyE7h03ohcA5ARFwn6bry8edS\nND1cUVbSOwNXrmA+Zsm5orVZPDBwf4GVrUfb2dGEtUuF6QX8n4g4cQXzNJsrt9HaKP8XOF7Sakk/\nS5Ewrxoz/Q3AUyTtW/59/Ijp7gF2G/j7ZoqzIEHRJ3HJ5cCrASQdDDyjfPxrFE0VB5TPPU7SUyu8\nH7PGuKK1UT4PXAf8A/Bl4G0R8YNRE0fET4DfBP5W0tUUFepdQya9CDhN0rWS9gf+J/AmSddStAUv\n+WNgV0nfpmh/vbqcz78CJwMXls0JVwJPW8kbNUvN/WitNpJ2jYh7y14I5wLfiYizml4us6Y50Vqd\nTikPjl1PMf77Ew0vj1kWnGjNzBJzojUzS8wVrZlZYq5ozcwSc0VrZpaYK1ozs8T+P6nnD/uzRf6w\nAAAAAElFTkSuQmCC\n",
                "text/plain": "<Figure size 432x288 with 2 Axes>"
              }
            ],
            "_view_module": "@jupyter-widgets/output",
            "_model_module_version": "1.0.0",
            "_view_count": null,
            "_view_module_version": "1.0.0",
            "layout": "IPY_MODEL_b7e3ff221a0d45ecacdc2d1f8362884d",
            "_model_module": "@jupyter-widgets/output"
          }
        },
        "61dbb4516f824153b81b95627972ed06": {
          "model_module": "@jupyter-widgets/controls",
          "model_name": "SliderStyleModel",
          "state": {
            "_view_name": "StyleView",
            "handle_color": null,
            "_model_name": "SliderStyleModel",
            "description_width": "",
            "_view_module": "@jupyter-widgets/base",
            "_model_module_version": "1.5.0",
            "_view_count": null,
            "_view_module_version": "1.2.0",
            "_model_module": "@jupyter-widgets/controls"
          }
        },
        "61dda0b9245140e28da5e1fd2e4a0e31": {
          "model_module": "@jupyter-widgets/base",
          "model_name": "LayoutModel",
          "state": {
            "_view_name": "LayoutView",
            "grid_template_rows": null,
            "right": null,
            "justify_content": null,
            "_view_module": "@jupyter-widgets/base",
            "overflow": null,
            "_model_module_version": "1.2.0",
            "_view_count": null,
            "flex_flow": null,
            "width": null,
            "min_width": null,
            "border": null,
            "align_items": null,
            "bottom": null,
            "_model_module": "@jupyter-widgets/base",
            "top": null,
            "grid_column": null,
            "overflow_y": null,
            "overflow_x": null,
            "grid_auto_flow": null,
            "grid_area": null,
            "grid_template_columns": null,
            "flex": null,
            "_model_name": "LayoutModel",
            "justify_items": null,
            "grid_row": null,
            "max_height": null,
            "align_content": null,
            "visibility": null,
            "align_self": null,
            "height": null,
            "min_height": null,
            "padding": null,
            "grid_auto_rows": null,
            "grid_gap": null,
            "max_width": null,
            "order": null,
            "_view_module_version": "1.2.0",
            "grid_template_areas": null,
            "object_position": null,
            "object_fit": null,
            "grid_auto_columns": null,
            "margin": null,
            "display": null,
            "left": null
          }
        },
        "099d06ecd3744e16b9f2f6644915fe7f": {
          "model_module": "@jupyter-widgets/controls",
          "model_name": "SliderStyleModel",
          "state": {
            "_view_name": "StyleView",
            "handle_color": null,
            "_model_name": "SliderStyleModel",
            "description_width": "",
            "_view_module": "@jupyter-widgets/base",
            "_model_module_version": "1.5.0",
            "_view_count": null,
            "_view_module_version": "1.2.0",
            "_model_module": "@jupyter-widgets/controls"
          }
        },
        "30a06457e6304b18b9ed05689400c026": {
          "model_module": "@jupyter-widgets/base",
          "model_name": "LayoutModel",
          "state": {
            "_view_name": "LayoutView",
            "grid_template_rows": null,
            "right": null,
            "justify_content": null,
            "_view_module": "@jupyter-widgets/base",
            "overflow": null,
            "_model_module_version": "1.2.0",
            "_view_count": null,
            "flex_flow": null,
            "width": null,
            "min_width": null,
            "border": null,
            "align_items": null,
            "bottom": null,
            "_model_module": "@jupyter-widgets/base",
            "top": null,
            "grid_column": null,
            "overflow_y": null,
            "overflow_x": null,
            "grid_auto_flow": null,
            "grid_area": null,
            "grid_template_columns": null,
            "flex": null,
            "_model_name": "LayoutModel",
            "justify_items": null,
            "grid_row": null,
            "max_height": null,
            "align_content": null,
            "visibility": null,
            "align_self": null,
            "height": null,
            "min_height": null,
            "padding": null,
            "grid_auto_rows": null,
            "grid_gap": null,
            "max_width": null,
            "order": null,
            "_view_module_version": "1.2.0",
            "grid_template_areas": null,
            "object_position": null,
            "object_fit": null,
            "grid_auto_columns": null,
            "margin": null,
            "display": null,
            "left": null
          }
        },
        "dfbf03d556394e10a66a66b0e4a72d23": {
          "model_module": "@jupyter-widgets/controls",
          "model_name": "VBoxModel",
          "state": {
            "_view_name": "VBoxView",
            "_dom_classes": [
              "widget-interact"
            ],
            "_model_name": "VBoxModel",
            "_view_module": "@jupyter-widgets/controls",
            "_model_module_version": "1.5.0",
            "_view_count": null,
            "_view_module_version": "1.5.0",
            "box_style": "",
            "layout": "IPY_MODEL_1f3ef349e8dc4f06bb4e9e4ca38ca574",
            "_model_module": "@jupyter-widgets/controls",
            "children": [
              "IPY_MODEL_c6175c3c73df44df9bec81c81c1e34a5",
              "IPY_MODEL_30b3d6112f974c028b37802558f9f3dc",
              "IPY_MODEL_e807a252a9f444eea4c6c36a04e26de1"
            ]
          }
        },
        "1f3ef349e8dc4f06bb4e9e4ca38ca574": {
          "model_module": "@jupyter-widgets/base",
          "model_name": "LayoutModel",
          "state": {
            "_view_name": "LayoutView",
            "grid_template_rows": null,
            "right": null,
            "justify_content": null,
            "_view_module": "@jupyter-widgets/base",
            "overflow": null,
            "_model_module_version": "1.2.0",
            "_view_count": null,
            "flex_flow": null,
            "width": null,
            "min_width": null,
            "border": null,
            "align_items": null,
            "bottom": null,
            "_model_module": "@jupyter-widgets/base",
            "top": null,
            "grid_column": null,
            "overflow_y": null,
            "overflow_x": null,
            "grid_auto_flow": null,
            "grid_area": null,
            "grid_template_columns": null,
            "flex": null,
            "_model_name": "LayoutModel",
            "justify_items": null,
            "grid_row": null,
            "max_height": null,
            "align_content": null,
            "visibility": null,
            "align_self": null,
            "height": null,
            "min_height": null,
            "padding": null,
            "grid_auto_rows": null,
            "grid_gap": null,
            "max_width": null,
            "order": null,
            "_view_module_version": "1.2.0",
            "grid_template_areas": null,
            "object_position": null,
            "object_fit": null,
            "grid_auto_columns": null,
            "margin": null,
            "display": null,
            "left": null
          }
        },
        "c6175c3c73df44df9bec81c81c1e34a5": {
          "model_module": "@jupyter-widgets/controls",
          "model_name": "IntSliderModel",
          "state": {
            "_view_name": "IntSliderView",
            "style": "IPY_MODEL_99a3b4c66b274f038aeb6deca952abc6",
            "_dom_classes": [],
            "description": "max_depth",
            "step": 1,
            "_model_name": "IntSliderModel",
            "orientation": "horizontal",
            "max": 6,
            "_view_module": "@jupyter-widgets/controls",
            "_model_module_version": "1.5.0",
            "value": 3,
            "_view_count": null,
            "disabled": false,
            "_view_module_version": "1.5.0",
            "min": 1,
            "continuous_update": true,
            "readout_format": "d",
            "description_tooltip": null,
            "readout": true,
            "_model_module": "@jupyter-widgets/controls",
            "layout": "IPY_MODEL_6f02f4fec680435e8f1f577c8c318fd4"
          }
        },
        "30b3d6112f974c028b37802558f9f3dc": {
          "model_module": "@jupyter-widgets/controls",
          "model_name": "IntSliderModel",
          "state": {
            "_view_name": "IntSliderView",
            "style": "IPY_MODEL_85242108e961490ea1f039647d43ff62",
            "_dom_classes": [],
            "description": "n_estimators",
            "step": 1,
            "_model_name": "IntSliderModel",
            "orientation": "horizontal",
            "max": 5,
            "_view_module": "@jupyter-widgets/controls",
            "_model_module_version": "1.5.0",
            "value": 2,
            "_view_count": null,
            "disabled": false,
            "_view_module_version": "1.5.0",
            "min": 2,
            "continuous_update": true,
            "readout_format": "d",
            "description_tooltip": null,
            "readout": true,
            "_model_module": "@jupyter-widgets/controls",
            "layout": "IPY_MODEL_0caeeafda7e74b3dafa89450d5aaccad"
          }
        },
        "e807a252a9f444eea4c6c36a04e26de1": {
          "model_module": "@jupyter-widgets/output",
          "model_name": "OutputModel",
          "state": {
            "_view_name": "OutputView",
            "msg_id": "",
            "_dom_classes": [],
            "_model_name": "OutputModel",
            "outputs": [
              {
                "output_type": "display_data",
                "metadata": {
                  "tags": []
                },
                "image/png": "iVBORw0KGgoAAAANSUhEUgAAAVsAAAEFCAYAAABNS0RqAAAABHNCSVQICAgIfAhkiAAAAAlwSFlz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\n",
                "text/plain": "<Figure size 432x288 with 2 Axes>"
              },
              {
                "output_type": "display_data",
                "metadata": {
                  "tags": []
                },
                "image/png": "iVBORw0KGgoAAAANSUhEUgAAAVsAAAEFCAYAAABNS0RqAAAABHNCSVQICAgIfAhkiAAAAAlwSFlz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\nrAJOtmZmFfh/rd2r2vpydUEAAAAASUVORK5CYII=\n",
                "text/plain": "<Figure size 432x288 with 2 Axes>"
              },
              {
                "output_type": "display_data",
                "metadata": {
                  "tags": []
                },
                "image/png": "iVBORw0KGgoAAAANSUhEUgAAAVsAAAEFCAYAAABNS0RqAAAABHNCSVQICAgIfAhkiAAAAAlwSFlz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\nM+sCJ1szsy74X6EVQdJ4QKoIAAAAAElFTkSuQmCC\n",
                "text/plain": "<Figure size 432x288 with 2 Axes>"
              }
            ],
            "_view_module": "@jupyter-widgets/output",
            "_model_module_version": "1.0.0",
            "_view_count": null,
            "_view_module_version": "1.0.0",
            "layout": "IPY_MODEL_817a1bc00a7e4204a0d75d73124aa173",
            "_model_module": "@jupyter-widgets/output"
          }
        },
        "99a3b4c66b274f038aeb6deca952abc6": {
          "model_module": "@jupyter-widgets/controls",
          "model_name": "SliderStyleModel",
          "state": {
            "_view_name": "StyleView",
            "handle_color": null,
            "_model_name": "SliderStyleModel",
            "description_width": "",
            "_view_module": "@jupyter-widgets/base",
            "_model_module_version": "1.5.0",
            "_view_count": null,
            "_view_module_version": "1.2.0",
            "_model_module": "@jupyter-widgets/controls"
          }
        },
        "6f02f4fec680435e8f1f577c8c318fd4": {
          "model_module": "@jupyter-widgets/base",
          "model_name": "LayoutModel",
          "state": {
            "_view_name": "LayoutView",
            "grid_template_rows": null,
            "right": null,
            "justify_content": null,
            "_view_module": "@jupyter-widgets/base",
            "overflow": null,
            "_model_module_version": "1.2.0",
            "_view_count": null,
            "flex_flow": null,
            "width": null,
            "min_width": null,
            "border": null,
            "align_items": null,
            "bottom": null,
            "_model_module": "@jupyter-widgets/base",
            "top": null,
            "grid_column": null,
            "overflow_y": null,
            "overflow_x": null,
            "grid_auto_flow": null,
            "grid_area": null,
            "grid_template_columns": null,
            "flex": null,
            "_model_name": "LayoutModel",
            "justify_items": null,
            "grid_row": null,
            "max_height": null,
            "align_content": null,
            "visibility": null,
            "align_self": null,
            "height": null,
            "min_height": null,
            "padding": null,
            "grid_auto_rows": null,
            "grid_gap": null,
            "max_width": null,
            "order": null,
            "_view_module_version": "1.2.0",
            "grid_template_areas": null,
            "object_position": null,
            "object_fit": null,
            "grid_auto_columns": null,
            "margin": null,
            "display": null,
            "left": null
          }
        },
        "85242108e961490ea1f039647d43ff62": {
          "model_module": "@jupyter-widgets/controls",
          "model_name": "SliderStyleModel",
          "state": {
            "_view_name": "StyleView",
            "handle_color": null,
            "_model_name": "SliderStyleModel",
            "description_width": "",
            "_view_module": "@jupyter-widgets/base",
            "_model_module_version": "1.5.0",
            "_view_count": null,
            "_view_module_version": "1.2.0",
            "_model_module": "@jupyter-widgets/controls"
          }
        },
        "0caeeafda7e74b3dafa89450d5aaccad": {
          "model_module": "@jupyter-widgets/base",
          "model_name": "LayoutModel",
          "state": {
            "_view_name": "LayoutView",
            "grid_template_rows": null,
            "right": null,
            "justify_content": null,
            "_view_module": "@jupyter-widgets/base",
            "overflow": null,
            "_model_module_version": "1.2.0",
            "_view_count": null,
            "flex_flow": null,
            "width": null,
            "min_width": null,
            "border": null,
            "align_items": null,
            "bottom": null,
            "_model_module": "@jupyter-widgets/base",
            "top": null,
            "grid_column": null,
            "overflow_y": null,
            "overflow_x": null,
            "grid_auto_flow": null,
            "grid_area": null,
            "grid_template_columns": null,
            "flex": null,
            "_model_name": "LayoutModel",
            "justify_items": null,
            "grid_row": null,
            "max_height": null,
            "align_content": null,
            "visibility": null,
            "align_self": null,
            "height": null,
            "min_height": null,
            "padding": null,
            "grid_auto_rows": null,
            "grid_gap": null,
            "max_width": null,
            "order": null,
            "_view_module_version": "1.2.0",
            "grid_template_areas": null,
            "object_position": null,
            "object_fit": null,
            "grid_auto_columns": null,
            "margin": null,
            "display": null,
            "left": null
          }
        }
      }
    }
  },
  "cells": [
    {
      "cell_type": "markdown",
      "metadata": {
        "id": "view-in-github",
        "colab_type": "text"
      },
      "source": [
        "<a href=\"https://colab.research.google.com/github/Nolanole/DS-Unit-2-Kaggle-Challenge/blob/master/module2/LS_DS10_222.ipynb\" target=\"_parent\"><img src=\"https://colab.research.google.com/assets/colab-badge.svg\" alt=\"Open In Colab\"/></a>"
      ]
    },
    {
      "cell_type": "markdown",
      "metadata": {
        "colab_type": "text",
        "id": "UEHyIgGaaSEJ"
      },
      "source": [
        "Lambda School Data Science\n",
        "\n",
        "*Unit 2, Sprint 2, Module 2*\n",
        "\n",
        "---"
      ]
    },
    {
      "cell_type": "markdown",
      "metadata": {
        "colab_type": "text",
        "id": "mRfPLX4WgLVJ"
      },
      "source": [
        "# Random Forests"
      ]
    },
    {
      "cell_type": "markdown",
      "metadata": {
        "colab_type": "text",
        "id": "jRRNhkxcgLVK"
      },
      "source": [
        "- use scikit-learn for **random forests**\n",
        "- do **ordinal encoding** with high-cardinality categoricals\n",
        "- understand how categorical encodings affect trees differently compared to linear models\n",
        "- understand how tree ensembles reduce overfitting compared to a single decision tree with unlimited depth"
      ]
    },
    {
      "cell_type": "markdown",
      "metadata": {
        "colab_type": "text",
        "id": "-3TH11e1gLVL"
      },
      "source": [
        "Today's lesson has two take-away messages:\n",
        "\n",
        "#### Try Tree Ensembles when you do machine learning with labeled, tabular data\n",
        "- \"Tree Ensembles\" means Random Forest or Gradient Boosting models. \n",
        "- [Tree Ensembles often have the best predictive accuracy](https://arxiv.org/abs/1708.05070) with labeled, tabular data.\n",
        "- Why? Because trees can fit non-linear, non-[monotonic](https://en.wikipedia.org/wiki/Monotonic_function) relationships, and [interactions](https://christophm.github.io/interpretable-ml-book/interaction.html) between features.\n",
        "- A single decision tree, grown to unlimited depth, will [overfit](http://www.r2d3.us/visual-intro-to-machine-learning-part-1/). We solve this problem by ensembling trees, with bagging (Random Forest) or boosting (Gradient Boosting).\n",
        "- Random Forest's advantage: may be less sensitive to hyperparameters. Gradient Boosting's advantage: may get better predictive accuracy.\n",
        "\n",
        "#### One-hot encoding isn’t the only way, and may not be the best way, of categorical encoding for tree ensembles.\n",
        "- For example, tree ensembles can work with arbitrary \"ordinal\" encoding! (Randomly assigning an integer to each category.) Compared to one-hot encoding, the dimensionality will be lower, and the predictive accuracy may be just as good or even better.\n"
      ]
    },
    {
      "cell_type": "markdown",
      "metadata": {
        "colab_type": "text",
        "id": "r5PbOFEuFfGF"
      },
      "source": [
        "### Setup\n",
        "\n",
        "Run the code cell below. You can work locally (follow the [local setup instructions](https://lambdaschool.github.io/ds/unit2/local/)) or on Colab.\n",
        "\n",
        "Libraries\n",
        "\n",
        "- **category_encoders** \n",
        "- **graphviz**\n",
        "- ipywidgets\n",
        "- matplotlib\n",
        "- numpy\n",
        "- pandas\n",
        "- seaborn\n",
        "- scikit-learn"
      ]
    },
    {
      "cell_type": "code",
      "metadata": {
        "colab_type": "code",
        "id": "FStAplyRFoEu",
        "colab": {}
      },
      "source": [
        "%%capture\n",
        "import sys\n",
        "\n",
        "# If you're on Colab:\n",
        "if 'google.colab' in sys.modules:\n",
        "    DATA_PATH = 'https://raw.githubusercontent.com/LambdaSchool/DS-Unit-2-Kaggle-Challenge/master/data/'\n",
        "    !pip install category_encoders==2.*\n",
        "\n",
        "# If you're working locally:\n",
        "else:\n",
        "    DATA_PATH = '../data/'"
      ],
      "execution_count": 0,
      "outputs": []
    },
    {
      "cell_type": "markdown",
      "metadata": {
        "colab_type": "text",
        "id": "ZL-yK8B7gLVW"
      },
      "source": [
        "# Use scikit-learn for random forests"
      ]
    },
    {
      "cell_type": "markdown",
      "metadata": {
        "id": "STRRB-O2obju",
        "colab_type": "text"
      },
      "source": [
        "## Overview\n",
        "\n",
        "Let's fit a Random Forest!\n",
        "\n",
        "![](https://pbs.twimg.com/media/EGSvKA0UUAEzUZi?format=png)\n",
        "\n",
        "[Chris Albon, MachineLearningFlashcards.com](https://twitter.com/chrisalbon/status/1181261589887909889)"
      ]
    },
    {
      "cell_type": "markdown",
      "metadata": {
        "colab_type": "text",
        "id": "gHFxMCPSgLVM"
      },
      "source": [
        "### Solution example\n",
        "\n",
        "First, read & wrangle the data.\n",
        "\n",
        "> Define a function to wrangle train, validate, and test sets in the same way. Clean outliers and engineer features. (For example, [what other columns have zeros and shouldn't?](https://github.com/Quartz/bad-data-guide#zeros-replace-missing-values) What other columns are duplicates, or nearly duplicates? Can you extract the year from date_recorded? Can you engineer new features, such as the number of years from waterpump construction to waterpump inspection?)"
      ]
    },
    {
      "cell_type": "code",
      "metadata": {
        "colab_type": "code",
        "id": "YTLm-rDagLVM",
        "colab": {}
      },
      "source": [
        "import numpy as np\n",
        "import pandas as pd\n",
        "from sklearn.model_selection import train_test_split\n",
        "\n",
        "# Merge train_features.csv & train_labels.csv\n",
        "train = pd.merge(pd.read_csv(DATA_PATH+'waterpumps/train_features.csv'), \n",
        "                 pd.read_csv(DATA_PATH+'waterpumps/train_labels.csv'))\n",
        "\n",
        "# Read test_features.csv & sample_submission.csv\n",
        "test = pd.read_csv(DATA_PATH+'waterpumps/test_features.csv')\n",
        "sample_submission = pd.read_csv(DATA_PATH+'waterpumps/sample_submission.csv')\n",
        "\n",
        "# Split train into train & val\n",
        "train, val = train_test_split(train, train_size=0.80, test_size=0.20, \n",
        "                              stratify=train['status_group'], random_state=42)\n",
        "\n",
        "\n",
        "def wrangle(X):\n",
        "    \"\"\"Wrangle train, validate, and test sets in the same way\"\"\"\n",
        "    \n",
        "    # Prevent SettingWithCopyWarning\n",
        "    X = X.copy()\n",
        "    \n",
        "    # About 3% of the time, latitude has small values near zero,\n",
        "    # outside Tanzania, so we'll treat these values like zero.\n",
        "    X['latitude'] = X['latitude'].replace(-2e-08, 0)\n",
        "    \n",
        "    # When columns have zeros and shouldn't, they are like null values.\n",
        "    # So we will replace the zeros with nulls, and impute missing values later.\n",
        "    # Also create a \"missing indicator\" column, because the fact that\n",
        "    # values are missing may be a predictive signal.\n",
        "    cols_with_zeros = ['longitude', 'latitude', 'construction_year', \n",
        "                       'gps_height', 'population']\n",
        "    for col in cols_with_zeros:\n",
        "        X[col] = X[col].replace(0, np.nan)\n",
        "        X[col+'_MISSING'] = X[col].isnull()\n",
        "            \n",
        "    # Drop duplicate columns\n",
        "    duplicates = ['quantity_group', 'payment_type']\n",
        "    X = X.drop(columns=duplicates)\n",
        "    \n",
        "    # Drop recorded_by (never varies) and id (always varies, random)\n",
        "    unusable_variance = ['recorded_by', 'id']\n",
        "    X = X.drop(columns=unusable_variance)\n",
        "    \n",
        "    # Convert date_recorded to datetime\n",
        "    X['date_recorded'] = pd.to_datetime(X['date_recorded'], infer_datetime_format=True)\n",
        "    \n",
        "    # Extract components from date_recorded, then drop the original column\n",
        "    X['year_recorded'] = X['date_recorded'].dt.year\n",
        "    X['month_recorded'] = X['date_recorded'].dt.month\n",
        "    X['day_recorded'] = X['date_recorded'].dt.day\n",
        "    X = X.drop(columns='date_recorded')\n",
        "    \n",
        "    # Engineer feature: how many years from construction_year to date_recorded\n",
        "    X['years'] = X['year_recorded'] - X['construction_year']\n",
        "    X['years_MISSING'] = X['years'].isnull()\n",
        "    \n",
        "    # return the wrangled dataframe\n",
        "    return X\n",
        "\n",
        "train = wrangle(train)\n",
        "val = wrangle(val)\n",
        "test = wrangle(test)"
      ],
      "execution_count": 0,
      "outputs": []
    },
    {
      "cell_type": "code",
      "metadata": {
        "colab_type": "code",
        "id": "m2HppBvZgLVP",
        "colab": {}
      },
      "source": [
        "# The status_group column is the target\n",
        "target = 'status_group'\n",
        "\n",
        "# Get a dataframe with all train columns except the target\n",
        "train_features = train.drop(columns=[target])\n",
        "\n",
        "# Get a list of the numeric features\n",
        "numeric_features = train_features.select_dtypes(include='number').columns.tolist()\n",
        "\n",
        "# Get a series with the cardinality of the nonnumeric features\n",
        "cardinality = train_features.select_dtypes(exclude='number').nunique()\n",
        "\n",
        "# Get a list of all categorical features with cardinality <= 50\n",
        "categorical_features = cardinality[cardinality <= 50].index.tolist()\n",
        "\n",
        "# Combine the lists \n",
        "features = numeric_features + categorical_features"
      ],
      "execution_count": 0,
      "outputs": []
    },
    {
      "cell_type": "code",
      "metadata": {
        "colab_type": "code",
        "id": "aXmK2brXgLVR",
        "colab": {}
      },
      "source": [
        "# Arrange data into X features matrix and y target vector \n",
        "X_train = train[features]\n",
        "y_train = train[target]\n",
        "X_val = val[features]\n",
        "y_val = val[target]\n",
        "X_test = test[features]"
      ],
      "execution_count": 0,
      "outputs": []
    },
    {
      "cell_type": "markdown",
      "metadata": {
        "id": "63KfOU4cobj1",
        "colab_type": "text"
      },
      "source": [
        "## Follow Along\n",
        "\n",
        "[Scikit-Learn User Guide: Random Forests](https://scikit-learn.org/stable/modules/ensemble.html#random-forests) "
      ]
    },
    {
      "cell_type": "code",
      "metadata": {
        "colab_type": "code",
        "id": "57yyygsdgLVW",
        "outputId": "bb325830-680c-4109-9bb8-627d1ec643fa",
        "colab": {
          "base_uri": "https://localhost:8080/",
          "height": 68
        }
      },
      "source": [
        "%%time\n",
        "# WARNING: the %%time command sometimes has quirks/bugs\n",
        "\n",
        "# TODO\n",
        "\n",
        "import category_encoders as ce\n",
        "from sklearn.ensemble import RandomForestClassifier\n",
        "from sklearn.impute import SimpleImputer\n",
        "from sklearn.pipeline import make_pipeline\n",
        "\n",
        "pipeline = make_pipeline(\n",
        "    ce.OneHotEncoder(use_cat_names=True), \n",
        "    SimpleImputer(strategy='median'), \n",
        "    RandomForestClassifier(n_estimators=100, n_jobs=-1, random_state=0)\n",
        ")\n",
        "\n",
        "# Fit on train, score on val\n",
        "pipeline.fit(X_train, y_train)\n",
        "print('Validation Accuracy', pipeline.score(X_val, y_val))"
      ],
      "execution_count": 0,
      "outputs": [
        {
          "output_type": "stream",
          "text": [
            "Validation Accuracy 0.8088383838383838\n",
            "CPU times: user 27.1 s, sys: 364 ms, total: 27.5 s\n",
            "Wall time: 16.5 s\n"
          ],
          "name": "stdout"
        }
      ]
    },
    {
      "cell_type": "code",
      "metadata": {
        "id": "qgYqQJhX6ADL",
        "colab_type": "code",
        "outputId": "f54b869f-2e50-4345-e255-dac5d0cd7da4",
        "colab": {
          "base_uri": "https://localhost:8080/",
          "height": 51
        }
      },
      "source": [
        "print('X_train shape before encoding', X_train.shape)\n",
        "\n",
        "encoder = pipeline.named_steps['onehotencoder']\n",
        "encoded = encoder.transform(X_train)\n",
        "\n",
        "print('X_train shape after encoding', encoded.shape)"
      ],
      "execution_count": 0,
      "outputs": [
        {
          "output_type": "stream",
          "text": [
            "X_train shape before encoding (47520, 38)\n",
            "X_train shape after encoding (47520, 182)\n"
          ],
          "name": "stdout"
        }
      ]
    },
    {
      "cell_type": "code",
      "metadata": {
        "id": "vZVn3ZP65xB9",
        "colab_type": "code",
        "outputId": "f812c020-941e-413d-a3a6-5365bf6b618b",
        "colab": {
          "base_uri": "https://localhost:8080/",
          "height": 607
        }
      },
      "source": [
        "%matplotlib inline\n",
        "import matplotlib.pyplot as plt\n",
        "\n",
        "# Get feature importances\n",
        "rf = pipeline.named_steps['randomforestclassifier']\n",
        "importances = pd.Series(rf.feature_importances_, encoded.columns)\n",
        "\n",
        "# Plot top n feature importances\n",
        "n = 20\n",
        "plt.figure(figsize=(10,n/2))\n",
        "plt.title(f'Top {n} features')\n",
        "importances.sort_values()[-n:].plot.barh(color='grey');"
      ],
      "execution_count": 0,
      "outputs": [
        {
          "output_type": "display_data",
          "data": {
            "image/png": "[encoded data removed]",
            "text/plain": [
              "<Figure size 720x720 with 1 Axes>"
            ]
          },
          "metadata": {
            "tags": []
          }
        }
      ]
    },
    {
      "cell_type": "markdown",
      "metadata": {
        "colab_type": "text",
        "id": "yfyk_aa5gLVY"
      },
      "source": [
        "# Do ordinal encoding with high-cardinality categoricals"
      ]
    },
    {
      "cell_type": "markdown",
      "metadata": {
        "id": "mLMJa7SUobj3",
        "colab_type": "text"
      },
      "source": [
        "## Overview\n",
        "\n",
        "http://contrib.scikit-learn.org/categorical-encoding/ordinal.html"
      ]
    },
    {
      "cell_type": "markdown",
      "metadata": {
        "id": "iqWTVSDJobj4",
        "colab_type": "text"
      },
      "source": [
        "## Follow Along"
      ]
    },
    {
      "cell_type": "code",
      "metadata": {
        "colab_type": "code",
        "id": "b8d_WJtcgLVZ",
        "outputId": "2dc62324-8280-45e4-e208-7c4a2aff474b",
        "colab": {
          "base_uri": "https://localhost:8080/",
          "height": 68
        }
      },
      "source": [
        "%%time\n",
        "\n",
        "# Arrange data into X features matrix and y target vector\n",
        "# so we use *all* features, including the high-cardinality categoricals\n",
        "X_train = train.drop(columns=target)\n",
        "y_train = train[target]\n",
        "X_val = val.drop(columns=target)\n",
        "y_val = val[target]\n",
        "X_test = test\n",
        "\n",
        "# The pipeline is identical to the example cell above, \n",
        "# except we're replacing one-hot encoder with \"ordinal\" encoder\n",
        "pipeline = make_pipeline(\n",
        "    ce.OrdinalEncoder(), \n",
        "    SimpleImputer(strategy='median'), \n",
        "    RandomForestClassifier(n_estimators=100, random_state=0, n_jobs=-1)\n",
        ")\n",
        "\n",
        "# Fit on train, score on val\n",
        "pipeline.fit(X_train, y_train)\n",
        "print('Validation Accuracy', pipeline.score(X_val, y_val))"
      ],
      "execution_count": 0,
      "outputs": [
        {
          "output_type": "stream",
          "text": [
            "Validation Accuracy 0.8092592592592592\n",
            "CPU times: user 20.1 s, sys: 179 ms, total: 20.3 s\n",
            "Wall time: 11.1 s\n"
          ],
          "name": "stdout"
        }
      ]
    },
    {
      "cell_type": "code",
      "metadata": {
        "id": "S9g4UJmm81rz",
        "colab_type": "code",
        "outputId": "037cf98b-07bb-4671-88aa-47ac594b676e",
        "colab": {
          "base_uri": "https://localhost:8080/",
          "height": 51
        }
      },
      "source": [
        "print('X_train shape before encoding', X_train.shape)\n",
        "\n",
        "encoder = pipeline.named_steps['ordinalencoder']\n",
        "encoded = encoder.transform(X_train)\n",
        "\n",
        "print('X_train shape after encoding', encoded.shape)"
      ],
      "execution_count": 0,
      "outputs": [
        {
          "output_type": "stream",
          "text": [
            "X_train shape before encoding (47520, 45)\n",
            "X_train shape after encoding (47520, 45)\n"
          ],
          "name": "stdout"
        }
      ]
    },
    {
      "cell_type": "code",
      "metadata": {
        "id": "crS7u-mu9aV9",
        "colab_type": "code",
        "outputId": "21b47bea-e099-405a-d9d2-9bbfc6a52f5c",
        "colab": {
          "base_uri": "https://localhost:8080/",
          "height": 607
        }
      },
      "source": [
        "# Get feature importances\n",
        "rf = pipeline.named_steps['randomforestclassifier']\n",
        "importances = pd.Series(rf.feature_importances_, encoded.columns)\n",
        "\n",
        "# Plot top n feature importances\n",
        "n = 20\n",
        "plt.figure(figsize=(10,n/2))\n",
        "plt.title(f'Top {n} features')\n",
        "importances.sort_values()[-n:].plot.barh(color='grey');"
      ],
      "execution_count": 0,
      "outputs": [
        {
          "output_type": "display_data",
          "data": {
            "image/png": "[encoded data removed]",
            "text/plain": [
              "<Figure size 720x720 with 1 Axes>"
            ]
          },
          "metadata": {
            "tags": []
          }
        }
      ]
    },
    {
      "cell_type": "code",
      "metadata": {
        "id": "cvm_Kg41-Ceo",
        "colab_type": "code",
        "outputId": "7d56851c-7097-4e61-b95b-9ccb131070c9",
        "colab": {
          "base_uri": "https://localhost:8080/",
          "height": 102
        }
      },
      "source": [
        "X_train['wpt_name'].describe()"
      ],
      "execution_count": 0,
      "outputs": [
        {
          "output_type": "execute_result",
          "data": {
            "text/plain": [
              "count     47520\n",
              "unique    30661\n",
              "top        none\n",
              "freq       2879\n",
              "Name: wpt_name, dtype: object"
            ]
          },
          "metadata": {
            "tags": []
          },
          "execution_count": 22
        }
      ]
    },
    {
      "cell_type": "code",
      "metadata": {
        "id": "5YBYo_V3-HU0",
        "colab_type": "code",
        "outputId": "56454245-4020-4a19-c732-8da4fd184e35",
        "colab": {
          "base_uri": "https://localhost:8080/",
          "height": 221
        }
      },
      "source": [
        "X_train['wpt_name'].value_counts()"
      ],
      "execution_count": 0,
      "outputs": [
        {
          "output_type": "execute_result",
          "data": {
            "text/plain": [
              "none                         2879\n",
              "Shuleni                      1416\n",
              "Zahanati                      675\n",
              "Msikitini                     424\n",
              "Kanisani                      253\n",
              "                             ... \n",
              "Kisima Cha Maji Ya Chumvi       1\n",
              "Kwa Sigarero                    1\n",
              "Bara Bara Ya Halmashauri        1\n",
              "Kwa Temina Msabila              1\n",
              "Marwa Boke                      1\n",
              "Name: wpt_name, Length: 30661, dtype: int64"
            ]
          },
          "metadata": {
            "tags": []
          },
          "execution_count": 23
        }
      ]
    },
    {
      "cell_type": "code",
      "metadata": {
        "id": "38kzic94-UME",
        "colab_type": "code",
        "outputId": "53a00b38-6797-4ee5-a271-498772dc5eae",
        "colab": {
          "base_uri": "https://localhost:8080/",
          "height": 221
        }
      },
      "source": [
        "encoded['wpt_name'].value_counts()"
      ],
      "execution_count": 0,
      "outputs": [
        {
          "output_type": "execute_result",
          "data": {
            "text/plain": [
              "27       2879\n",
              "73       1416\n",
              "8         675\n",
              "69        424\n",
              "46        253\n",
              "         ... \n",
              "2162        1\n",
              "115         1\n",
              "14452       1\n",
              "12405       1\n",
              "2047        1\n",
              "Name: wpt_name, Length: 30661, dtype: int64"
            ]
          },
          "metadata": {
            "tags": []
          },
          "execution_count": 24
        }
      ]
    },
    {
      "cell_type": "markdown",
      "metadata": {
        "colab_type": "text",
        "id": "xs2UPoVdgLVp"
      },
      "source": [
        "# Understand how categorical encodings affect trees differently compared to linear models"
      ]
    },
    {
      "cell_type": "markdown",
      "metadata": {
        "id": "yHaMM-cbobj7",
        "colab_type": "text"
      },
      "source": [
        "## Follow Along"
      ]
    },
    {
      "cell_type": "markdown",
      "metadata": {
        "colab_type": "text",
        "id": "z8V-A92mgLVp"
      },
      "source": [
        "### Categorical exploration, 1 feature at a time\n",
        "\n",
        "Change `feature`, then re-run these cells!"
      ]
    },
    {
      "cell_type": "code",
      "metadata": {
        "colab_type": "code",
        "id": "G35RAzVdgLVq",
        "colab": {}
      },
      "source": [
        "feature = 'extraction_type_class'"
      ],
      "execution_count": 0,
      "outputs": []
    },
    {
      "cell_type": "code",
      "metadata": {
        "colab_type": "code",
        "id": "OuxHWiH8gLVr",
        "outputId": "fe28795a-88b0-4c80-b840-06a2b07def15",
        "colab": {
          "base_uri": "https://localhost:8080/",
          "height": 153
        }
      },
      "source": [
        "X_train[feature].value_counts()"
      ],
      "execution_count": 0,
      "outputs": [
        {
          "output_type": "execute_result",
          "data": {
            "text/plain": [
              "gravity         21448\n",
              "handpump        13184\n",
              "other            5193\n",
              "submersible      4894\n",
              "motorpump        2355\n",
              "rope pump         353\n",
              "wind-powered       93\n",
              "Name: extraction_type_class, dtype: int64"
            ]
          },
          "metadata": {
            "tags": []
          },
          "execution_count": 26
        }
      ]
    },
    {
      "cell_type": "code",
      "metadata": {
        "colab_type": "code",
        "id": "pVxoC4NngLVt",
        "outputId": "bf3d35c2-52fd-4077-ec1d-b5b8abd5c132",
        "colab": {
          "base_uri": "https://localhost:8080/",
          "height": 552
        }
      },
      "source": [
        "import seaborn as sns\n",
        "plt.figure(figsize=(16,9))\n",
        "sns.barplot(\n",
        "    x=train[feature], \n",
        "    y=train['status_group']=='functional', \n",
        "    color='grey'\n",
        ");"
      ],
      "execution_count": 0,
      "outputs": [
        {
          "output_type": "display_data",
          "data": {
            "image/png": "[encoded data removed]",
            "text/plain": [
              "<Figure size 1152x648 with 1 Axes>"
            ]
          },
          "metadata": {
            "tags": []
          }
        }
      ]
    },
    {
      "cell_type": "code",
      "metadata": {
        "colab_type": "code",
        "id": "w99mek14gLVv",
        "outputId": "b6af7a5a-0f6b-41aa-8f8a-7619b6e874c5",
        "colab": {
          "base_uri": "https://localhost:8080/",
          "height": 374
        }
      },
      "source": [
        "X_train[feature].head(20)"
      ],
      "execution_count": 0,
      "outputs": [
        {
          "output_type": "execute_result",
          "data": {
            "text/plain": [
              "43360        gravity\n",
              "7263         gravity\n",
              "2486        handpump\n",
              "313            other\n",
              "52726      motorpump\n",
              "8558         gravity\n",
              "2559         gravity\n",
              "54735      motorpump\n",
              "25763       handpump\n",
              "44540    submersible\n",
              "28603          other\n",
              "4372     submersible\n",
              "30666        gravity\n",
              "6431     submersible\n",
              "57420          other\n",
              "1373         gravity\n",
              "2026         gravity\n",
              "58977       handpump\n",
              "41101        gravity\n",
              "10019        gravity\n",
              "Name: extraction_type_class, dtype: object"
            ]
          },
          "metadata": {
            "tags": []
          },
          "execution_count": 28
        }
      ]
    },
    {
      "cell_type": "markdown",
      "metadata": {
        "colab_type": "text",
        "id": "ezzK2IdbgLVx"
      },
      "source": [
        "### [One Hot Encoding](http://contrib.scikit-learn.org/categorical-encoding/onehot.html)\n",
        "\n",
        "> Onehot (or dummy) coding for categorical features, produces one feature per category, each binary.\n",
        "\n",
        "Warning: May run slow, or run out of memory, with high cardinality categoricals!"
      ]
    },
    {
      "cell_type": "code",
      "metadata": {
        "colab_type": "code",
        "id": "HDQZtV6GgLVy",
        "outputId": "6b4ef693-3c0e-4e9e-b223-92b34f36cab0",
        "colab": {
          "base_uri": "https://localhost:8080/",
          "height": 723
        }
      },
      "source": [
        "encoder = ce.OneHotEncoder(use_cat_names=True)\n",
        "encoded = encoder.fit_transform(X_train[[feature]])\n",
        "print(f'{len(encoded.columns)} columns')\n",
        "encoded.head(20)"
      ],
      "execution_count": 0,
      "outputs": [
        {
          "output_type": "stream",
          "text": [
            "7 columns\n"
          ],
          "name": "stdout"
        },
        {
          "output_type": "execute_result",
          "data": {
            "text/html": [
              "<div>\n",
              "<style scoped>\n",
              "    .dataframe tbody tr th:only-of-type {\n",
              "        vertical-align: middle;\n",
              "    }\n",
              "\n",
              "    .dataframe tbody tr th {\n",
              "        vertical-align: top;\n",
              "    }\n",
              "\n",
              "    .dataframe thead th {\n",
              "        text-align: right;\n",
              "    }\n",
              "</style>\n",
              "<table border=\"1\" class=\"dataframe\">\n",
              "  <thead>\n",
              "    <tr style=\"text-align: right;\">\n",
              "      <th></th>\n",
              "      <th>extraction_type_class_gravity</th>\n",
              "      <th>extraction_type_class_handpump</th>\n",
              "      <th>extraction_type_class_other</th>\n",
              "      <th>extraction_type_class_motorpump</th>\n",
              "      <th>extraction_type_class_submersible</th>\n",
              "      <th>extraction_type_class_rope pump</th>\n",
              "      <th>extraction_type_class_wind-powered</th>\n",
              "    </tr>\n",
              "  </thead>\n",
              "  <tbody>\n",
              "    <tr>\n",
              "      <th>43360</th>\n",
              "      <td>1</td>\n",
              "      <td>0</td>\n",
              "      <td>0</td>\n",
              "      <td>0</td>\n",
              "      <td>0</td>\n",
              "      <td>0</td>\n",
              "      <td>0</td>\n",
              "    </tr>\n",
              "    <tr>\n",
              "      <th>7263</th>\n",
              "      <td>1</td>\n",
              "      <td>0</td>\n",
              "      <td>0</td>\n",
              "      <td>0</td>\n",
              "      <td>0</td>\n",
              "      <td>0</td>\n",
              "      <td>0</td>\n",
              "    </tr>\n",
              "    <tr>\n",
              "      <th>2486</th>\n",
              "      <td>0</td>\n",
              "      <td>1</td>\n",
              "      <td>0</td>\n",
              "      <td>0</td>\n",
              "      <td>0</td>\n",
              "      <td>0</td>\n",
              "      <td>0</td>\n",
              "    </tr>\n",
              "    <tr>\n",
              "      <th>313</th>\n",
              "      <td>0</td>\n",
              "      <td>0</td>\n",
              "      <td>1</td>\n",
              "      <td>0</td>\n",
              "      <td>0</td>\n",
              "      <td>0</td>\n",
              "      <td>0</td>\n",
              "    </tr>\n",
              "    <tr>\n",
              "      <th>52726</th>\n",
              "      <td>0</td>\n",
              "      <td>0</td>\n",
              "      <td>0</td>\n",
              "      <td>1</td>\n",
              "      <td>0</td>\n",
              "      <td>0</td>\n",
              "      <td>0</td>\n",
              "    </tr>\n",
              "    <tr>\n",
              "      <th>8558</th>\n",
              "      <td>1</td>\n",
              "      <td>0</td>\n",
              "      <td>0</td>\n",
              "      <td>0</td>\n",
              "      <td>0</td>\n",
              "      <td>0</td>\n",
              "      <td>0</td>\n",
              "    </tr>\n",
              "    <tr>\n",
              "      <th>2559</th>\n",
              "      <td>1</td>\n",
              "      <td>0</td>\n",
              "      <td>0</td>\n",
              "      <td>0</td>\n",
              "      <td>0</td>\n",
              "      <td>0</td>\n",
              "      <td>0</td>\n",
              "    </tr>\n",
              "    <tr>\n",
              "      <th>54735</th>\n",
              "      <td>0</td>\n",
              "      <td>0</td>\n",
              "      <td>0</td>\n",
              "      <td>1</td>\n",
              "      <td>0</td>\n",
              "      <td>0</td>\n",
              "      <td>0</td>\n",
              "    </tr>\n",
              "    <tr>\n",
              "      <th>25763</th>\n",
              "      <td>0</td>\n",
              "      <td>1</td>\n",
              "      <td>0</td>\n",
              "      <td>0</td>\n",
              "      <td>0</td>\n",
              "      <td>0</td>\n",
              "      <td>0</td>\n",
              "    </tr>\n",
              "    <tr>\n",
              "      <th>44540</th>\n",
              "      <td>0</td>\n",
              "      <td>0</td>\n",
              "      <td>0</td>\n",
              "      <td>0</td>\n",
              "      <td>1</td>\n",
              "      <td>0</td>\n",
              "      <td>0</td>\n",
              "    </tr>\n",
              "    <tr>\n",
              "      <th>28603</th>\n",
              "      <td>0</td>\n",
              "      <td>0</td>\n",
              "      <td>1</td>\n",
              "      <td>0</td>\n",
              "      <td>0</td>\n",
              "      <td>0</td>\n",
              "      <td>0</td>\n",
              "    </tr>\n",
              "    <tr>\n",
              "      <th>4372</th>\n",
              "      <td>0</td>\n",
              "      <td>0</td>\n",
              "      <td>0</td>\n",
              "      <td>0</td>\n",
              "      <td>1</td>\n",
              "      <td>0</td>\n",
              "      <td>0</td>\n",
              "    </tr>\n",
              "    <tr>\n",
              "      <th>30666</th>\n",
              "      <td>1</td>\n",
              "      <td>0</td>\n",
              "      <td>0</td>\n",
              "      <td>0</td>\n",
              "      <td>0</td>\n",
              "      <td>0</td>\n",
              "      <td>0</td>\n",
              "    </tr>\n",
              "    <tr>\n",
              "      <th>6431</th>\n",
              "      <td>0</td>\n",
              "      <td>0</td>\n",
              "      <td>0</td>\n",
              "      <td>0</td>\n",
              "      <td>1</td>\n",
              "      <td>0</td>\n",
              "      <td>0</td>\n",
              "    </tr>\n",
              "    <tr>\n",
              "      <th>57420</th>\n",
              "      <td>0</td>\n",
              "      <td>0</td>\n",
              "      <td>1</td>\n",
              "      <td>0</td>\n",
              "      <td>0</td>\n",
              "      <td>0</td>\n",
              "      <td>0</td>\n",
              "    </tr>\n",
              "    <tr>\n",
              "      <th>1373</th>\n",
              "      <td>1</td>\n",
              "      <td>0</td>\n",
              "      <td>0</td>\n",
              "      <td>0</td>\n",
              "      <td>0</td>\n",
              "      <td>0</td>\n",
              "      <td>0</td>\n",
              "    </tr>\n",
              "    <tr>\n",
              "      <th>2026</th>\n",
              "      <td>1</td>\n",
              "      <td>0</td>\n",
              "      <td>0</td>\n",
              "      <td>0</td>\n",
              "      <td>0</td>\n",
              "      <td>0</td>\n",
              "      <td>0</td>\n",
              "    </tr>\n",
              "    <tr>\n",
              "      <th>58977</th>\n",
              "      <td>0</td>\n",
              "      <td>1</td>\n",
              "      <td>0</td>\n",
              "      <td>0</td>\n",
              "      <td>0</td>\n",
              "      <td>0</td>\n",
              "      <td>0</td>\n",
              "    </tr>\n",
              "    <tr>\n",
              "      <th>41101</th>\n",
              "      <td>1</td>\n",
              "      <td>0</td>\n",
              "      <td>0</td>\n",
              "      <td>0</td>\n",
              "      <td>0</td>\n",
              "      <td>0</td>\n",
              "      <td>0</td>\n",
              "    </tr>\n",
              "    <tr>\n",
              "      <th>10019</th>\n",
              "      <td>1</td>\n",
              "      <td>0</td>\n",
              "      <td>0</td>\n",
              "      <td>0</td>\n",
              "      <td>0</td>\n",
              "      <td>0</td>\n",
              "      <td>0</td>\n",
              "    </tr>\n",
              "  </tbody>\n",
              "</table>\n",
              "</div>"
            ],
            "text/plain": [
              "       extraction_type_class_gravity  ...  extraction_type_class_wind-powered\n",
              "43360                              1  ...                                   0\n",
              "7263                               1  ...                                   0\n",
              "2486                               0  ...                                   0\n",
              "313                                0  ...                                   0\n",
              "52726                              0  ...                                   0\n",
              "8558                               1  ...                                   0\n",
              "2559                               1  ...                                   0\n",
              "54735                              0  ...                                   0\n",
              "25763                              0  ...                                   0\n",
              "44540                              0  ...                                   0\n",
              "28603                              0  ...                                   0\n",
              "4372                               0  ...                                   0\n",
              "30666                              1  ...                                   0\n",
              "6431                               0  ...                                   0\n",
              "57420                              0  ...                                   0\n",
              "1373                               1  ...                                   0\n",
              "2026                               1  ...                                   0\n",
              "58977                              0  ...                                   0\n",
              "41101                              1  ...                                   0\n",
              "10019                              1  ...                                   0\n",
              "\n",
              "[20 rows x 7 columns]"
            ]
          },
          "metadata": {
            "tags": []
          },
          "execution_count": 29
        }
      ]
    },
    {
      "cell_type": "markdown",
      "metadata": {
        "colab_type": "text",
        "id": "1Ql9Qmw3sNJ7"
      },
      "source": [
        "#### One-Hot Encoding, Logistic Regression, Validation Accuracy"
      ]
    },
    {
      "cell_type": "code",
      "metadata": {
        "colab_type": "code",
        "id": "mT4A-oDGpOss",
        "outputId": "f4525905-fcc2-4ba0-e5ac-c2b32e5be133",
        "colab": {
          "base_uri": "https://localhost:8080/",
          "height": 34
        }
      },
      "source": [
        "from sklearn.linear_model import LogisticRegressionCV\n",
        "from sklearn.preprocessing import StandardScaler\n",
        "\n",
        "lr = make_pipeline(\n",
        "    ce.OneHotEncoder(use_cat_names=True), \n",
        "    SimpleImputer(), \n",
        "    StandardScaler(), \n",
        "    LogisticRegressionCV(multi_class='auto', solver='lbfgs', cv=5, n_jobs=-1)\n",
        ")\n",
        "\n",
        "lr.fit(X_train[[feature]], y_train)\n",
        "score = lr.score(X_val[[feature]], y_val)\n",
        "print('Logistic Regression, Validation Accuracy', score)"
      ],
      "execution_count": 0,
      "outputs": [
        {
          "output_type": "stream",
          "text": [
            "Logistic Regression, Validation Accuracy 0.6202861952861953\n"
          ],
          "name": "stdout"
        }
      ]
    },
    {
      "cell_type": "markdown",
      "metadata": {
        "colab_type": "text",
        "id": "EbH6wivpsRuV"
      },
      "source": [
        "#### One-Hot Encoding, Decision Tree, Validation Accuracy"
      ]
    },
    {
      "cell_type": "code",
      "metadata": {
        "colab_type": "code",
        "id": "b6KUluFOqIdK",
        "outputId": "f8182dcb-d5be-40a4-d3f6-921519d2546a",
        "colab": {
          "base_uri": "https://localhost:8080/",
          "height": 34
        }
      },
      "source": [
        "from sklearn.tree import DecisionTreeClassifier\n",
        "\n",
        "dt = make_pipeline(\n",
        "    ce.OneHotEncoder(use_cat_names=True), \n",
        "    SimpleImputer(), \n",
        "    DecisionTreeClassifier(random_state=42)\n",
        ")\n",
        "\n",
        "dt.fit(X_train[[feature]], y_train)\n",
        "score = dt.score(X_val[[feature]], y_val)\n",
        "print('Decision Tree, Validation Accuracy', score)"
      ],
      "execution_count": 0,
      "outputs": [
        {
          "output_type": "stream",
          "text": [
            "Decision Tree, Validation Accuracy 0.6202861952861953\n"
          ],
          "name": "stdout"
        }
      ]
    },
    {
      "cell_type": "markdown",
      "metadata": {
        "colab_type": "text",
        "id": "8yg11_gTsUu6"
      },
      "source": [
        "#### One-Hot Encoding, Logistic Regression, Model Interpretation"
      ]
    },
    {
      "cell_type": "code",
      "metadata": {
        "colab_type": "code",
        "id": "IxHwXGRornNI",
        "outputId": "ff90ef7c-449c-4d78-b989-49bbb1e8ed9b",
        "colab": {
          "base_uri": "https://localhost:8080/",
          "height": 265
        }
      },
      "source": [
        "model = lr.named_steps['logisticregressioncv']\n",
        "encoder = lr.named_steps['onehotencoder']\n",
        "encoded_columns = encoder.transform(X_val[[feature]]).columns\n",
        "coefficients = pd.Series(model.coef_[0], encoded_columns)\n",
        "coefficients.sort_values().plot.barh(color='grey');"
      ],
      "execution_count": 0,
      "outputs": [
        {
          "output_type": "display_data",
          "data": {
            "image/png": "[encoded data removed]",
            "text/plain": [
              "<Figure size 432x288 with 1 Axes>"
            ]
          },
          "metadata": {
            "tags": []
          }
        }
      ]
    },
    {
      "cell_type": "markdown",
      "metadata": {
        "colab_type": "text",
        "id": "0REZ8HdpsccR"
      },
      "source": [
        "#### One-Hot Encoding, Decision Tree, Model Interpretation"
      ]
    },
    {
      "cell_type": "code",
      "metadata": {
        "colab_type": "code",
        "id": "gV-grmYKpDp9",
        "outputId": "43437994-e86d-4c8a-84bd-565c9e59df66",
        "colab": {
          "base_uri": "https://localhost:8080/",
          "height": 934
        }
      },
      "source": [
        "# Plot tree\n",
        "# https://scikit-learn.org/stable/modules/generated/sklearn.tree.export_graphviz.html\n",
        "import graphviz\n",
        "from sklearn.tree import export_graphviz\n",
        "\n",
        "model = dt.named_steps['decisiontreeclassifier']\n",
        "encoder = dt.named_steps['onehotencoder']\n",
        "encoded_columns = encoder.transform(X_val[[feature]]).columns\n",
        "\n",
        "dot_data = export_graphviz(model, \n",
        "                           out_file=None, \n",
        "                           max_depth=7, \n",
        "                           feature_names=encoded_columns,\n",
        "                           class_names=model.classes_, \n",
        "                           impurity=False, \n",
        "                           filled=True, \n",
        "                           proportion=True, \n",
        "                           rounded=True)   \n",
        "display(graphviz.Source(dot_data))"
      ],
      "execution_count": 0,
      "outputs": [
        {
          "output_type": "display_data",
          "data": {
            "text/plain": [
              "<graphviz.files.Source at 0x7f3d5f5a71d0>"
            ],
            "image/svg+xml": "<?xml version=\"1.0\" encoding=\"UTF-8\" standalone=\"no\"?>\n<!DOCTYPE svg PUBLIC \"-//W3C//DTD SVG 1.1//EN\"\n \"http://www.w3.org/Graphics/SVG/1.1/DTD/svg11.dtd\">\n<!-- Generated by graphviz version 2.40.1 (20161225.0304)\n -->\n<!-- Title: Tree Pages: 1 -->\n<svg width=\"1067pt\" height=\"685pt\"\n viewBox=\"0.00 0.00 1067.00 685.00\" xmlns=\"http://www.w3.org/2000/svg\" xmlns:xlink=\"http://www.w3.org/1999/xlink\">\n<g id=\"graph0\" class=\"graph\" transform=\"scale(1 1) rotate(0) translate(4 681)\">\n<title>Tree</title>\n<polygon fill=\"#ffffff\" stroke=\"transparent\" points=\"-4,4 -4,-681 1063,-681 1063,4 -4,4\"/>\n<!-- 0 -->\n<g id=\"node1\" class=\"node\">\n<title>0</title>\n<path fill=\"#f8decc\" stroke=\"#000000\" d=\"M944.5,-677C944.5,-677 725.5,-677 725.5,-677 719.5,-677 713.5,-671 713.5,-665 713.5,-665 713.5,-621 713.5,-621 713.5,-615 719.5,-609 725.5,-609 725.5,-609 944.5,-609 944.5,-609 950.5,-609 956.5,-615 956.5,-621 956.5,-621 956.5,-665 956.5,-665 956.5,-671 950.5,-677 944.5,-677\"/>\n<text text-anchor=\"middle\" x=\"835\" y=\"-661.8\" font-family=\"Helvetica,sans-Serif\" font-size=\"14.00\" fill=\"#000000\">extraction_type_class_other &lt;= 0.5</text>\n<text text-anchor=\"middle\" x=\"835\" y=\"-646.8\" font-family=\"Helvetica,sans-Serif\" font-size=\"14.00\" fill=\"#000000\">samples = 100.0%</text>\n<text text-anchor=\"middle\" x=\"835\" y=\"-631.8\" font-family=\"Helvetica,sans-Serif\" font-size=\"14.00\" fill=\"#000000\">value = [0.543, 0.073, 0.384]</text>\n<text text-anchor=\"middle\" x=\"835\" y=\"-616.8\" font-family=\"Helvetica,sans-Serif\" font-size=\"14.00\" fill=\"#000000\">class = functional</text>\n</g>\n<!-- 1 -->\n<g id=\"node2\" class=\"node\">\n<title>1</title>\n<path fill=\"#f5ceb2\" stroke=\"#000000\" d=\"M837,-573C837,-573 577,-573 577,-573 571,-573 565,-567 565,-561 565,-561 565,-517 565,-517 565,-511 571,-505 577,-505 577,-505 837,-505 837,-505 843,-505 849,-511 849,-517 849,-517 849,-561 849,-561 849,-567 843,-573 837,-573\"/>\n<text text-anchor=\"middle\" x=\"707\" y=\"-557.8\" font-family=\"Helvetica,sans-Serif\" font-size=\"14.00\" fill=\"#000000\">extraction_type_class_motorpump &lt;= 0.5</text>\n<text text-anchor=\"middle\" x=\"707\" y=\"-542.8\" font-family=\"Helvetica,sans-Serif\" font-size=\"14.00\" fill=\"#000000\">samples = 89.1%</text>\n<text text-anchor=\"middle\" x=\"707\" y=\"-527.8\" font-family=\"Helvetica,sans-Serif\" font-size=\"14.00\" fill=\"#000000\">value = [0.59, 0.078, 0.332]</text>\n<text text-anchor=\"middle\" x=\"707\" y=\"-512.8\" font-family=\"Helvetica,sans-Serif\" font-size=\"14.00\" fill=\"#000000\">class = functional</text>\n</g>\n<!-- 0&#45;&gt;1 -->\n<g id=\"edge1\" class=\"edge\">\n<title>0&#45;&gt;1</title>\n<path fill=\"none\" stroke=\"#000000\" d=\"M793.088,-608.9465C781.485,-599.519 768.7779,-589.1946 756.7741,-579.4415\"/>\n<polygon fill=\"#000000\" stroke=\"#000000\" points=\"758.9744,-576.7196 749.0061,-573.13 754.5602,-582.1524 758.9744,-576.7196\"/>\n<text text-anchor=\"middle\" x=\"751.5786\" y=\"-594.2973\" font-family=\"Helvetica,sans-Serif\" font-size=\"14.00\" fill=\"#000000\">True</text>\n</g>\n<!-- 12 -->\n<g id=\"node13\" class=\"node\">\n<title>12</title>\n<path fill=\"#9d66eb\" stroke=\"#000000\" d=\"M1047,-565.5C1047,-565.5 879,-565.5 879,-565.5 873,-565.5 867,-559.5 867,-553.5 867,-553.5 867,-524.5 867,-524.5 867,-518.5 873,-512.5 879,-512.5 879,-512.5 1047,-512.5 1047,-512.5 1053,-512.5 1059,-518.5 1059,-524.5 1059,-524.5 1059,-553.5 1059,-553.5 1059,-559.5 1053,-565.5 1047,-565.5\"/>\n<text text-anchor=\"middle\" x=\"963\" y=\"-550.3\" font-family=\"Helvetica,sans-Serif\" font-size=\"14.00\" fill=\"#000000\">samples = 10.9%</text>\n<text text-anchor=\"middle\" x=\"963\" y=\"-535.3\" font-family=\"Helvetica,sans-Serif\" font-size=\"14.00\" fill=\"#000000\">value = [0.159, 0.031, 0.81]</text>\n<text text-anchor=\"middle\" x=\"963\" y=\"-520.3\" font-family=\"Helvetica,sans-Serif\" font-size=\"14.00\" fill=\"#000000\">class = non functional</text>\n</g>\n<!-- 0&#45;&gt;12 -->\n<g id=\"edge12\" class=\"edge\">\n<title>0&#45;&gt;12</title>\n<path fill=\"none\" stroke=\"#000000\" d=\"M876.912,-608.9465C891.5533,-597.0504 907.9526,-583.726 922.4785,-571.9237\"/>\n<polygon fill=\"#000000\" stroke=\"#000000\" points=\"924.7786,-574.5645 930.3327,-565.5422 920.3645,-569.1317 924.7786,-574.5645\"/>\n<text text-anchor=\"middle\" x=\"927.7602\" y=\"-586.7095\" font-family=\"Helvetica,sans-Serif\" font-size=\"14.00\" fill=\"#000000\">False</text>\n</g>\n<!-- 2 -->\n<g id=\"node3\" class=\"node\">\n<title>2</title>\n<path fill=\"#f4caac\" stroke=\"#000000\" d=\"M708.5,-469C708.5,-469 443.5,-469 443.5,-469 437.5,-469 431.5,-463 431.5,-457 431.5,-457 431.5,-413 431.5,-413 431.5,-407 437.5,-401 443.5,-401 443.5,-401 708.5,-401 708.5,-401 714.5,-401 720.5,-407 720.5,-413 720.5,-413 720.5,-457 720.5,-457 720.5,-463 714.5,-469 708.5,-469\"/>\n<text text-anchor=\"middle\" x=\"576\" y=\"-453.8\" font-family=\"Helvetica,sans-Serif\" font-size=\"14.00\" fill=\"#000000\">extraction_type_class_submersible &lt;= 0.5</text>\n<text text-anchor=\"middle\" x=\"576\" y=\"-438.8\" font-family=\"Helvetica,sans-Serif\" font-size=\"14.00\" fill=\"#000000\">samples = 84.1%</text>\n<text text-anchor=\"middle\" x=\"576\" y=\"-423.8\" font-family=\"Helvetica,sans-Serif\" font-size=\"14.00\" fill=\"#000000\">value = [0.603, 0.08, 0.318]</text>\n<text text-anchor=\"middle\" x=\"576\" y=\"-408.8\" font-family=\"Helvetica,sans-Serif\" font-size=\"14.00\" fill=\"#000000\">class = functional</text>\n</g>\n<!-- 1&#45;&gt;2 -->\n<g id=\"edge2\" class=\"edge\">\n<title>1&#45;&gt;2</title>\n<path fill=\"none\" stroke=\"#000000\" d=\"M664.1057,-504.9465C652.2307,-495.519 639.2259,-485.1946 626.9407,-475.4415\"/>\n<polygon fill=\"#000000\" stroke=\"#000000\" points=\"628.9989,-472.6066 618.9907,-469.13 624.6464,-478.089 628.9989,-472.6066\"/>\n</g>\n<!-- 11 -->\n<g id=\"node12\" class=\"node\">\n<title>11</title>\n<path fill=\"#d8c1f7\" stroke=\"#000000\" d=\"M927,-461.5C927,-461.5 751,-461.5 751,-461.5 745,-461.5 739,-455.5 739,-449.5 739,-449.5 739,-420.5 739,-420.5 739,-414.5 745,-408.5 751,-408.5 751,-408.5 927,-408.5 927,-408.5 933,-408.5 939,-414.5 939,-420.5 939,-420.5 939,-449.5 939,-449.5 939,-455.5 933,-461.5 927,-461.5\"/>\n<text text-anchor=\"middle\" x=\"839\" y=\"-446.3\" font-family=\"Helvetica,sans-Serif\" font-size=\"14.00\" fill=\"#000000\">samples = 5.0%</text>\n<text text-anchor=\"middle\" x=\"839\" y=\"-431.3\" font-family=\"Helvetica,sans-Serif\" font-size=\"14.00\" fill=\"#000000\">value = [0.381, 0.045, 0.574]</text>\n<text text-anchor=\"middle\" x=\"839\" y=\"-416.3\" font-family=\"Helvetica,sans-Serif\" font-size=\"14.00\" fill=\"#000000\">class = non functional</text>\n</g>\n<!-- 1&#45;&gt;11 -->\n<g id=\"edge11\" class=\"edge\">\n<title>1&#45;&gt;11</title>\n<path fill=\"none\" stroke=\"#000000\" d=\"M750.2217,-504.9465C765.3206,-493.0504 782.2324,-479.726 797.2122,-467.9237\"/>\n<polygon fill=\"#000000\" stroke=\"#000000\" points=\"799.623,-470.4802 805.3119,-461.5422 795.2909,-464.9817 799.623,-470.4802\"/>\n</g>\n<!-- 3 -->\n<g id=\"node4\" class=\"node\">\n<title>3</title>\n<path fill=\"#f4c7a8\" stroke=\"#000000\" d=\"M568.5,-365C568.5,-365 339.5,-365 339.5,-365 333.5,-365 327.5,-359 327.5,-353 327.5,-353 327.5,-309 327.5,-309 327.5,-303 333.5,-297 339.5,-297 339.5,-297 568.5,-297 568.5,-297 574.5,-297 580.5,-303 580.5,-309 580.5,-309 580.5,-353 580.5,-353 580.5,-359 574.5,-365 568.5,-365\"/>\n<text text-anchor=\"middle\" x=\"454\" y=\"-349.8\" font-family=\"Helvetica,sans-Serif\" font-size=\"14.00\" fill=\"#000000\">extraction_type_class_gravity &lt;= 0.5</text>\n<text text-anchor=\"middle\" x=\"454\" y=\"-334.8\" font-family=\"Helvetica,sans-Serif\" font-size=\"14.00\" fill=\"#000000\">samples = 73.8%</text>\n<text text-anchor=\"middle\" x=\"454\" y=\"-319.8\" font-family=\"Helvetica,sans-Serif\" font-size=\"14.00\" fill=\"#000000\">value = [0.611, 0.085, 0.304]</text>\n<text text-anchor=\"middle\" x=\"454\" y=\"-304.8\" font-family=\"Helvetica,sans-Serif\" font-size=\"14.00\" fill=\"#000000\">class = functional</text>\n</g>\n<!-- 2&#45;&gt;3 -->\n<g id=\"edge3\" class=\"edge\">\n<title>2&#45;&gt;3</title>\n<path fill=\"none\" stroke=\"#000000\" d=\"M536.0526,-400.9465C525.0988,-391.6088 513.1127,-381.3911 501.768,-371.7203\"/>\n<polygon fill=\"#000000\" stroke=\"#000000\" points=\"503.9179,-368.9538 494.0371,-365.13 499.3767,-374.2809 503.9179,-368.9538\"/>\n</g>\n<!-- 10 -->\n<g id=\"node11\" class=\"node\">\n<title>10</title>\n<path fill=\"#f9e4d5\" stroke=\"#000000\" d=\"M787,-357.5C787,-357.5 611,-357.5 611,-357.5 605,-357.5 599,-351.5 599,-345.5 599,-345.5 599,-316.5 599,-316.5 599,-310.5 605,-304.5 611,-304.5 611,-304.5 787,-304.5 787,-304.5 793,-304.5 799,-310.5 799,-316.5 799,-316.5 799,-345.5 799,-345.5 799,-351.5 793,-357.5 787,-357.5\"/>\n<text text-anchor=\"middle\" x=\"699\" y=\"-342.3\" font-family=\"Helvetica,sans-Serif\" font-size=\"14.00\" fill=\"#000000\">samples = 10.3%</text>\n<text text-anchor=\"middle\" x=\"699\" y=\"-327.3\" font-family=\"Helvetica,sans-Serif\" font-size=\"14.00\" fill=\"#000000\">value = [0.541, 0.042, 0.416]</text>\n<text text-anchor=\"middle\" x=\"699\" y=\"-312.3\" font-family=\"Helvetica,sans-Serif\" font-size=\"14.00\" fill=\"#000000\">class = functional</text>\n</g>\n<!-- 2&#45;&gt;10 -->\n<g id=\"edge10\" class=\"edge\">\n<title>2&#45;&gt;10</title>\n<path fill=\"none\" stroke=\"#000000\" d=\"M616.2748,-400.9465C630.2139,-389.1606 645.8112,-375.9726 659.6732,-364.2519\"/>\n<polygon fill=\"#000000\" stroke=\"#000000\" points=\"662.2324,-366.6715 667.6088,-357.5422 657.7127,-361.3262 662.2324,-366.6715\"/>\n</g>\n<!-- 4 -->\n<g id=\"node5\" class=\"node\">\n<title>4</title>\n<path fill=\"#f3c5a4\" stroke=\"#000000\" d=\"M458.5,-261C458.5,-261 181.5,-261 181.5,-261 175.5,-261 169.5,-255 169.5,-249 169.5,-249 169.5,-205 169.5,-205 169.5,-199 175.5,-193 181.5,-193 181.5,-193 458.5,-193 458.5,-193 464.5,-193 470.5,-199 470.5,-205 470.5,-205 470.5,-249 470.5,-249 470.5,-255 464.5,-261 458.5,-261\"/>\n<text text-anchor=\"middle\" x=\"320\" y=\"-245.8\" font-family=\"Helvetica,sans-Serif\" font-size=\"14.00\" fill=\"#000000\">extraction_type_class_wind&#45;powered &lt;= 0.5</text>\n<text text-anchor=\"middle\" x=\"320\" y=\"-230.8\" font-family=\"Helvetica,sans-Serif\" font-size=\"14.00\" fill=\"#000000\">samples = 28.7%</text>\n<text text-anchor=\"middle\" x=\"320\" y=\"-215.8\" font-family=\"Helvetica,sans-Serif\" font-size=\"14.00\" fill=\"#000000\">value = [0.629, 0.059, 0.311]</text>\n<text text-anchor=\"middle\" x=\"320\" y=\"-200.8\" font-family=\"Helvetica,sans-Serif\" font-size=\"14.00\" fill=\"#000000\">class = functional</text>\n</g>\n<!-- 3&#45;&gt;4 -->\n<g id=\"edge4\" class=\"edge\">\n<title>3&#45;&gt;4</title>\n<path fill=\"none\" stroke=\"#000000\" d=\"M410.1234,-296.9465C397.9765,-287.519 384.6738,-277.1946 372.1073,-267.4415\"/>\n<polygon fill=\"#000000\" stroke=\"#000000\" points=\"374.021,-264.4963 363.9752,-261.13 369.7291,-270.0262 374.021,-264.4963\"/>\n</g>\n<!-- 9 -->\n<g id=\"node10\" class=\"node\">\n<title>9</title>\n<path fill=\"#f4c9aa\" stroke=\"#000000\" d=\"M677,-253.5C677,-253.5 501,-253.5 501,-253.5 495,-253.5 489,-247.5 489,-241.5 489,-241.5 489,-212.5 489,-212.5 489,-206.5 495,-200.5 501,-200.5 501,-200.5 677,-200.5 677,-200.5 683,-200.5 689,-206.5 689,-212.5 689,-212.5 689,-241.5 689,-241.5 689,-247.5 683,-253.5 677,-253.5\"/>\n<text text-anchor=\"middle\" x=\"589\" y=\"-238.3\" font-family=\"Helvetica,sans-Serif\" font-size=\"14.00\" fill=\"#000000\">samples = 45.1%</text>\n<text text-anchor=\"middle\" x=\"589\" y=\"-223.3\" font-family=\"Helvetica,sans-Serif\" font-size=\"14.00\" fill=\"#000000\">value = [0.599, 0.101, 0.299]</text>\n<text text-anchor=\"middle\" x=\"589\" y=\"-208.3\" font-family=\"Helvetica,sans-Serif\" font-size=\"14.00\" fill=\"#000000\">class = functional</text>\n</g>\n<!-- 3&#45;&gt;9 -->\n<g id=\"edge9\" class=\"edge\">\n<title>3&#45;&gt;9</title>\n<path fill=\"none\" stroke=\"#000000\" d=\"M498.204,-296.9465C513.6461,-285.0504 530.9422,-271.726 546.2625,-259.9237\"/>\n<polygon fill=\"#000000\" stroke=\"#000000\" points=\"548.7603,-262.4176 554.5462,-253.5422 544.4883,-256.8723 548.7603,-262.4176\"/>\n</g>\n<!-- 5 -->\n<g id=\"node6\" class=\"node\">\n<title>5</title>\n<path fill=\"#f3c4a3\" stroke=\"#000000\" d=\"M319,-157C319,-157 63,-157 63,-157 57,-157 51,-151 51,-145 51,-145 51,-101 51,-101 51,-95 57,-89 63,-89 63,-89 319,-89 319,-89 325,-89 331,-95 331,-101 331,-101 331,-145 331,-145 331,-151 325,-157 319,-157\"/>\n<text text-anchor=\"middle\" x=\"191\" y=\"-141.8\" font-family=\"Helvetica,sans-Serif\" font-size=\"14.00\" fill=\"#000000\">extraction_type_class_rope pump &lt;= 0.5</text>\n<text text-anchor=\"middle\" x=\"191\" y=\"-126.8\" font-family=\"Helvetica,sans-Serif\" font-size=\"14.00\" fill=\"#000000\">samples = 28.5%</text>\n<text text-anchor=\"middle\" x=\"191\" y=\"-111.8\" font-family=\"Helvetica,sans-Serif\" font-size=\"14.00\" fill=\"#000000\">value = [0.631, 0.059, 0.31]</text>\n<text text-anchor=\"middle\" x=\"191\" y=\"-96.8\" font-family=\"Helvetica,sans-Serif\" font-size=\"14.00\" fill=\"#000000\">class = functional</text>\n</g>\n<!-- 4&#45;&gt;5 -->\n<g id=\"edge5\" class=\"edge\">\n<title>4&#45;&gt;5</title>\n<path fill=\"none\" stroke=\"#000000\" d=\"M277.7606,-192.9465C266.0669,-183.519 253.2606,-173.1946 241.163,-163.4415\"/>\n<polygon fill=\"#000000\" stroke=\"#000000\" points=\"243.3162,-160.6816 233.3343,-157.13 238.9227,-166.1312 243.3162,-160.6816\"/>\n</g>\n<!-- 8 -->\n<g id=\"node9\" class=\"node\">\n<title>8</title>\n<path fill=\"#f8f3fd\" stroke=\"#000000\" d=\"M537,-149.5C537,-149.5 361,-149.5 361,-149.5 355,-149.5 349,-143.5 349,-137.5 349,-137.5 349,-108.5 349,-108.5 349,-102.5 355,-96.5 361,-96.5 361,-96.5 537,-96.5 537,-96.5 543,-96.5 549,-102.5 549,-108.5 549,-108.5 549,-137.5 549,-137.5 549,-143.5 543,-149.5 537,-149.5\"/>\n<text text-anchor=\"middle\" x=\"449\" y=\"-134.3\" font-family=\"Helvetica,sans-Serif\" font-size=\"14.00\" fill=\"#000000\">samples = 0.2%</text>\n<text text-anchor=\"middle\" x=\"449\" y=\"-119.3\" font-family=\"Helvetica,sans-Serif\" font-size=\"14.00\" fill=\"#000000\">value = [0.452, 0.065, 0.484]</text>\n<text text-anchor=\"middle\" x=\"449\" y=\"-104.3\" font-family=\"Helvetica,sans-Serif\" font-size=\"14.00\" fill=\"#000000\">class = non functional</text>\n</g>\n<!-- 4&#45;&gt;8 -->\n<g id=\"edge8\" class=\"edge\">\n<title>4&#45;&gt;8</title>\n<path fill=\"none\" stroke=\"#000000\" d=\"M362.2394,-192.9465C376.9952,-181.0504 393.5225,-167.726 408.162,-155.9237\"/>\n<polygon fill=\"#000000\" stroke=\"#000000\" points=\"410.4891,-158.5433 416.0775,-149.5422 406.0957,-153.0938 410.4891,-158.5433\"/>\n</g>\n<!-- 6 -->\n<g id=\"node7\" class=\"node\">\n<title>6</title>\n<path fill=\"#f3c5a3\" stroke=\"#000000\" d=\"M164,-53C164,-53 12,-53 12,-53 6,-53 0,-47 0,-41 0,-41 0,-12 0,-12 0,-6 6,0 12,0 12,0 164,0 164,0 170,0 176,-6 176,-12 176,-12 176,-41 176,-41 176,-47 170,-53 164,-53\"/>\n<text text-anchor=\"middle\" x=\"88\" y=\"-37.8\" font-family=\"Helvetica,sans-Serif\" font-size=\"14.00\" fill=\"#000000\">samples = 27.7%</text>\n<text text-anchor=\"middle\" x=\"88\" y=\"-22.8\" font-family=\"Helvetica,sans-Serif\" font-size=\"14.00\" fill=\"#000000\">value = [0.63, 0.06, 0.31]</text>\n<text text-anchor=\"middle\" x=\"88\" y=\"-7.8\" font-family=\"Helvetica,sans-Serif\" font-size=\"14.00\" fill=\"#000000\">class = functional</text>\n</g>\n<!-- 5&#45;&gt;6 -->\n<g id=\"edge6\" class=\"edge\">\n<title>5&#45;&gt;6</title>\n<path fill=\"none\" stroke=\"#000000\" d=\"M154.6861,-88.9777C144.7168,-79.6376 133.9138,-69.5163 123.9643,-60.1947\"/>\n<polygon fill=\"#000000\" stroke=\"#000000\" points=\"126.2408,-57.5314 116.5502,-53.2485 121.4548,-62.6397 126.2408,-57.5314\"/>\n</g>\n<!-- 7 -->\n<g id=\"node8\" class=\"node\">\n<title>7</title>\n<path fill=\"#f2bf9b\" stroke=\"#000000\" d=\"M382,-53C382,-53 206,-53 206,-53 200,-53 194,-47 194,-41 194,-41 194,-12 194,-12 194,-6 200,0 206,0 206,0 382,0 382,0 388,0 394,-6 394,-12 394,-12 394,-41 394,-41 394,-47 388,-53 382,-53\"/>\n<text text-anchor=\"middle\" x=\"294\" y=\"-37.8\" font-family=\"Helvetica,sans-Serif\" font-size=\"14.00\" fill=\"#000000\">samples = 0.7%</text>\n<text text-anchor=\"middle\" x=\"294\" y=\"-22.8\" font-family=\"Helvetica,sans-Serif\" font-size=\"14.00\" fill=\"#000000\">value = [0.657, 0.037, 0.306]</text>\n<text text-anchor=\"middle\" x=\"294\" y=\"-7.8\" font-family=\"Helvetica,sans-Serif\" font-size=\"14.00\" fill=\"#000000\">class = functional</text>\n</g>\n<!-- 5&#45;&gt;7 -->\n<g id=\"edge7\" class=\"edge\">\n<title>5&#45;&gt;7</title>\n<path fill=\"none\" stroke=\"#000000\" d=\"M227.3139,-88.9777C237.2832,-79.6376 248.0862,-69.5163 258.0357,-60.1947\"/>\n<polygon fill=\"#000000\" stroke=\"#000000\" points=\"260.5452,-62.6397 265.4498,-53.2485 255.7592,-57.5314 260.5452,-62.6397\"/>\n</g>\n</g>\n</svg>\n"
          },
          "metadata": {
            "tags": []
          }
        }
      ]
    },
    {
      "cell_type": "markdown",
      "metadata": {
        "colab_type": "text",
        "id": "QUd6gzcZgLVz"
      },
      "source": [
        "### [Ordinal Encoding](http://contrib.scikit-learn.org/categorical-encoding/ordinal.html)\n",
        "\n",
        "> Ordinal encoding uses a single column of integers to represent the classes. An optional mapping dict can be passed in; in this case, we use the knowledge that there is some true order to the classes themselves. Otherwise, the classes are assumed to have no true order and integers are selected at random."
      ]
    },
    {
      "cell_type": "code",
      "metadata": {
        "colab_type": "code",
        "id": "CnBz2RbwgLVz",
        "outputId": "f250f6ff-34a3-41bd-f65a-786277612630",
        "colab": {
          "base_uri": "https://localhost:8080/",
          "height": 686
        }
      },
      "source": [
        "encoder = ce.OrdinalEncoder()\n",
        "encoded = encoder.fit_transform(X_train[[feature]])\n",
        "print(f'1 column, {encoded[feature].nunique()} unique values')\n",
        "encoded.head(20)"
      ],
      "execution_count": 0,
      "outputs": [
        {
          "output_type": "stream",
          "text": [
            "1 column, 7 unique values\n"
          ],
          "name": "stdout"
        },
        {
          "output_type": "execute_result",
          "data": {
            "text/html": [
              "<div>\n",
              "<style scoped>\n",
              "    .dataframe tbody tr th:only-of-type {\n",
              "        vertical-align: middle;\n",
              "    }\n",
              "\n",
              "    .dataframe tbody tr th {\n",
              "        vertical-align: top;\n",
              "    }\n",
              "\n",
              "    .dataframe thead th {\n",
              "        text-align: right;\n",
              "    }\n",
              "</style>\n",
              "<table border=\"1\" class=\"dataframe\">\n",
              "  <thead>\n",
              "    <tr style=\"text-align: right;\">\n",
              "      <th></th>\n",
              "      <th>extraction_type_class</th>\n",
              "    </tr>\n",
              "  </thead>\n",
              "  <tbody>\n",
              "    <tr>\n",
              "      <th>43360</th>\n",
              "      <td>1</td>\n",
              "    </tr>\n",
              "    <tr>\n",
              "      <th>7263</th>\n",
              "      <td>1</td>\n",
              "    </tr>\n",
              "    <tr>\n",
              "      <th>2486</th>\n",
              "      <td>2</td>\n",
              "    </tr>\n",
              "    <tr>\n",
              "      <th>313</th>\n",
              "      <td>3</td>\n",
              "    </tr>\n",
              "    <tr>\n",
              "      <th>52726</th>\n",
              "      <td>4</td>\n",
              "    </tr>\n",
              "    <tr>\n",
              "      <th>8558</th>\n",
              "      <td>1</td>\n",
              "    </tr>\n",
              "    <tr>\n",
              "      <th>2559</th>\n",
              "      <td>1</td>\n",
              "    </tr>\n",
              "    <tr>\n",
              "      <th>54735</th>\n",
              "      <td>4</td>\n",
              "    </tr>\n",
              "    <tr>\n",
              "      <th>25763</th>\n",
              "      <td>2</td>\n",
              "    </tr>\n",
              "    <tr>\n",
              "      <th>44540</th>\n",
              "      <td>5</td>\n",
              "    </tr>\n",
              "    <tr>\n",
              "      <th>28603</th>\n",
              "      <td>3</td>\n",
              "    </tr>\n",
              "    <tr>\n",
              "      <th>4372</th>\n",
              "      <td>5</td>\n",
              "    </tr>\n",
              "    <tr>\n",
              "      <th>30666</th>\n",
              "      <td>1</td>\n",
              "    </tr>\n",
              "    <tr>\n",
              "      <th>6431</th>\n",
              "      <td>5</td>\n",
              "    </tr>\n",
              "    <tr>\n",
              "      <th>57420</th>\n",
              "      <td>3</td>\n",
              "    </tr>\n",
              "    <tr>\n",
              "      <th>1373</th>\n",
              "      <td>1</td>\n",
              "    </tr>\n",
              "    <tr>\n",
              "      <th>2026</th>\n",
              "      <td>1</td>\n",
              "    </tr>\n",
              "    <tr>\n",
              "      <th>58977</th>\n",
              "      <td>2</td>\n",
              "    </tr>\n",
              "    <tr>\n",
              "      <th>41101</th>\n",
              "      <td>1</td>\n",
              "    </tr>\n",
              "    <tr>\n",
              "      <th>10019</th>\n",
              "      <td>1</td>\n",
              "    </tr>\n",
              "  </tbody>\n",
              "</table>\n",
              "</div>"
            ],
            "text/plain": [
              "       extraction_type_class\n",
              "43360                      1\n",
              "7263                       1\n",
              "2486                       2\n",
              "313                        3\n",
              "52726                      4\n",
              "8558                       1\n",
              "2559                       1\n",
              "54735                      4\n",
              "25763                      2\n",
              "44540                      5\n",
              "28603                      3\n",
              "4372                       5\n",
              "30666                      1\n",
              "6431                       5\n",
              "57420                      3\n",
              "1373                       1\n",
              "2026                       1\n",
              "58977                      2\n",
              "41101                      1\n",
              "10019                      1"
            ]
          },
          "metadata": {
            "tags": []
          },
          "execution_count": 34
        }
      ]
    },
    {
      "cell_type": "markdown",
      "metadata": {
        "colab_type": "text",
        "id": "Nd-ZWprasqUM"
      },
      "source": [
        "#### Ordinal Encoding, Logistic Regression, Validation Accuracy"
      ]
    },
    {
      "cell_type": "code",
      "metadata": {
        "colab_type": "code",
        "id": "GJ1YpwjvrhfL",
        "outputId": "c319888e-f2df-40b6-b0c2-2703bc814500",
        "colab": {
          "base_uri": "https://localhost:8080/",
          "height": 34
        }
      },
      "source": [
        "lr = make_pipeline(\n",
        "    ce.OrdinalEncoder(), \n",
        "    SimpleImputer(), \n",
        "    StandardScaler(), \n",
        "    LogisticRegressionCV(multi_class='auto', solver='lbfgs', cv=5, n_jobs=-1)\n",
        ")\n",
        "\n",
        "lr.fit(X_train[[feature]], y_train)\n",
        "score = lr.score(X_val[[feature]], y_val)\n",
        "print('Logistic Regression, Validation Accuracy', score)"
      ],
      "execution_count": 0,
      "outputs": [
        {
          "output_type": "stream",
          "text": [
            "Logistic Regression, Validation Accuracy 0.5417508417508418\n"
          ],
          "name": "stdout"
        }
      ]
    },
    {
      "cell_type": "markdown",
      "metadata": {
        "colab_type": "text",
        "id": "9lO_R3SksuHs"
      },
      "source": [
        "#### Ordinal Encoding, Decision Tree, Validation Accuracy"
      ]
    },
    {
      "cell_type": "code",
      "metadata": {
        "colab_type": "code",
        "id": "aOELD_roriVI",
        "outputId": "2582772a-f9fa-48b4-96d9-9640a1dc575c",
        "colab": {
          "base_uri": "https://localhost:8080/",
          "height": 34
        }
      },
      "source": [
        "dt = make_pipeline(\n",
        "    ce.OrdinalEncoder(), \n",
        "    SimpleImputer(), \n",
        "    DecisionTreeClassifier(random_state=42)\n",
        ")\n",
        "\n",
        "dt.fit(X_train[[feature]], y_train)\n",
        "score = dt.score(X_val[[feature]], y_val)\n",
        "print('Decision Tree, Validation Accuracy', score)"
      ],
      "execution_count": 0,
      "outputs": [
        {
          "output_type": "stream",
          "text": [
            "Decision Tree, Validation Accuracy 0.6202861952861953\n"
          ],
          "name": "stdout"
        }
      ]
    },
    {
      "cell_type": "markdown",
      "metadata": {
        "colab_type": "text",
        "id": "7V2zHjiwswTg"
      },
      "source": [
        "#### Ordinal Encoding, Logistic Regression, Model Interpretation"
      ]
    },
    {
      "cell_type": "code",
      "metadata": {
        "colab_type": "code",
        "id": "S9UPYPois8QR",
        "outputId": "13f0305c-b35b-4500-a24d-96b5dc3510cd",
        "colab": {
          "base_uri": "https://localhost:8080/",
          "height": 265
        }
      },
      "source": [
        "model = lr.named_steps['logisticregressioncv']\n",
        "encoder = lr.named_steps['ordinalencoder']\n",
        "encoded_columns = encoder.transform(X_val[[feature]]).columns\n",
        "coefficients = pd.Series(model.coef_[0], encoded_columns)\n",
        "coefficients.sort_values().plot.barh(color='grey');"
      ],
      "execution_count": 0,
      "outputs": [
        {
          "output_type": "display_data",
          "data": {
            "image/png": "[encoded data removed]",
            "text/plain": [
              "<Figure size 432x288 with 1 Axes>"
            ]
          },
          "metadata": {
            "tags": []
          }
        }
      ]
    },
    {
      "cell_type": "markdown",
      "metadata": {
        "colab_type": "text",
        "id": "MvmmvE8fsymh"
      },
      "source": [
        "#### Ordinal Encoding, Decision Tree, Model Interpretation"
      ]
    },
    {
      "cell_type": "code",
      "metadata": {
        "colab_type": "code",
        "id": "jCvUu4Oms88b",
        "outputId": "26b0d3ac-4a62-4316-e9eb-30b1d37bd322",
        "colab": {
          "base_uri": "https://localhost:8080/",
          "height": 816
        }
      },
      "source": [
        "model = dt.named_steps['decisiontreeclassifier']\n",
        "encoder = dt.named_steps['ordinalencoder']\n",
        "encoded_columns = encoder.transform(X_val[[feature]]).columns\n",
        "\n",
        "dot_data = export_graphviz(model, \n",
        "                           out_file=None, \n",
        "                           max_depth=5, \n",
        "                           feature_names=encoded_columns,\n",
        "                           class_names=model.classes_, \n",
        "                           impurity=False, \n",
        "                           filled=True, \n",
        "                           proportion=True, \n",
        "                           rounded=True)   \n",
        "display(graphviz.Source(dot_data))"
      ],
      "execution_count": 0,
      "outputs": [
        {
          "output_type": "display_data",
          "data": {
            "text/plain": [
              "<graphviz.files.Source at 0x7f3d5f7480f0>"
            ],
            "image/svg+xml": "<?xml version=\"1.0\" encoding=\"UTF-8\" standalone=\"no\"?>\n<!DOCTYPE svg PUBLIC \"-//W3C//DTD SVG 1.1//EN\"\n \"http://www.w3.org/Graphics/SVG/1.1/DTD/svg11.dtd\">\n<!-- Generated by graphviz version 2.40.1 (20161225.0304)\n -->\n<!-- Title: Tree Pages: 1 -->\n<svg width=\"1167pt\" height=\"581pt\"\n viewBox=\"0.00 0.00 1167.00 581.00\" xmlns=\"http://www.w3.org/2000/svg\" xmlns:xlink=\"http://www.w3.org/1999/xlink\">\n<g id=\"graph0\" class=\"graph\" transform=\"scale(1 1) rotate(0) translate(4 577)\">\n<title>Tree</title>\n<polygon fill=\"#ffffff\" stroke=\"transparent\" points=\"-4,4 -4,-577 1163,-577 1163,4 -4,4\"/>\n<!-- 0 -->\n<g id=\"node1\" class=\"node\">\n<title>0</title>\n<path fill=\"#f8decc\" stroke=\"#000000\" d=\"M500,-573C500,-573 322,-573 322,-573 316,-573 310,-567 310,-561 310,-561 310,-517 310,-517 310,-511 316,-505 322,-505 322,-505 500,-505 500,-505 506,-505 512,-511 512,-517 512,-517 512,-561 512,-561 512,-567 506,-573 500,-573\"/>\n<text text-anchor=\"middle\" x=\"411\" y=\"-557.8\" font-family=\"Helvetica,sans-Serif\" font-size=\"14.00\" fill=\"#000000\">extraction_type_class &lt;= 2.5</text>\n<text text-anchor=\"middle\" x=\"411\" y=\"-542.8\" font-family=\"Helvetica,sans-Serif\" font-size=\"14.00\" fill=\"#000000\">samples = 100.0%</text>\n<text text-anchor=\"middle\" x=\"411\" y=\"-527.8\" font-family=\"Helvetica,sans-Serif\" font-size=\"14.00\" fill=\"#000000\">value = [0.543, 0.073, 0.384]</text>\n<text text-anchor=\"middle\" x=\"411\" y=\"-512.8\" font-family=\"Helvetica,sans-Serif\" font-size=\"14.00\" fill=\"#000000\">class = functional</text>\n</g>\n<!-- 1 -->\n<g id=\"node2\" class=\"node\">\n<title>1</title>\n<path fill=\"#f4c7a8\" stroke=\"#000000\" d=\"M390,-469C390,-469 212,-469 212,-469 206,-469 200,-463 200,-457 200,-457 200,-413 200,-413 200,-407 206,-401 212,-401 212,-401 390,-401 390,-401 396,-401 402,-407 402,-413 402,-413 402,-457 402,-457 402,-463 396,-469 390,-469\"/>\n<text text-anchor=\"middle\" x=\"301\" y=\"-453.8\" font-family=\"Helvetica,sans-Serif\" font-size=\"14.00\" fill=\"#000000\">extraction_type_class &lt;= 1.5</text>\n<text text-anchor=\"middle\" x=\"301\" y=\"-438.8\" font-family=\"Helvetica,sans-Serif\" font-size=\"14.00\" fill=\"#000000\">samples = 72.9%</text>\n<text text-anchor=\"middle\" x=\"301\" y=\"-423.8\" font-family=\"Helvetica,sans-Serif\" font-size=\"14.00\" fill=\"#000000\">value = [0.611, 0.085, 0.304]</text>\n<text text-anchor=\"middle\" x=\"301\" y=\"-408.8\" font-family=\"Helvetica,sans-Serif\" font-size=\"14.00\" fill=\"#000000\">class = functional</text>\n</g>\n<!-- 0&#45;&gt;1 -->\n<g id=\"edge1\" class=\"edge\">\n<title>0&#45;&gt;1</title>\n<path fill=\"none\" stroke=\"#000000\" d=\"M374.9819,-504.9465C365.2954,-495.7884 354.7136,-485.7838 344.6603,-476.2788\"/>\n<polygon fill=\"#000000\" stroke=\"#000000\" points=\"346.7701,-473.4569 337.099,-469.13 341.961,-478.5434 346.7701,-473.4569\"/>\n<text text-anchor=\"middle\" x=\"337.7997\" y=\"-490.4202\" font-family=\"Helvetica,sans-Serif\" font-size=\"14.00\" fill=\"#000000\">True</text>\n</g>\n<!-- 4 -->\n<g id=\"node5\" class=\"node\">\n<title>4</title>\n<path fill=\"#d0b4f5\" stroke=\"#000000\" d=\"M610,-469C610,-469 432,-469 432,-469 426,-469 420,-463 420,-457 420,-457 420,-413 420,-413 420,-407 426,-401 432,-401 432,-401 610,-401 610,-401 616,-401 622,-407 622,-413 622,-413 622,-457 622,-457 622,-463 616,-469 610,-469\"/>\n<text text-anchor=\"middle\" x=\"521\" y=\"-453.8\" font-family=\"Helvetica,sans-Serif\" font-size=\"14.00\" fill=\"#000000\">extraction_type_class &lt;= 3.5</text>\n<text text-anchor=\"middle\" x=\"521\" y=\"-438.8\" font-family=\"Helvetica,sans-Serif\" font-size=\"14.00\" fill=\"#000000\">samples = 27.1%</text>\n<text text-anchor=\"middle\" x=\"521\" y=\"-423.8\" font-family=\"Helvetica,sans-Serif\" font-size=\"14.00\" fill=\"#000000\">value = [0.361, 0.038, 0.601]</text>\n<text text-anchor=\"middle\" x=\"521\" y=\"-408.8\" font-family=\"Helvetica,sans-Serif\" font-size=\"14.00\" fill=\"#000000\">class = non functional</text>\n</g>\n<!-- 0&#45;&gt;4 -->\n<g id=\"edge4\" class=\"edge\">\n<title>0&#45;&gt;4</title>\n<path fill=\"none\" stroke=\"#000000\" d=\"M447.0181,-504.9465C456.7046,-495.7884 467.2864,-485.7838 477.3397,-476.2788\"/>\n<polygon fill=\"#000000\" stroke=\"#000000\" points=\"480.039,-478.5434 484.901,-469.13 475.2299,-473.4569 480.039,-478.5434\"/>\n<text text-anchor=\"middle\" x=\"484.2003\" y=\"-490.4202\" font-family=\"Helvetica,sans-Serif\" font-size=\"14.00\" fill=\"#000000\">False</text>\n</g>\n<!-- 2 -->\n<g id=\"node3\" class=\"node\">\n<title>2</title>\n<path fill=\"#f4c9aa\" stroke=\"#000000\" d=\"M188,-357.5C188,-357.5 12,-357.5 12,-357.5 6,-357.5 0,-351.5 0,-345.5 0,-345.5 0,-316.5 0,-316.5 0,-310.5 6,-304.5 12,-304.5 12,-304.5 188,-304.5 188,-304.5 194,-304.5 200,-310.5 200,-316.5 200,-316.5 200,-345.5 200,-345.5 200,-351.5 194,-357.5 188,-357.5\"/>\n<text text-anchor=\"middle\" x=\"100\" y=\"-342.3\" font-family=\"Helvetica,sans-Serif\" font-size=\"14.00\" fill=\"#000000\">samples = 45.1%</text>\n<text text-anchor=\"middle\" x=\"100\" y=\"-327.3\" font-family=\"Helvetica,sans-Serif\" font-size=\"14.00\" fill=\"#000000\">value = [0.599, 0.101, 0.299]</text>\n<text text-anchor=\"middle\" x=\"100\" y=\"-312.3\" font-family=\"Helvetica,sans-Serif\" font-size=\"14.00\" fill=\"#000000\">class = functional</text>\n</g>\n<!-- 1&#45;&gt;2 -->\n<g id=\"edge2\" class=\"edge\">\n<title>1&#45;&gt;2</title>\n<path fill=\"none\" stroke=\"#000000\" d=\"M235.1851,-400.9465C211.1292,-388.4997 184.0513,-374.4892 160.4827,-362.2946\"/>\n<polygon fill=\"#000000\" stroke=\"#000000\" points=\"161.7878,-359.0291 151.2978,-357.5422 158.571,-365.2462 161.7878,-359.0291\"/>\n</g>\n<!-- 3 -->\n<g id=\"node4\" class=\"node\">\n<title>3</title>\n<path fill=\"#f3c5a3\" stroke=\"#000000\" d=\"M382,-357.5C382,-357.5 230,-357.5 230,-357.5 224,-357.5 218,-351.5 218,-345.5 218,-345.5 218,-316.5 218,-316.5 218,-310.5 224,-304.5 230,-304.5 230,-304.5 382,-304.5 382,-304.5 388,-304.5 394,-310.5 394,-316.5 394,-316.5 394,-345.5 394,-345.5 394,-351.5 388,-357.5 382,-357.5\"/>\n<text text-anchor=\"middle\" x=\"306\" y=\"-342.3\" font-family=\"Helvetica,sans-Serif\" font-size=\"14.00\" fill=\"#000000\">samples = 27.7%</text>\n<text text-anchor=\"middle\" x=\"306\" y=\"-327.3\" font-family=\"Helvetica,sans-Serif\" font-size=\"14.00\" fill=\"#000000\">value = [0.63, 0.06, 0.31]</text>\n<text text-anchor=\"middle\" x=\"306\" y=\"-312.3\" font-family=\"Helvetica,sans-Serif\" font-size=\"14.00\" fill=\"#000000\">class = functional</text>\n</g>\n<!-- 1&#45;&gt;3 -->\n<g id=\"edge3\" class=\"edge\">\n<title>1&#45;&gt;3</title>\n<path fill=\"none\" stroke=\"#000000\" d=\"M302.6372,-400.9465C303.1509,-390.2621 303.7199,-378.4254 304.2416,-367.5742\"/>\n<polygon fill=\"#000000\" stroke=\"#000000\" points=\"307.7396,-367.6987 304.7239,-357.5422 300.7477,-367.3625 307.7396,-367.6987\"/>\n</g>\n<!-- 5 -->\n<g id=\"node6\" class=\"node\">\n<title>5</title>\n<path fill=\"#9d66eb\" stroke=\"#000000\" d=\"M601,-357.5C601,-357.5 433,-357.5 433,-357.5 427,-357.5 421,-351.5 421,-345.5 421,-345.5 421,-316.5 421,-316.5 421,-310.5 427,-304.5 433,-304.5 433,-304.5 601,-304.5 601,-304.5 607,-304.5 613,-310.5 613,-316.5 613,-316.5 613,-345.5 613,-345.5 613,-351.5 607,-357.5 601,-357.5\"/>\n<text text-anchor=\"middle\" x=\"517\" y=\"-342.3\" font-family=\"Helvetica,sans-Serif\" font-size=\"14.00\" fill=\"#000000\">samples = 10.9%</text>\n<text text-anchor=\"middle\" x=\"517\" y=\"-327.3\" font-family=\"Helvetica,sans-Serif\" font-size=\"14.00\" fill=\"#000000\">value = [0.159, 0.031, 0.81]</text>\n<text text-anchor=\"middle\" x=\"517\" y=\"-312.3\" font-family=\"Helvetica,sans-Serif\" font-size=\"14.00\" fill=\"#000000\">class = non functional</text>\n</g>\n<!-- 4&#45;&gt;5 -->\n<g id=\"edge5\" class=\"edge\">\n<title>4&#45;&gt;5</title>\n<path fill=\"none\" stroke=\"#000000\" d=\"M519.6903,-400.9465C519.2793,-390.2621 518.8241,-378.4254 518.4067,-367.5742\"/>\n<polygon fill=\"#000000\" stroke=\"#000000\" points=\"521.9027,-367.4002 518.0209,-357.5422 514.9079,-367.6693 521.9027,-367.4002\"/>\n</g>\n<!-- 6 -->\n<g id=\"node7\" class=\"node\">\n<title>6</title>\n<path fill=\"#fdf7f2\" stroke=\"#000000\" d=\"M821,-365C821,-365 643,-365 643,-365 637,-365 631,-359 631,-353 631,-353 631,-309 631,-309 631,-303 637,-297 643,-297 643,-297 821,-297 821,-297 827,-297 833,-303 833,-309 833,-309 833,-353 833,-353 833,-359 827,-365 821,-365\"/>\n<text text-anchor=\"middle\" x=\"732\" y=\"-349.8\" font-family=\"Helvetica,sans-Serif\" font-size=\"14.00\" fill=\"#000000\">extraction_type_class &lt;= 4.5</text>\n<text text-anchor=\"middle\" x=\"732\" y=\"-334.8\" font-family=\"Helvetica,sans-Serif\" font-size=\"14.00\" fill=\"#000000\">samples = 16.2%</text>\n<text text-anchor=\"middle\" x=\"732\" y=\"-319.8\" font-family=\"Helvetica,sans-Serif\" font-size=\"14.00\" fill=\"#000000\">value = [0.497, 0.043, 0.46]</text>\n<text text-anchor=\"middle\" x=\"732\" y=\"-304.8\" font-family=\"Helvetica,sans-Serif\" font-size=\"14.00\" fill=\"#000000\">class = functional</text>\n</g>\n<!-- 4&#45;&gt;6 -->\n<g id=\"edge6\" class=\"edge\">\n<title>4&#45;&gt;6</title>\n<path fill=\"none\" stroke=\"#000000\" d=\"M590.0893,-400.9465C610.4002,-390.9354 632.7633,-379.9129 653.6112,-369.6371\"/>\n<polygon fill=\"#000000\" stroke=\"#000000\" points=\"655.3332,-372.6905 662.7555,-365.13 652.2385,-366.4117 655.3332,-372.6905\"/>\n</g>\n<!-- 7 -->\n<g id=\"node8\" class=\"node\">\n<title>7</title>\n<path fill=\"#d8c1f7\" stroke=\"#000000\" d=\"M710,-253.5C710,-253.5 534,-253.5 534,-253.5 528,-253.5 522,-247.5 522,-241.5 522,-241.5 522,-212.5 522,-212.5 522,-206.5 528,-200.5 534,-200.5 534,-200.5 710,-200.5 710,-200.5 716,-200.5 722,-206.5 722,-212.5 722,-212.5 722,-241.5 722,-241.5 722,-247.5 716,-253.5 710,-253.5\"/>\n<text text-anchor=\"middle\" x=\"622\" y=\"-238.3\" font-family=\"Helvetica,sans-Serif\" font-size=\"14.00\" fill=\"#000000\">samples = 5.0%</text>\n<text text-anchor=\"middle\" x=\"622\" y=\"-223.3\" font-family=\"Helvetica,sans-Serif\" font-size=\"14.00\" fill=\"#000000\">value = [0.381, 0.045, 0.574]</text>\n<text text-anchor=\"middle\" x=\"622\" y=\"-208.3\" font-family=\"Helvetica,sans-Serif\" font-size=\"14.00\" fill=\"#000000\">class = non functional</text>\n</g>\n<!-- 6&#45;&gt;7 -->\n<g id=\"edge7\" class=\"edge\">\n<title>6&#45;&gt;7</title>\n<path fill=\"none\" stroke=\"#000000\" d=\"M695.9819,-296.9465C683.6325,-285.2707 669.8278,-272.219 657.5183,-260.5809\"/>\n<polygon fill=\"#000000\" stroke=\"#000000\" points=\"659.7445,-257.869 650.0734,-253.5422 654.9354,-262.9556 659.7445,-257.869\"/>\n</g>\n<!-- 8 -->\n<g id=\"node9\" class=\"node\">\n<title>8</title>\n<path fill=\"#f9e2d1\" stroke=\"#000000\" d=\"M930,-261C930,-261 752,-261 752,-261 746,-261 740,-255 740,-249 740,-249 740,-205 740,-205 740,-199 746,-193 752,-193 752,-193 930,-193 930,-193 936,-193 942,-199 942,-205 942,-205 942,-249 942,-249 942,-255 936,-261 930,-261\"/>\n<text text-anchor=\"middle\" x=\"841\" y=\"-245.8\" font-family=\"Helvetica,sans-Serif\" font-size=\"14.00\" fill=\"#000000\">extraction_type_class &lt;= 5.5</text>\n<text text-anchor=\"middle\" x=\"841\" y=\"-230.8\" font-family=\"Helvetica,sans-Serif\" font-size=\"14.00\" fill=\"#000000\">samples = 11.2%</text>\n<text text-anchor=\"middle\" x=\"841\" y=\"-215.8\" font-family=\"Helvetica,sans-Serif\" font-size=\"14.00\" fill=\"#000000\">value = [0.548, 0.042, 0.41]</text>\n<text text-anchor=\"middle\" x=\"841\" y=\"-200.8\" font-family=\"Helvetica,sans-Serif\" font-size=\"14.00\" fill=\"#000000\">class = functional</text>\n</g>\n<!-- 6&#45;&gt;8 -->\n<g id=\"edge8\" class=\"edge\">\n<title>6&#45;&gt;8</title>\n<path fill=\"none\" stroke=\"#000000\" d=\"M767.6907,-296.9465C777.2891,-287.7884 787.7747,-277.7838 797.7366,-268.2788\"/>\n<polygon fill=\"#000000\" stroke=\"#000000\" points=\"800.4102,-270.5655 805.2291,-261.13 795.5779,-265.5009 800.4102,-270.5655\"/>\n</g>\n<!-- 9 -->\n<g id=\"node10\" class=\"node\">\n<title>9</title>\n<path fill=\"#f9e4d5\" stroke=\"#000000\" d=\"M819,-149.5C819,-149.5 643,-149.5 643,-149.5 637,-149.5 631,-143.5 631,-137.5 631,-137.5 631,-108.5 631,-108.5 631,-102.5 637,-96.5 643,-96.5 643,-96.5 819,-96.5 819,-96.5 825,-96.5 831,-102.5 831,-108.5 831,-108.5 831,-137.5 831,-137.5 831,-143.5 825,-149.5 819,-149.5\"/>\n<text text-anchor=\"middle\" x=\"731\" y=\"-134.3\" font-family=\"Helvetica,sans-Serif\" font-size=\"14.00\" fill=\"#000000\">samples = 10.3%</text>\n<text text-anchor=\"middle\" x=\"731\" y=\"-119.3\" font-family=\"Helvetica,sans-Serif\" font-size=\"14.00\" fill=\"#000000\">value = [0.541, 0.042, 0.416]</text>\n<text text-anchor=\"middle\" x=\"731\" y=\"-104.3\" font-family=\"Helvetica,sans-Serif\" font-size=\"14.00\" fill=\"#000000\">class = functional</text>\n</g>\n<!-- 8&#45;&gt;9 -->\n<g id=\"edge9\" class=\"edge\">\n<title>8&#45;&gt;9</title>\n<path fill=\"none\" stroke=\"#000000\" d=\"M804.9819,-192.9465C792.6325,-181.2707 778.8278,-168.219 766.5183,-156.5809\"/>\n<polygon fill=\"#000000\" stroke=\"#000000\" points=\"768.7445,-153.869 759.0734,-149.5422 763.9354,-158.9556 768.7445,-153.869\"/>\n</g>\n<!-- 10 -->\n<g id=\"node11\" class=\"node\">\n<title>10</title>\n<path fill=\"#f4cbad\" stroke=\"#000000\" d=\"M1039,-157C1039,-157 861,-157 861,-157 855,-157 849,-151 849,-145 849,-145 849,-101 849,-101 849,-95 855,-89 861,-89 861,-89 1039,-89 1039,-89 1045,-89 1051,-95 1051,-101 1051,-101 1051,-145 1051,-145 1051,-151 1045,-157 1039,-157\"/>\n<text text-anchor=\"middle\" x=\"950\" y=\"-141.8\" font-family=\"Helvetica,sans-Serif\" font-size=\"14.00\" fill=\"#000000\">extraction_type_class &lt;= 6.5</text>\n<text text-anchor=\"middle\" x=\"950\" y=\"-126.8\" font-family=\"Helvetica,sans-Serif\" font-size=\"14.00\" fill=\"#000000\">samples = 0.9%</text>\n<text text-anchor=\"middle\" x=\"950\" y=\"-111.8\" font-family=\"Helvetica,sans-Serif\" font-size=\"14.00\" fill=\"#000000\">value = [0.614, 0.043, 0.343]</text>\n<text text-anchor=\"middle\" x=\"950\" y=\"-96.8\" font-family=\"Helvetica,sans-Serif\" font-size=\"14.00\" fill=\"#000000\">class = functional</text>\n</g>\n<!-- 8&#45;&gt;10 -->\n<g id=\"edge10\" class=\"edge\">\n<title>8&#45;&gt;10</title>\n<path fill=\"none\" stroke=\"#000000\" d=\"M876.6907,-192.9465C886.2891,-183.7884 896.7747,-173.7838 906.7366,-164.2788\"/>\n<polygon fill=\"#000000\" stroke=\"#000000\" points=\"909.4102,-166.5655 914.2291,-157.13 904.5779,-161.5009 909.4102,-166.5655\"/>\n</g>\n<!-- 11 -->\n<g id=\"node12\" class=\"node\">\n<title>11</title>\n<path fill=\"#f2bf9b\" stroke=\"#000000\" d=\"M929,-53C929,-53 753,-53 753,-53 747,-53 741,-47 741,-41 741,-41 741,-12 741,-12 741,-6 747,0 753,0 753,0 929,0 929,0 935,0 941,-6 941,-12 941,-12 941,-41 941,-41 941,-47 935,-53 929,-53\"/>\n<text text-anchor=\"middle\" x=\"841\" y=\"-37.8\" font-family=\"Helvetica,sans-Serif\" font-size=\"14.00\" fill=\"#000000\">samples = 0.7%</text>\n<text text-anchor=\"middle\" x=\"841\" y=\"-22.8\" font-family=\"Helvetica,sans-Serif\" font-size=\"14.00\" fill=\"#000000\">value = [0.657, 0.037, 0.306]</text>\n<text text-anchor=\"middle\" x=\"841\" y=\"-7.8\" font-family=\"Helvetica,sans-Serif\" font-size=\"14.00\" fill=\"#000000\">class = functional</text>\n</g>\n<!-- 10&#45;&gt;11 -->\n<g id=\"edge11\" class=\"edge\">\n<title>10&#45;&gt;11</title>\n<path fill=\"none\" stroke=\"#000000\" d=\"M911.5707,-88.9777C900.9173,-79.546 889.3641,-69.3178 878.7499,-59.9208\"/>\n<polygon fill=\"#000000\" stroke=\"#000000\" points=\"881.0207,-57.2566 871.2133,-53.2485 876.3806,-62.4978 881.0207,-57.2566\"/>\n</g>\n<!-- 12 -->\n<g id=\"node13\" class=\"node\">\n<title>12</title>\n<path fill=\"#f8f3fd\" stroke=\"#000000\" d=\"M1147,-53C1147,-53 971,-53 971,-53 965,-53 959,-47 959,-41 959,-41 959,-12 959,-12 959,-6 965,0 971,0 971,0 1147,0 1147,0 1153,0 1159,-6 1159,-12 1159,-12 1159,-41 1159,-41 1159,-47 1153,-53 1147,-53\"/>\n<text text-anchor=\"middle\" x=\"1059\" y=\"-37.8\" font-family=\"Helvetica,sans-Serif\" font-size=\"14.00\" fill=\"#000000\">samples = 0.2%</text>\n<text text-anchor=\"middle\" x=\"1059\" y=\"-22.8\" font-family=\"Helvetica,sans-Serif\" font-size=\"14.00\" fill=\"#000000\">value = [0.452, 0.065, 0.484]</text>\n<text text-anchor=\"middle\" x=\"1059\" y=\"-7.8\" font-family=\"Helvetica,sans-Serif\" font-size=\"14.00\" fill=\"#000000\">class = non functional</text>\n</g>\n<!-- 10&#45;&gt;12 -->\n<g id=\"edge12\" class=\"edge\">\n<title>10&#45;&gt;12</title>\n<path fill=\"none\" stroke=\"#000000\" d=\"M988.4293,-88.9777C999.0827,-79.546 1010.6359,-69.3178 1021.2501,-59.9208\"/>\n<polygon fill=\"#000000\" stroke=\"#000000\" points=\"1023.6194,-62.4978 1028.7867,-53.2485 1018.9793,-57.2566 1023.6194,-62.4978\"/>\n</g>\n</g>\n</svg>\n"
          },
          "metadata": {
            "tags": []
          }
        }
      ]
    },
    {
      "cell_type": "markdown",
      "metadata": {
        "colab_type": "text",
        "id": "P4EJi2GvgLVa"
      },
      "source": [
        "# Understand how tree ensembles reduce overfitting compared to a single decision tree with unlimited depth"
      ]
    },
    {
      "cell_type": "markdown",
      "metadata": {
        "id": "0tsWll1Tobkb",
        "colab_type": "text"
      },
      "source": [
        "## Overview"
      ]
    },
    {
      "cell_type": "markdown",
      "metadata": {
        "colab_type": "text",
        "id": "0nNABF3HgLVg"
      },
      "source": [
        "### What's \"random\" about random forests?\n",
        "1. Each tree trains on a random bootstrap sample of the data. (In scikit-learn, for `RandomForestRegressor` and `RandomForestClassifier`, the `bootstrap` parameter's default is `True`.) This type of ensembling is called Bagging. (Bootstrap AGGregatING.)\n",
        "2. Each split considers a random subset of the features. (In scikit-learn, when the `max_features` parameter is not `None`.) \n",
        "\n",
        "For extra randomness, you can try [\"extremely randomized trees\"](https://scikit-learn.org/stable/modules/ensemble.html#extremely-randomized-trees)!\n",
        "\n",
        ">In extremely randomized trees (see [ExtraTreesClassifier](https://scikit-learn.org/stable/modules/generated/sklearn.ensemble.ExtraTreesClassifier.html) and [ExtraTreesRegressor](https://scikit-learn.org/stable/modules/generated/sklearn.ensemble.ExtraTreesRegressor.html) classes), randomness goes one step further in the way splits are computed. As in random forests, a random subset of candidate features is used, but instead of looking for the most discriminative thresholds, thresholds are drawn at random for each candidate feature and the best of these randomly-generated thresholds is picked as the splitting rule. This usually allows to reduce the variance of the model a bit more, at the expense of a slightly greater increase in bias"
      ]
    },
    {
      "cell_type": "markdown",
      "metadata": {
        "id": "AksfcdNPobkc",
        "colab_type": "text"
      },
      "source": [
        "## Follow Along"
      ]
    },
    {
      "cell_type": "markdown",
      "metadata": {
        "colab_type": "text",
        "id": "pUYP619CgLVb"
      },
      "source": [
        "### Example: [predicting golf putts](https://statmodeling.stat.columbia.edu/2008/12/04/the_golf_puttin/)\n",
        "(1 feature, non-linear, regression)"
      ]
    },
    {
      "cell_type": "code",
      "metadata": {
        "colab_type": "code",
        "id": "b4640ukxgLVc",
        "colab": {}
      },
      "source": [
        "putts = pd.DataFrame(\n",
        "    columns=['distance', 'tries', 'successes'], \n",
        "    data = [[2, 1443, 1346],\n",
        "            [3, 694, 577],\n",
        "            [4, 455, 337],\n",
        "            [5, 353, 208],\n",
        "            [6, 272, 149],\n",
        "            [7, 256, 136],\n",
        "            [8, 240, 111],\n",
        "            [9, 217, 69],\n",
        "            [10, 200, 67],\n",
        "            [11, 237, 75],\n",
        "            [12, 202, 52],\n",
        "            [13, 192, 46],\n",
        "            [14, 174, 54],\n",
        "            [15, 167, 28],\n",
        "            [16, 201, 27],\n",
        "            [17, 195, 31],\n",
        "            [18, 191, 33],\n",
        "            [19, 147, 20],\n",
        "            [20, 152, 24]]\n",
        ")\n",
        "\n",
        "putts['rate of success'] = putts['successes'] / putts['tries']\n",
        "putts_X = putts[['distance']]\n",
        "putts_y = putts['rate of success']"
      ],
      "execution_count": 0,
      "outputs": []
    },
    {
      "cell_type": "code",
      "metadata": {
        "colab_type": "code",
        "id": "T0IpCcKggLVd",
        "outputId": "8dece5f8-b415-43ea-e645-eb0eacf89406",
        "colab": {
          "base_uri": "https://localhost:8080/",
          "height": 637,
          "referenced_widgets": [
            "b4a6765070d3484ea834eaa9de2f93ff",
            "6f8d722d1107456baf619dbfa4a01ba6",
            "0fcc440aad8a4c518d26f94dd300f23d",
            "192d09366cf74411870e1d14185f27e2",
            "a2c5a34fc8304005a0b3c38f657ab8d9",
            "5c000c09a31749bdad7eb60a16f02f3f",
            "5fd51daf0ea0464595d05057bd7d1d0e",
            "2e25c7ddf40b4d43b7099c8be309af9a",
            "ec7135d7611f4d688c48fba4189f52ea"
          ]
        }
      },
      "source": [
        "%matplotlib inline\n",
        "import matplotlib.pyplot as plt\n",
        "from ipywidgets import interact\n",
        "from sklearn.ensemble import RandomForestRegressor\n",
        "from sklearn.tree import DecisionTreeRegressor\n",
        "\n",
        "def putt_trees(max_depth=1, n_estimators=1):\n",
        "    models = [DecisionTreeRegressor(max_depth=max_depth), \n",
        "              RandomForestRegressor(max_depth=max_depth, n_estimators=n_estimators)]\n",
        "    \n",
        "    for model in models:\n",
        "        name = model.__class__.__name__\n",
        "        model.fit(putts_X, putts_y)\n",
        "        ax = putts.plot('distance', 'rate of success', kind='scatter', title=name)\n",
        "        ax.step(putts_X, model.predict(putts_X), where='mid')\n",
        "        plt.show()\n",
        "        \n",
        "interact(putt_trees, max_depth=(1,6,1), n_estimators=(10,40,10));"
      ],
      "execution_count": 0,
      "outputs": [
        {
          "output_type": "display_data",
          "data": {
            "application/vnd.jupyter.widget-view+json": {
              "model_id": "b4a6765070d3484ea834eaa9de2f93ff",
              "version_minor": 0,
              "version_major": 2
            },
            "text/plain": [
              "interactive(children=(IntSlider(value=1, description='max_depth', max=6, min=1), IntSlider(value=10, descripti…"
            ]
          },
          "metadata": {
            "tags": []
          }
        }
      ]
    },
    {
      "cell_type": "markdown",
      "metadata": {
        "colab_type": "text",
        "id": "_KgZK9_9gLVh"
      },
      "source": [
        "### Bagging demo, with golf putts data\n",
        "https://pandas.pydata.org/pandas-docs/stable/reference/api/pandas.DataFrame.sample.html"
      ]
    },
    {
      "cell_type": "code",
      "metadata": {
        "colab_type": "code",
        "id": "vA9mrSTNgLVi",
        "scrolled": false,
        "outputId": "a2c3fc59-5e90-41d9-c545-faf4e65a40dd",
        "colab": {
          "base_uri": "https://localhost:8080/",
          "height": 915,
          "referenced_widgets": [
            "4e5266cda10a4f80b4a3e7c0a6f49dc2",
            "0a38b10d96344df5b8d699255eb9e8c9",
            "5433423adf104b60ae3e419f966f9db7",
            "3cb51c761d234027941d13bb0d8ada7d",
            "4ec47d2b77e740748cce81015a5c5d1c",
            "09df72ac86a24e50a00179b47aeca05b",
            "b718310e07564edba47eea1363167e47",
            "8b535857f07f480e86d0a63f906b08ec",
            "50b8c3a4b8ef42bc9e8d6688db7b139f"
          ]
        }
      },
      "source": [
        "# Do-it-yourself Bagging Ensemble of Decision Trees (like a Random Forest)\n",
        "def diy_bagging(max_depth=1, n_estimators=1):\n",
        "    y_preds = []\n",
        "    for i in range(n_estimators):\n",
        "        title = f'Tree {i+1}'\n",
        "        bootstrap_sample = putts.sample(n=len(putts), replace=True).sort_values(by='distance')\n",
        "        bootstrap_X = bootstrap_sample[['distance']]\n",
        "        bootstrap_y = bootstrap_sample['rate of success']\n",
        "        tree = DecisionTreeRegressor(max_depth=max_depth)\n",
        "        tree.fit(bootstrap_X, bootstrap_y)\n",
        "        y_pred = tree.predict(bootstrap_X)\n",
        "        y_preds.append(y_pred)\n",
        "        ax = bootstrap_sample.plot('distance', 'rate of success', kind='scatter', title=title)\n",
        "        ax.step(bootstrap_X, y_pred, where='mid')\n",
        "        plt.show()\n",
        "        \n",
        "    ensembled = np.vstack(y_preds).mean(axis=0)\n",
        "    title = f'Ensemble of {n_estimators} trees, with max_depth={max_depth}'\n",
        "    ax = putts.plot('distance', 'rate of success', kind='scatter', title=title)\n",
        "    ax.step(putts_X, ensembled, where='mid')\n",
        "    plt.show()\n",
        "    \n",
        "interact(diy_bagging, max_depth=(1,6,1), n_estimators=(2,5,1));"
      ],
      "execution_count": 0,
      "outputs": [
        {
          "output_type": "display_data",
          "data": {
            "application/vnd.jupyter.widget-view+json": {
              "model_id": "4e5266cda10a4f80b4a3e7c0a6f49dc2",
              "version_minor": 0,
              "version_major": 2
            },
            "text/plain": [
              "interactive(children=(IntSlider(value=1, description='max_depth', max=6, min=1), IntSlider(value=2, descriptio…"
            ]
          },
          "metadata": {
            "tags": []
          }
        }
      ]
    },
    {
      "cell_type": "markdown",
      "metadata": {
        "colab_type": "text",
        "id": "rq4Z_wQ_gLVj"
      },
      "source": [
        "### Go back to Tanzania Waterpumps ..."
      ]
    },
    {
      "cell_type": "markdown",
      "metadata": {
        "colab_type": "text",
        "id": "FoSE9iT6YXQz"
      },
      "source": [
        "#### Helper function to visualize predicted probabilities\n",
        "\n"
      ]
    },
    {
      "cell_type": "code",
      "metadata": {
        "colab_type": "code",
        "id": "HzIAjGpJgLVj",
        "colab": {}
      },
      "source": [
        "import itertools\n",
        "import seaborn as sns\n",
        "\n",
        "def pred_heatmap(model, X, features, class_index=-1, title='', num=100):\n",
        "    \"\"\"\n",
        "    Visualize predicted probabilities, for classifier fit on 2 numeric features\n",
        "    \n",
        "    Parameters\n",
        "    ----------\n",
        "    model : scikit-learn classifier, already fit\n",
        "    X : pandas dataframe, which was used to fit model\n",
        "    features : list of strings, column names of the 2 numeric features\n",
        "    class_index : integer, index of class label\n",
        "    title : string, title of plot\n",
        "    num : int, number of grid points for each feature\n",
        "    \n",
        "    Returns\n",
        "    -------\n",
        "    y_pred_proba : numpy array, predicted probabilities for class_index\n",
        "    \"\"\"\n",
        "    feature1, feature2 = features\n",
        "    min1, max1 = X[feature1].min(), X[feature1].max()\n",
        "    min2, max2 = X[feature2].min(), X[feature2].max()\n",
        "    x1 = np.linspace(min1, max1, num)\n",
        "    x2 = np.linspace(max2, min2, num)\n",
        "    combos = list(itertools.product(x1, x2))\n",
        "    y_pred_proba = model.predict_proba(combos)[:, class_index]\n",
        "    pred_grid = y_pred_proba.reshape(num, num).T\n",
        "    table = pd.DataFrame(pred_grid, columns=x1, index=x2)\n",
        "    sns.heatmap(table, vmin=0, vmax=1)\n",
        "    plt.xticks([])\n",
        "    plt.yticks([])\n",
        "    plt.xlabel(feature1)\n",
        "    plt.ylabel(feature2)\n",
        "    plt.title(title)\n",
        "    plt.show()\n",
        "    return y_pred_proba\n"
      ],
      "execution_count": 0,
      "outputs": []
    },
    {
      "cell_type": "markdown",
      "metadata": {
        "colab_type": "text",
        "id": "DiRfPqHjgLVl"
      },
      "source": [
        "### Compare Decision Tree, Random Forest, Logistic Regression"
      ]
    },
    {
      "cell_type": "code",
      "metadata": {
        "colab_type": "code",
        "id": "HKkMLXhMgLVl",
        "outputId": "19b610ba-5ef5-4c4a-d5bf-1a5756c5d255",
        "colab": {
          "base_uri": "https://localhost:8080/",
          "height": 864,
          "referenced_widgets": [
            "69865b1e4d764a27985770574b38bb41",
            "a2d463ec57ea4071b8597172a1670a59",
            "dbe1edf8d6104f1dbf6e3e376730ae79",
            "1840d167795b43d3b92cf265838e212d",
            "e758778770eb40ebaa7b7cd2f8574e7b",
            "61dbb4516f824153b81b95627972ed06",
            "61dda0b9245140e28da5e1fd2e4a0e31",
            "099d06ecd3744e16b9f2f6644915fe7f",
            "30a06457e6304b18b9ed05689400c026"
          ]
        }
      },
      "source": [
        "# Instructions\n",
        "# 1. Choose two features\n",
        "# 2. Run this code cell\n",
        "# 3. Interact with the widget sliders\n",
        "feature1 = 'longitude'\n",
        "feature2 = 'quantity'\n",
        "\n",
        "from sklearn.linear_model import LogisticRegression\n",
        "from sklearn.tree import DecisionTreeClassifier\n",
        "\n",
        "def get_X_y(df, feature1, feature2, target):\n",
        "    features = [feature1, feature2]\n",
        "    X = df[features]\n",
        "    y = df[target]\n",
        "    X = X.fillna(X.median())\n",
        "    X = ce.OrdinalEncoder().fit_transform(X)\n",
        "    return X, y\n",
        "\n",
        "def compare_models(max_depth=1, n_estimators=1):\n",
        "    models = [DecisionTreeClassifier(max_depth=max_depth), \n",
        "              RandomForestClassifier(max_depth=max_depth, n_estimators=n_estimators), \n",
        "              LogisticRegression(solver='lbfgs', multi_class='auto')]\n",
        "    \n",
        "    for model in models:\n",
        "        name = model.__class__.__name__\n",
        "        model.fit(X, y)\n",
        "        pred_heatmap(model, X, [feature1, feature2], class_index=0, title=name)\n",
        "\n",
        "X, y = get_X_y(train, feature1, feature2, target='status_group')\n",
        "interact(compare_models, max_depth=(1,6,1), n_estimators=(10,40,10));"
      ],
      "execution_count": 0,
      "outputs": [
        {
          "output_type": "display_data",
          "data": {
            "application/vnd.jupyter.widget-view+json": {
              "model_id": "69865b1e4d764a27985770574b38bb41",
              "version_minor": 0,
              "version_major": 2
            },
            "text/plain": [
              "interactive(children=(IntSlider(value=1, description='max_depth', max=6, min=1), IntSlider(value=10, descripti…"
            ]
          },
          "metadata": {
            "tags": []
          }
        }
      ]
    },
    {
      "cell_type": "markdown",
      "metadata": {
        "colab_type": "text",
        "id": "hOQqjLEDgLVn"
      },
      "source": [
        "### Bagging"
      ]
    },
    {
      "cell_type": "code",
      "metadata": {
        "colab_type": "code",
        "id": "Hm4aPgs2gLVn",
        "outputId": "9dd043a9-1449-4b5e-decf-39928e98eadb",
        "colab": {
          "base_uri": "https://localhost:8080/",
          "height": 864,
          "referenced_widgets": [
            "dfbf03d556394e10a66a66b0e4a72d23",
            "1f3ef349e8dc4f06bb4e9e4ca38ca574",
            "c6175c3c73df44df9bec81c81c1e34a5",
            "30b3d6112f974c028b37802558f9f3dc",
            "e807a252a9f444eea4c6c36a04e26de1",
            "99a3b4c66b274f038aeb6deca952abc6",
            "6f02f4fec680435e8f1f577c8c318fd4",
            "85242108e961490ea1f039647d43ff62",
            "0caeeafda7e74b3dafa89450d5aaccad"
          ]
        }
      },
      "source": [
        "# Do-it-yourself Bagging Ensemble of Decision Trees (like a Random Forest)\n",
        "\n",
        "# Instructions\n",
        "# 1. Choose two features\n",
        "# 2. Run this code cell\n",
        "# 3. Interact with the widget sliders\n",
        "\n",
        "feature1 = 'quantity'\n",
        "feature2 = 'extraction_type_group'\n",
        "\n",
        "def waterpumps_bagging(max_depth=1, n_estimators=1):\n",
        "    predicteds = []\n",
        "    for i in range(n_estimators):\n",
        "        title = f'Tree {i+1}'\n",
        "        bootstrap_sample = train.sample(n=len(train), replace=True)\n",
        "        X, y = get_X_y(bootstrap_sample, feature1, feature2, target='status_group')\n",
        "        tree = DecisionTreeClassifier(max_depth=max_depth)\n",
        "        tree.fit(X, y)\n",
        "        predicted = pred_heatmap(tree, X, [feature1, feature2], class_index=0, title=title)\n",
        "        predicteds.append(predicted)\n",
        "    \n",
        "    ensembled = np.vstack(predicteds).mean(axis=0)\n",
        "    title = f'Ensemble of {n_estimators} trees, with max_depth={max_depth}'\n",
        "    sns.heatmap(ensembled.reshape(100, 100).T, vmin=0, vmax=1)\n",
        "    plt.title(title)\n",
        "    plt.xlabel(feature1)\n",
        "    plt.ylabel(feature2)\n",
        "    plt.xticks([])\n",
        "    plt.yticks([])\n",
        "    plt.show()\n",
        "        \n",
        "interact(waterpumps_bagging, max_depth=(1,6,1), n_estimators=(2,5,1));"
      ],
      "execution_count": 0,
      "outputs": [
        {
          "output_type": "display_data",
          "data": {
            "application/vnd.jupyter.widget-view+json": {
              "model_id": "dfbf03d556394e10a66a66b0e4a72d23",
              "version_minor": 0,
              "version_major": 2
            },
            "text/plain": [
              "interactive(children=(IntSlider(value=1, description='max_depth', max=6, min=1), IntSlider(value=2, descriptio…"
            ]
          },
          "metadata": {
            "tags": []
          }
        }
      ]
    },
    {
      "cell_type": "markdown",
      "metadata": {
        "colab_type": "text",
        "id": "wYoSBi15akWP"
      },
      "source": [
        "# Review\n",
        "\n",
        "#### Try Tree Ensembles when you do machine learning with labeled, tabular data\n",
        "- \"Tree Ensembles\" means Random Forest or Gradient Boosting models. \n",
        "- [Tree Ensembles often have the best predictive accuracy](https://arxiv.org/abs/1708.05070) with labeled, tabular data.\n",
        "- Why? Because trees can fit non-linear, non-[monotonic](https://en.wikipedia.org/wiki/Monotonic_function) relationships, and [interactions](https://christophm.github.io/interpretable-ml-book/interaction.html) between features.\n",
        "- A single decision tree, grown to unlimited depth, will [overfit](http://www.r2d3.us/visual-intro-to-machine-learning-part-1/). We solve this problem by ensembling trees, with bagging (Random Forest) or boosting (Gradient Boosting).\n",
        "- Random Forest's advantage: may be less sensitive to hyperparameters. Gradient Boosting's advantage: may get better predictive accuracy.\n",
        "\n",
        "#### One-hot encoding isn’t the only way, and may not be the best way, of categorical encoding for tree ensembles.\n",
        "- For example, tree ensembles can work with arbitrary \"ordinal\" encoding! (Randomly assigning an integer to each category.) Compared to one-hot encoding, the dimensionality will be lower, and the predictive accuracy may be just as good or even better.\n"
      ]
    },
    {
      "cell_type": "code",
      "metadata": {
        "id": "jRzhv-Y4PFI7",
        "colab_type": "code",
        "colab": {}
      },
      "source": [
        "x = 42\n",
        "\n",
        "x;"
      ],
      "execution_count": 0,
      "outputs": []
    },
    {
      "cell_type": "code",
      "metadata": {
        "id": "w8sa55qKPEiR",
        "colab_type": "code",
        "outputId": "bc899916-8582-4edf-8a4f-84a1adbec04a",
        "colab": {
          "base_uri": "https://localhost:8080/",
          "height": 34
        }
      },
      "source": [
        "x = 43; print('Hello World!')"
      ],
      "execution_count": 0,
      "outputs": [
        {
          "output_type": "stream",
          "text": [
            "Hello World!\n"
          ],
          "name": "stdout"
        }
      ]
    },
    {
      "cell_type": "code",
      "metadata": {
        "id": "DWWHaXdFPHqW",
        "colab_type": "code",
        "outputId": "138d58a9-e1d1-4fca-f2db-6d7024ef9f6c",
        "colab": {
          "base_uri": "https://localhost:8080/",
          "height": 34
        }
      },
      "source": [
        "x"
      ],
      "execution_count": 0,
      "outputs": [
        {
          "output_type": "execute_result",
          "data": {
            "text/plain": [
              "43"
            ]
          },
          "metadata": {
            "tags": []
          },
          "execution_count": 53
        }
      ]
    },
    {
      "cell_type": "code",
      "metadata": {
        "id": "M2udR_UkPXUi",
        "colab_type": "code",
        "colab": {}
      },
      "source": [
        ""
      ],
      "execution_count": 0,
      "outputs": []
    }
  ]
}